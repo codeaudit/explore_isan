{
 "cells": [
  {
   "cell_type": "markdown",
   "metadata": {},
   "source": [
    "This notebook provides an analysisi of the \"ISAN\" network on a parenthesis counting task. For more explanation, please see https://arxiv.org/abs/1611.09434.\n",
    "\n",
    "\n",
    "Please note that this notebok requires a nightly build of tensorflow (it uses some of the upcoming V1.0 API). To run it, please install the latest build running:\n",
    "`pip install https://ci.tensorflow.org/view/Nightly/job/nightly-matrix-linux-gpu/TF_BUILD_IS_OPT=OPT,TF_BUILD_IS_PIP=PIP,TF_BUILD_PYTHON_VERSION=PYTHON2,label=gpu-linux/lastSuccessfulBuild/artifact/pip_test/whl/tensorflow_gpu-0.12.1-cp27-none-linux_x86_64.whl`"
   ]
  },
  {
   "cell_type": "code",
   "execution_count": 27,
   "metadata": {
    "collapsed": true
   },
   "outputs": [],
   "source": [
    "%matplotlib inline"
   ]
  },
  {
   "cell_type": "code",
   "execution_count": 1,
   "metadata": {
    "cellView": "both",
    "colab": {
     "autoexec": {
      "startup": false,
      "wait_interval": 0
     }
    },
    "colab_type": "code",
    "collapsed": false,
    "id": "c3WqYyk51oq1"
   },
   "outputs": [],
   "source": [
    "from __future__ import absolute_import\n",
    "from __future__ import division\n",
    "from __future__ import print_function\n",
    "\n",
    "from matplotlib import pyplot as plt\n",
    "\n",
    "import numpy as np\n",
    "import scipy.linalg\n",
    "\n",
    "import seaborn as sns\n",
    "import tensorflow as tf\n"
   ]
  },
  {
   "cell_type": "code",
   "execution_count": 2,
   "metadata": {
    "collapsed": false
   },
   "outputs": [
    {
     "data": {
      "text/plain": [
       "'0.12.head'"
      ]
     },
     "execution_count": 2,
     "metadata": {},
     "output_type": "execute_result"
    }
   ],
   "source": [
    "tf.__version__"
   ]
  },
  {
   "cell_type": "code",
   "execution_count": 3,
   "metadata": {
    "cellView": null,
    "colab": {
     "autoexec": {
      "startup": false,
      "wait_interval": 0
     }
    },
    "colab_type": "code",
    "collapsed": true,
    "id": "VNlLRICBfTzY"
   },
   "outputs": [],
   "source": [
    "def isan_cell(step_inputs, state, initialization=\"orthogonal\"):\n",
    "  \"\"\"\n",
    "  Make one step of ISAN transition. \n",
    "  \n",
    "  Args:\n",
    "    step_inputs: one-hot encoded inputs, shape bs x n\n",
    "    state: previous hidden state, shape bs x d\n",
    "    initialization: how to initialize the transition matrices:\n",
    "      orthogonal: usually speeds up training, orthogonalize Gaussian matrices\n",
    "      gaussian: sample gaussian matrices with a sensible scale\n",
    "    \n",
    "  \"\"\"\n",
    "  \n",
    "  bs, d = state.get_shape().as_list()\n",
    "  n = step_inputs.shape[1].value\n",
    "  \n",
    "  with tf.variable_scope('isan_cell', values=[step_inputs, state]) as sc:\n",
    "    \n",
    "    if initialization == \"orthogonal\":\n",
    "      Wx_ndd_init = np.zeros((n, d*d), dtype=np.float32)\n",
    "      for i in range(n):\n",
    "        Wx_ndd_init[i, :] = scipy.linalg.orth(\n",
    "            np.random.randn(d, d)).astype(np.float32).ravel()\n",
    "      Wx_ndd_initializer = tf.constant_initializer(Wx_ndd_init)\n",
    "    elif initialization == \"gaussian\":\n",
    "      Wx_ndd_initializer = tf.random_normal_initializer(stdev = 1.0/np.sqrt(d))\n",
    "    else:\n",
    "      raise Exception(\"Unknown init type: %s\" % (initialization))\n",
    "    \n",
    "    \n",
    "    Wx_ndd = tf.get_variable('Wx', shape=[n, d*d],\n",
    "                            initializer=Wx_ndd_initializer)\n",
    "    bx_nd = tf.get_variable('bx', shape=[n, d], \n",
    "                            initializer=tf.zeros_initializer())\n",
    "    \n",
    "    # Multiplication with a 1-hot is just row selection.\n",
    "    # As of Jan '17 this is faster than doing gather.\n",
    "    Wx_bdd = tf.reshape(tf.matmul(step_inputs, Wx_ndd), [bs, d, d])\n",
    "    bx_bd = tf.reshape(tf.matmul(step_inputs, bx_nd), [bs, 1, d])\n",
    "    \n",
    "    # Reshape the state so that matmul multiplies different matrices\n",
    "    # for each batch element.\n",
    "    state = tf.reshape(state, [bs, 1, d])\n",
    "    new_state = tf.reshape(tf.matmul(state, Wx_bdd) + bx_bd, [bs, d])\n",
    "  return new_state\n",
    "\n",
    "\n",
    "def isan_rnn(inputs, n_tokens, dim):\n",
    "  \"\"\"\n",
    "  Unroll in time the ISAN cell.\n",
    "  \n",
    "  Args:\n",
    "    inputs: t x bs int32 array of token ids over t timesteps\n",
    "    n_tokens: maximal token id seen on input\n",
    "    \n",
    "  Returns:\n",
    "    t x bs x d tensor of states of the ISAN cell\n",
    "  \"\"\"\n",
    "  one_hot_inputs = tf.one_hot(inputs, n_tokens, axis=-1)\n",
    "  num_steps, bs = inputs.get_shape().as_list()\n",
    "  with tf.variable_scope(\"rnn\", values=[inputs]) as sc:\n",
    "    h0 = tf.get_variable(\"h0\", shape=[1, dim],\n",
    "                         initializer=tf.zeros_initializer())\n",
    "    state = tf.tile(h0, [bs, 1])\n",
    "    step_states = []\n",
    "    for step_inputs in tf.unstack(one_hot_inputs):\n",
    "      state = isan_cell(step_inputs, state)\n",
    "      step_states.append(state)\n",
    "      sc.reuse_variables()\n",
    "  return tf.stack(step_states)\n",
    "\n",
    "\n",
    "class ISAN(object):\n",
    "  def __init__(self, n_tokens, hidden_dim, target_dim):\n",
    "    self.n_tokens = n_tokens\n",
    "    self.hidden_dim = hidden_dim\n",
    "    self.target_dim = target_dim\n",
    "  \n",
    "  def fprop(self, inputs):\n",
    "    with tf.variable_scope(\"model\", values=[inputs]):\n",
    "      states = isan_rnn(inputs, self.n_tokens, self.hidden_dim)\n",
    "      Wo = tf.get_variable(\"Wo\", shape=[self.hidden_dim, self.target_dim],\n",
    "                          initializer=tf.random_normal_initializer(\n",
    "                              stddev=1.0/(self.hidden_dim + self.target_dim)**2))\n",
    "      bo = tf.get_variable(\"bo\", shape=[1, self.target_dim],\n",
    "                          initializer=tf.zeros_initializer())\n",
    "\n",
    "      t, bs = inputs.get_shape().as_list()\n",
    "      logits = tf.matmul(tf.reshape(states, [t * bs, self.hidden_dim]), Wo) + bo\n",
    "      logits = tf.reshape(logits, [t, bs, self.target_dim])\n",
    "    return logits\n",
    "\n",
    "class ParenthesisTask(object):\n",
    "  def __init__(self, max_count=5, implied_activation_fn=\"softmax\"):\n",
    "    \"\"\"\n",
    "    Saturating count number of non-closed parenthesis.\n",
    "    \n",
    "    Args:\n",
    "      max_count: level at which outstanding opening parenthesis stop being added\n",
    "      implied_activation_fn: how is the output of the netowkr interpreted:\n",
    "        - softmax: treat it as logits, train via neg-log likelihood minimization\n",
    "        - identity: treat it as probabilites, train via least-squares\n",
    "    \"\"\"\n",
    "    self.max_count = max_count\n",
    "    self.implied_activation_fn = implied_activation_fn\n",
    "    self.parens = \"()[]{}\"\n",
    "    self.n_paren_types = len(self.parens) // 2\n",
    "    self.noises = \"a\"\n",
    "    \n",
    "    self.id_to_token = self.parens + self.noises\n",
    "    self.token_to_id = {t:i for i,t in enumerate(self.id_to_token)}\n",
    "    \n",
    "    self.n_tokens = len(self.id_to_token)\n",
    "    self.n_outputs = self.n_paren_types * (self.max_count + 1)\n",
    "    \n",
    "  def sample_batch(self, t, bs):\n",
    "    inputs = (np.random.rand(t, bs)* len(self.id_to_token)).astype(np.int32)\n",
    "    counts = np.zeros((bs, self.n_paren_types), dtype=np.int32)\n",
    "    targets = np.zeros((t, bs, self.n_paren_types), dtype = np.int32)\n",
    "    opening_parens = (np.arange(0, self.n_paren_types)*2)[None, :]\n",
    "    closing_parens = opening_parens + 1\n",
    "    for i in range(t):\n",
    "      opened = np.equal(inputs[i, :, None], opening_parens)\n",
    "      counts = np.minimum(self.max_count, counts + opened)\n",
    "      closed = np.equal(inputs[i, :, None], closing_parens)\n",
    "      counts = np.maximum(0, counts - closed)\n",
    "      targets[i, :, :] = counts\n",
    "    return inputs, targets\n",
    "  \n",
    "  def  loss(self, logits, targets):\n",
    "    bs, t, _ = logits.get_shape().as_list()\n",
    "    logits = tf.reshape(logits, (bs, t, self.n_paren_types, self.max_count + 1))\n",
    "        \n",
    "    if self.implied_activation_fn == \"softmax\":\n",
    "      loss = tf.nn.sparse_softmax_cross_entropy_with_logits(logits, targets)\n",
    "    elif self.implied_activation_fn == \"identity\":\n",
    "      loss = tf.square(logits - tf.one_hot(targets, self.max_count + 1))\n",
    "    else:\n",
    "      raise\n",
    "    \n",
    "    return tf.reduce_mean(loss)\n",
    "  \n",
    "  def print_batch(self, inputs, targets, predictions=None, max_to_print=1):\n",
    "    if predictions is not None:\n",
    "      predictions = np.reshape(\n",
    "          predictions, \n",
    "          predictions.shape[:2] + (self.n_paren_types, self.max_count + 1))\n",
    "    for i in range(min(max_to_print, inputs.shape[1])):\n",
    "      print(\"%3d:\" %(i,), \" \".join([self.id_to_token[t] for t in inputs[:, i]]))\n",
    "      for paren_kind in range(self.n_paren_types):\n",
    "        print(\"G%s:\" % self.parens[2*paren_kind:2*paren_kind+2], \n",
    "              \" \".join([str(c) for c in targets[:, i, paren_kind]]))\n",
    "        if predictions is not None:\n",
    "          pred = np.argmax(predictions[:,i, paren_kind], axis=1)\n",
    "          print(\"P%s:\" % self.parens[2*paren_kind:2*paren_kind+2], \n",
    "                \" \".join([str(c) for c in pred]))\n",
    " "
   ]
  },
  {
   "cell_type": "code",
   "execution_count": 4,
   "metadata": {
    "cellView": null,
    "colab": {
     "autoexec": {
      "startup": false,
      "wait_interval": 0
     }
    },
    "colab_type": "code",
    "collapsed": true,
    "id": "vKCdAaCTPqFq"
   },
   "outputs": [],
   "source": [
    "# Training configuration\n",
    "\n",
    "MAX_COUNT = 5\n",
    "HIDDEN_DIM = 50 # will work nicely if set to 2*(MAX_COUNT + 1)\n",
    "N_TRAIN_STEPS = 20000\n",
    "BATCH_SIZE = 16\n",
    "T = 100\n",
    "WEIGHT_DECAY = 1e-4\n"
   ]
  },
  {
   "cell_type": "code",
   "execution_count": 5,
   "metadata": {
    "cellView": null,
    "colab": {
     "autoexec": {
      "startup": false,
      "wait_interval": 0
     },
     "output_extras": [
      {
       "item_id": 1
      }
     ]
    },
    "colab_type": "code",
    "collapsed": false,
    "executionInfo": {
     "elapsed": 168,
     "status": "ok",
     "timestamp": 1484363768604,
     "user": {
      "displayName": "Jan Chorowski",
      "photoUrl": "//lh5.googleusercontent.com/-CIawMzW6HLk/AAAAAAAAAAI/AAAAAAAAABY/YDJiClf-um8/s50-c-k-no/photo.jpg",
      "userId": "105360491181387708695"
     },
     "user_tz": 480
    },
    "id": "P8NCEfC6sHDP",
    "outputId": "9bb3a3d5-fde0-4433-b0b4-9843f3953c2d"
   },
   "outputs": [
    {
     "name": "stdout",
     "output_type": "stream",
     "text": [
      "  0: ( ( } } ( ( } { ) ) ( [ ] a } ( ) ) a ] ) ) ) { a ) } ( ) a ( ] [ a { [ } ( a ( { a } } [ } } [ ) [ ) } ) ] ( { ] ( ) a } a a ) { [ { ) ) ) a a ) { } } ( ] ) a } ( a ( a { ] { ] { } } { { { { { ) { (\n",
      "G(): 1 2 2 2 3 4 4 4 3 2 3 3 3 3 3 4 3 2 2 2 1 0 0 0 0 0 0 1 0 0 1 1 1 1 1 1 1 2 2 3 3 3 3 3 3 3 3 3 2 2 1 1 0 0 1 1 1 2 1 1 1 1 1 0 0 0 0 0 0 0 0 0 0 0 0 0 1 1 0 0 0 1 1 2 2 2 2 2 2 2 2 2 2 2 2 2 2 1 1 2\n",
      "G[]: 0 0 0 0 0 0 0 0 0 0 0 1 0 0 0 0 0 0 0 0 0 0 0 0 0 0 0 0 0 0 0 0 1 1 1 2 2 2 2 2 2 2 2 2 3 3 3 4 4 5 5 5 5 4 4 4 3 3 3 3 3 3 3 3 3 4 4 4 4 4 4 4 4 4 4 4 4 3 3 3 3 3 3 3 3 3 2 2 1 1 1 1 1 1 1 1 1 1 1 1\n",
      "G{}: 0 0 0 0 0 0 0 1 1 1 1 1 1 1 0 0 0 0 0 0 0 0 0 1 1 1 0 0 0 0 0 0 0 0 1 1 0 0 0 0 1 1 0 0 0 0 0 0 0 0 0 0 0 0 0 1 1 1 1 1 0 0 0 0 1 1 2 2 2 2 2 2 2 3 2 1 1 1 1 1 0 0 0 0 0 1 1 2 2 3 2 1 2 3 4 5 5 5 5 5\n"
     ]
    }
   ],
   "source": [
    "task = ParenthesisTask(max_count=MAX_COUNT, \n",
    "                       #implied_activation_fn=\"softmax\")\n",
    "                       implied_activation_fn=\"identity\")\n",
    "task.print_batch(*task.sample_batch(100, 2))"
   ]
  },
  {
   "cell_type": "code",
   "execution_count": 6,
   "metadata": {
    "cellView": null,
    "colab": {
     "autoexec": {
      "startup": false,
      "wait_interval": 0
     }
    },
    "colab_type": "code",
    "collapsed": false,
    "id": "ZI2GYa8PonVM"
   },
   "outputs": [],
   "source": [
    "tf.reset_default_graph()\n",
    "\n",
    "with tf.variable_scope(\"model\"):\n",
    "  model = ISAN(task.n_tokens, HIDDEN_DIM, task.n_outputs)\n",
    "\n",
    "  inputs = tf.placeholder(tf.int32, shape=(T, BATCH_SIZE), name=\"inputs\")\n",
    "  targets = tf.placeholder(tf.int32, shape=(T, BATCH_SIZE, task.n_paren_types), \n",
    "                           name=\"targets\")\n",
    "\n",
    "  logits = model.fprop(inputs)\n",
    "\n",
    "  task_loss = task.loss(logits, targets)\n",
    "  weight_loss = 0.0\n",
    "  for v in tf.trainable_variables():\n",
    "    if v.name.split('/')[-1].startswith('W'):\n",
    "      weight_loss = weight_loss + WEIGHT_DECAY * tf.nn.l2_loss(v)\n",
    "      \n",
    "  loss = task_loss + weight_loss\n",
    "\n",
    "learning_rate = tf.placeholder(tf.float32, shape=(), name=\"learning_rate\")\n",
    "\n",
    "optimizer = tf.train.AdamOptimizer(learning_rate=learning_rate)\n",
    "train_op = optimizer.minimize(loss)\n",
    "\n",
    "tf.get_variable_scope().reuse_variables()"
   ]
  },
  {
   "cell_type": "code",
   "execution_count": 7,
   "metadata": {
    "collapsed": false
   },
   "outputs": [
    {
     "data": {
      "text/plain": [
       "[100, 16]"
      ]
     },
     "execution_count": 7,
     "metadata": {},
     "output_type": "execute_result"
    }
   ],
   "source": [
    "inputs.get_shape().as_list()"
   ]
  },
  {
   "cell_type": "code",
   "execution_count": 8,
   "metadata": {
    "cellView": null,
    "colab": {
     "autoexec": {
      "startup": false,
      "wait_interval": 0
     },
     "output_extras": [
      {
       "item_id": 1
      }
     ]
    },
    "colab_type": "code",
    "collapsed": false,
    "executionInfo": {
     "elapsed": 189,
     "status": "ok",
     "timestamp": 1484363773199,
     "user": {
      "displayName": "Jan Chorowski",
      "photoUrl": "//lh5.googleusercontent.com/-CIawMzW6HLk/AAAAAAAAAAI/AAAAAAAAABY/YDJiClf-um8/s50-c-k-no/photo.jpg",
      "userId": "105360491181387708695"
     },
     "user_tz": 480
    },
    "id": "5x5lIJu60thj",
    "outputId": "9e022d26-7c7d-4e33-80a5-ed4c623fc1a1"
   },
   "outputs": [
    {
     "name": "stdout",
     "output_type": "stream",
     "text": [
      "Training the following variables:\n",
      "model/model/rnn/h0:0: [1, 50] (model/model/rnn/h0/Initializer/Const)\n",
      "model/model/rnn/isan_cell/Wx:0: [7, 2500] (model/model/rnn/isan_cell/Wx/Initializer/Const)\n",
      "model/model/rnn/isan_cell/bx:0: [7, 50] (model/model/rnn/isan_cell/bx/Initializer/Const)\n",
      "model/model/Wo:0: [50, 18] (model/model/Wo/Initializer/random_normal)\n",
      "model/model/bo:0: [1, 18] (model/model/bo/Initializer/Const)\n"
     ]
    }
   ],
   "source": [
    "print (\"Training the following variables:\")\n",
    "for v in tf.trainable_variables():\n",
    "  print (\"%s: %s (%s)\" % (v.name, v.get_shape().as_list(), \n",
    "                          v.initializer.inputs[1].op.name))"
   ]
  },
  {
   "cell_type": "code",
   "execution_count": 9,
   "metadata": {
    "cellView": null,
    "colab": {
     "autoexec": {
      "startup": false,
      "wait_interval": 0
     },
     "output_extras": [
      {
       "item_id": 11
      },
      {
       "item_id": 22
      },
      {
       "item_id": 33
      },
      {
       "item_id": 44
      },
      {
       "item_id": 55
      },
      {
       "item_id": 66
      },
      {
       "item_id": 77
      },
      {
       "item_id": 88
      },
      {
       "item_id": 99
      },
      {
       "item_id": 100
      }
     ]
    },
    "colab_type": "code",
    "collapsed": false,
    "executionInfo": {
     "elapsed": 1430971,
     "status": "ok",
     "timestamp": 1484365204190,
     "user": {
      "displayName": "Jan Chorowski",
      "photoUrl": "//lh5.googleusercontent.com/-CIawMzW6HLk/AAAAAAAAAAI/AAAAAAAAABY/YDJiClf-um8/s50-c-k-no/photo.jpg",
      "userId": "105360491181387708695"
     },
     "user_tz": 480
    },
    "id": "nvBcZBKyWTsF",
    "outputId": "ac892337-3b46-460d-b05a-21d002bdfa92"
   },
   "outputs": [
    {
     "name": "stdout",
     "output_type": "stream",
     "text": [
      "WARNING:tensorflow:From <ipython-input-9-0b4712d2067a>:2: initialize_all_variables (from tensorflow.python.ops.variables) is deprecated and will be removed after 2017-03-02.\n",
      "Instructions for updating:\n",
      "Use `tf.global_variables_initializer` instead.\n",
      "Step 499 loss 0.136900\n",
      "  0: ) [ } [ ) [ ( { ( { [ } } ] { ( } [ ( } ] } a ( { { ] [ [ [ ( a a a a } ) { a { } { a ( { } { ( [ ) { ( } ( } a { a { ) { { } a { [ ( } a ) ] a [ ) ( { a [ a { ( a ] a ( [ ( { ) [ ( ) a ] a ] { [ { [\n",
      "G(): 0 0 0 0 0 0 1 1 2 2 2 2 2 2 2 3 3 3 4 4 4 4 4 5 5 5 5 5 5 5 5 5 5 5 5 5 4 4 4 4 4 4 4 5 5 5 5 5 5 4 4 5 5 5 5 5 5 5 5 4 4 4 4 4 4 4 5 5 5 4 4 4 4 3 4 4 4 4 4 4 5 5 5 5 5 5 5 5 4 4 5 4 4 4 4 4 4 4 4 4\n",
      "P(): 0 0 0 0 0 0 1 0 1 1 1 0 0 0 0 1 1 1 1 1 1 0 0 1 1 1 1 1 1 0 1 1 1 1 1 0 0 0 0 0 0 1 0 1 1 0 0 1 1 0 0 1 1 1 1 1 1 1 0 0 0 0 1 0 0 0 1 1 1 0 0 0 0 0 1 1 1 1 1 0 1 1 1 1 1 1 1 1 0 0 1 0 0 0 0 0 0 1 0 0\n",
      "G[]: 0 1 1 2 2 3 3 3 3 3 4 4 4 3 3 3 3 4 4 4 3 3 3 3 3 3 2 3 4 5 5 5 5 5 5 5 5 5 5 5 5 5 5 5 5 5 5 5 5 5 5 5 5 5 5 5 5 5 5 5 5 5 5 5 5 5 5 5 5 5 4 4 5 5 5 5 5 5 5 5 5 5 4 4 4 5 5 5 5 5 5 5 5 4 4 3 3 4 4 5\n",
      "P[]: 0 1 1 5 1 5 1 1 1 1 5 1 1 0 0 0 0 1 1 1 0 0 0 0 0 0 0 1 2 5 2 1 2 2 2 1 1 0 1 1 1 1 1 1 1 1 1 1 2 1 1 1 1 2 1 1 1 1 1 1 1 1 1 1 1 2 1 1 1 1 0 0 1 1 1 1 1 5 2 1 1 1 0 0 0 1 2 1 1 2 2 1 1 1 0 0 0 1 1 5\n",
      "G{}: 0 0 0 0 0 0 0 1 1 2 2 1 0 0 1 1 0 0 0 0 0 0 0 0 1 2 2 2 2 2 2 2 2 2 2 1 1 2 2 3 2 3 3 3 4 3 4 4 4 4 5 5 4 4 3 3 4 4 5 5 5 5 4 4 5 5 5 4 4 4 4 4 4 4 4 5 5 5 5 5 5 5 5 5 5 5 5 5 5 5 5 5 5 5 5 5 5 5 5 5\n",
      "P{}: 0 0 0 0 0 0 0 1 1 5 1 1 0 0 1 1 0 0 0 0 0 0 0 0 1 2 1 1 1 1 1 1 1 1 0 0 0 1 1 2 0 1 1 1 2 1 1 1 1 1 5 1 1 0 0 0 1 1 2 1 2 5 1 0 1 1 1 1 1 1 0 1 0 0 1 1 1 1 1 1 1 1 1 1 1 1 1 1 1 1 1 1 1 1 1 1 1 1 2 1\n",
      "\n",
      "Step 999 loss 0.107026\n",
      "  0: a } [ { ( { ( a ] ( [ { [ ( a a ) [ ( } a { { } ( } } } } a ] ) { } a ] ] [ ) a ( ( ) } { ) ( ] ) a a } } ( { a ) ] { ] ] } ( ( { ] ( a ) { a [ [ ) ] a a ( { } { } } { ] ) ( ] ] ) } a [ [ a } ( ) a }\n",
      "G(): 0 0 0 0 1 1 2 2 2 3 3 3 3 4 4 4 3 3 4 4 4 4 4 4 5 5 5 5 5 5 5 4 4 4 4 4 4 4 3 3 4 5 4 4 4 3 4 4 3 3 3 3 3 4 4 4 3 3 3 3 3 3 4 5 5 5 5 5 4 4 4 4 4 3 3 3 3 4 4 4 4 4 4 4 4 3 4 4 4 3 3 3 3 3 3 3 4 3 3 3\n",
      "P(): 0 0 0 0 1 1 1 1 1 5 5 5 5 5 5 5 4 1 5 5 5 5 5 5 5 5 5 5 5 5 5 1 1 2 2 2 5 5 1 1 5 5 4 2 5 2 5 5 0 0 1 0 0 2 1 1 0 0 0 0 0 0 1 5 5 5 5 5 1 1 2 1 2 0 0 0 0 1 1 1 2 1 5 2 2 1 1 2 4 1 1 1 1 2 0 0 5 1 1 1\n",
      "G[]: 0 0 1 1 1 1 1 1 0 0 1 1 2 2 2 2 2 3 3 3 3 3 3 3 3 3 3 3 3 3 2 2 2 2 2 1 0 1 1 1 1 1 1 1 1 1 1 0 0 0 0 0 0 0 0 0 0 0 0 0 0 0 0 0 0 0 0 0 0 0 0 1 2 2 1 1 1 1 1 1 1 1 1 1 0 0 0 0 0 0 0 0 1 2 2 2 2 2 2 2\n",
      "P[]: 0 0 1 1 1 1 1 1 0 0 1 1 2 2 2 2 2 5 5 5 5 5 4 5 5 5 4 5 5 5 2 1 1 2 2 1 0 1 1 1 1 1 1 1 1 1 1 0 0 0 0 0 0 0 0 0 0 0 0 0 0 0 0 0 0 0 0 0 0 0 0 1 2 1 1 1 1 0 0 0 1 0 0 0 0 0 0 0 0 0 0 0 1 2 1 1 1 1 1 1\n",
      "G{}: 0 0 0 1 1 2 2 2 2 2 2 3 3 3 3 3 3 3 3 2 2 3 4 3 3 2 1 0 0 0 0 0 1 0 0 0 0 0 0 0 0 0 0 0 1 1 1 1 1 1 1 0 0 0 1 1 1 1 2 2 2 1 1 1 2 2 2 2 2 3 3 3 3 3 3 3 3 3 4 3 4 3 2 3 3 3 3 3 3 3 2 2 2 2 2 1 1 1 1 0\n",
      "P{}: 0 0 0 1 1 1 1 1 2 1 1 5 3 5 5 5 5 5 5 1 1 5 5 4 3 2 0 0 0 0 0 0 1 0 0 0 0 0 0 0 0 0 0 0 1 1 1 0 0 0 0 0 0 0 1 1 1 1 1 1 5 0 0 0 1 1 1 1 5 5 5 3 3 1 3 2 2 5 5 4 5 1 1 1 1 5 1 1 5 5 0 0 1 1 0 0 0 0 0 0\n",
      "\n",
      "Step 1499 loss 0.088802\n",
      "  0: a ) ] ) ( ] ] [ { a ) a [ { [ ] ) ) a ) ( ] ( } } a ) ] ( a } ) [ } { a [ ) [ { ( ] { { } a [ ( ) ( { a ) } ( } ( ( ] } ) ) ) ) [ a ) ) [ } ) } [ a a } { ( [ [ { } a } a { ) [ ] ) } { a ] ] a ] [ a {\n",
      "G(): 0 0 0 0 1 1 1 1 1 1 0 0 0 0 0 0 0 0 0 0 1 1 2 2 2 2 1 1 2 2 2 1 1 1 1 1 1 0 0 0 1 1 1 1 1 1 1 2 1 2 2 2 1 1 2 2 3 4 4 4 3 2 1 0 0 0 0 0 0 0 0 0 0 0 0 0 0 1 1 1 1 1 1 1 1 1 0 0 0 0 0 0 0 0 0 0 0 0 0 0\n",
      "P(): 0 0 0 0 1 1 1 1 1 1 0 0 0 0 0 0 0 0 0 0 1 1 2 1 1 1 0 0 1 1 1 0 0 0 0 1 0 0 0 0 1 1 1 1 1 1 1 1 0 1 2 1 1 0 1 1 5 5 5 5 4 1 0 0 0 0 0 0 0 0 0 0 0 0 0 0 0 1 1 1 1 1 1 1 1 1 0 0 0 0 0 0 0 0 0 0 0 0 0 0\n",
      "G[]: 0 0 0 0 0 0 0 1 1 1 1 1 2 2 3 2 2 2 2 2 2 1 1 1 1 1 1 0 0 0 0 0 1 1 1 1 2 2 3 3 3 2 2 2 2 2 3 3 3 3 3 3 3 3 3 3 3 3 2 2 2 2 2 2 3 3 3 3 4 4 4 4 5 5 5 5 5 5 5 5 5 5 5 5 5 5 5 5 4 4 4 4 4 3 2 2 1 2 2 2\n",
      "P[]: 0 0 0 0 0 0 0 1 1 1 1 1 2 2 2 1 1 1 1 1 1 0 0 0 0 0 0 0 0 0 0 0 1 1 1 1 2 2 3 3 4 2 2 2 2 2 3 3 3 3 5 4 3 4 3 4 3 5 2 1 1 2 2 2 3 3 3 4 5 5 5 5 5 5 5 5 5 5 5 5 5 5 5 5 5 5 5 5 4 5 5 5 5 3 2 2 0 1 1 1\n",
      "G{}: 0 0 0 0 0 0 0 0 1 1 1 1 1 2 2 2 2 2 2 2 2 2 2 1 0 0 0 0 0 0 0 0 0 0 1 1 1 1 1 2 2 2 3 4 3 3 3 3 3 3 4 4 4 3 3 2 2 2 2 1 1 1 1 1 1 1 1 1 1 0 0 0 0 0 0 0 1 1 1 1 2 1 1 0 0 1 1 1 1 1 0 1 1 1 1 1 1 1 1 2\n",
      "P{}: 0 0 0 0 0 0 0 0 1 1 1 1 1 2 1 2 2 2 3 1 1 1 1 1 0 0 0 0 0 0 0 0 0 0 1 1 1 1 1 2 1 1 5 5 4 3 5 4 5 4 5 5 5 4 1 1 1 1 2 0 0 0 0 0 0 0 0 0 0 0 0 0 0 0 0 0 1 1 1 1 2 1 1 0 0 1 1 1 1 1 0 1 1 1 1 1 1 1 1 2\n",
      "\n",
      "Step 1999 loss 0.076501\n",
      "  0: [ { ) a a { ) ) a [ ) a ) ( } ) ) a } [ { ( [ } ] a ] ( { a ] ( { ) a [ [ ( ] { } a } [ [ ( [ [ [ ) ] { a ] a ] } [ ] } { ] ] } ] { a { a a ( } ] ) ( ] ( ] ( ] [ } ( [ { } } ) { { { ( } ( ( { { } [ {\n",
      "G(): 0 0 0 0 0 0 0 0 0 0 0 0 0 1 1 0 0 0 0 0 0 1 1 1 1 1 1 2 2 2 2 3 3 2 2 2 2 3 3 3 3 3 3 3 3 4 4 4 4 3 3 3 3 3 3 3 3 3 3 3 3 3 3 3 3 3 3 3 3 3 4 4 4 3 4 4 5 5 5 5 5 5 5 5 5 5 5 4 4 4 4 5 5 5 5 5 5 5 5 5\n",
      "P(): 0 0 0 0 0 0 0 0 0 0 0 0 0 1 1 0 0 0 0 0 0 1 1 1 1 1 1 2 2 1 1 2 2 1 1 1 1 2 2 2 2 3 2 2 2 5 5 5 5 4 1 2 2 2 2 2 2 2 2 2 2 2 2 2 2 2 2 1 2 1 5 5 5 4 5 5 5 5 5 5 5 5 5 5 5 5 5 4 4 2 5 5 5 5 5 5 5 5 5 5\n",
      "G[]: 1 1 1 1 1 1 1 1 1 2 2 2 2 2 2 2 2 2 2 3 3 3 4 4 3 3 2 2 2 2 1 1 1 1 1 2 3 3 2 2 2 2 2 3 4 4 5 5 5 5 4 4 4 3 3 2 2 3 2 2 2 1 0 0 0 0 0 0 0 0 0 0 0 0 0 0 0 0 0 0 1 1 1 2 2 2 2 2 2 2 2 2 2 2 2 2 2 2 3 3\n",
      "P[]: 1 1 1 1 1 1 1 1 1 2 2 2 2 2 2 2 2 2 2 2 2 2 4 4 3 3 1 2 2 2 1 1 1 0 2 2 3 3 2 2 2 2 2 3 5 5 5 5 5 5 4 4 4 3 2 1 1 2 1 1 1 0 0 0 0 0 0 0 0 0 0 0 0 0 0 0 0 0 0 0 1 1 1 2 2 2 2 2 2 2 2 2 2 2 1 1 1 2 2 3\n",
      "G{}: 0 1 1 1 1 2 2 2 2 2 2 2 2 2 1 1 1 1 0 0 1 1 1 0 0 0 0 0 1 1 1 1 2 2 2 2 2 2 2 3 2 2 1 1 1 1 1 1 1 1 1 2 2 2 2 2 1 1 1 0 1 1 1 0 0 1 1 2 2 2 2 1 1 1 1 1 1 1 1 1 1 0 0 0 1 0 0 0 1 2 3 3 2 2 2 3 4 3 3 4\n",
      "P{}: 0 1 1 1 1 2 1 1 1 1 1 1 1 1 0 1 0 0 0 0 1 1 1 0 0 0 0 0 1 1 1 1 2 2 2 1 1 1 2 5 2 2 1 1 1 1 1 1 1 2 1 2 2 1 1 3 1 1 1 0 1 1 1 0 0 1 1 2 2 2 3 2 1 1 1 1 1 1 1 2 2 0 1 1 2 0 0 0 1 2 5 5 2 2 2 5 5 4 3 5\n",
      "\n",
      "Step 2499 loss 0.067854\n",
      "  0: ] } ( } } } ] ( { [ { { a { ( { ] ] ( ] } [ } ( ] } [ ] { ( ) [ a ) ( ( ) ( ] } ] [ } [ } ) ( ( [ } ( ( [ [ [ [ a [ a } ] } a a { { ) ( } } [ a a a } ( a { a ( [ ) { } ] [ [ { a } a ( [ ] [ { [ [ ) ]\n",
      "G(): 0 0 1 1 1 1 1 2 2 2 2 2 2 2 3 3 3 3 4 4 4 4 4 5 5 5 5 5 5 5 4 4 4 3 4 5 4 5 5 5 5 5 5 5 5 4 5 5 5 5 5 5 5 5 5 5 5 5 5 5 5 5 5 5 5 5 4 5 5 5 5 5 5 5 5 5 5 5 5 5 5 4 4 4 4 4 4 4 4 4 4 5 5 5 5 5 5 5 4 4\n",
      "P(): 0 0 1 1 1 1 1 2 2 2 1 1 1 1 2 2 2 2 5 5 5 5 5 5 5 5 5 5 5 5 4 4 4 4 5 5 4 5 5 5 5 5 5 5 5 4 5 5 5 5 5 5 5 5 5 5 5 5 5 5 5 5 5 5 5 5 4 5 5 5 5 5 5 5 5 5 5 5 5 5 5 4 4 4 5 5 4 3 4 5 5 5 5 5 5 5 4 5 3 2\n",
      "G[]: 0 0 0 0 0 0 0 0 0 1 1 1 1 1 1 1 0 0 0 0 0 1 1 1 0 0 1 0 0 0 0 1 1 1 1 1 1 1 0 0 0 1 1 2 2 2 2 2 3 3 3 3 4 5 5 5 5 5 5 5 4 4 4 4 4 4 4 4 4 4 5 5 5 5 5 5 5 5 5 5 5 5 5 5 4 5 5 5 5 5 5 5 5 4 5 5 5 5 5 4\n",
      "P[]: 0 0 0 0 0 0 0 0 0 1 1 1 1 1 1 1 0 0 0 0 0 1 1 1 0 0 1 0 0 0 0 1 1 1 1 1 1 1 0 0 0 1 1 2 2 2 2 2 3 3 3 3 5 5 5 5 5 5 5 5 4 4 4 4 3 3 3 3 4 4 5 5 5 5 5 5 5 5 5 5 5 5 5 5 4 5 5 5 5 5 5 5 5 4 5 5 5 5 5 4\n",
      "G{}: 0 0 0 0 0 0 0 0 1 1 2 3 3 4 4 5 5 5 5 5 4 4 3 3 3 2 2 2 3 3 3 3 3 3 3 3 3 3 3 2 2 2 1 1 0 0 0 0 0 0 0 0 0 0 0 0 0 0 0 0 0 0 0 0 1 2 2 2 1 0 0 0 0 0 0 0 0 1 1 1 1 1 2 1 1 1 1 2 2 1 1 1 1 1 1 2 2 2 2 2\n",
      "P{}: 0 0 0 0 0 0 0 0 1 1 2 3 2 5 5 5 5 5 5 5 4 3 2 2 2 1 1 1 2 2 2 1 2 2 2 1 1 1 1 1 1 1 0 0 0 0 0 0 0 0 0 0 0 0 0 0 0 0 0 0 0 0 0 0 1 2 2 2 1 0 0 0 0 0 0 0 0 1 1 1 1 1 2 1 1 1 1 2 2 1 1 1 1 1 1 2 2 1 1 1\n",
      "\n",
      "Step 2999 loss 0.059070\n",
      "  0: ( ) ) a ) [ { { } a a ] a a [ a a ) } ( } ( [ ] a { { { } [ a { ) ) { a a [ ( } ( [ ] a { a ] ( { ) ] { ] ) ) ] } [ { ) { } ( a ( { a } ) ( } { } ( { ] } ) ( ] ( [ ) ] ( ] } a ] ] [ ) ( } { { [ a ] a\n",
      "G(): 1 0 0 0 0 0 0 0 0 0 0 0 0 0 0 0 0 0 0 1 1 2 2 2 2 2 2 2 2 2 2 2 1 0 0 0 0 0 1 1 2 2 2 2 2 2 2 3 3 2 2 2 2 1 0 0 0 0 0 0 0 0 1 1 2 2 2 2 1 2 2 2 2 3 3 3 3 2 3 3 4 4 3 3 4 4 4 4 4 4 4 3 4 4 4 4 4 4 4 4\n",
      "P(): 1 0 0 0 0 0 0 0 0 0 0 0 0 0 0 0 0 0 0 1 1 2 2 2 2 2 2 2 2 2 2 2 1 0 0 0 0 0 1 1 2 2 2 2 2 2 2 3 3 1 2 1 2 1 0 0 0 0 0 0 0 0 1 1 2 2 2 2 1 2 2 2 2 3 3 3 2 1 2 2 4 4 3 3 5 5 4 4 4 4 4 3 5 4 4 4 4 4 4 4\n",
      "G[]: 0 0 0 0 0 1 1 1 1 1 1 0 0 0 1 1 1 1 1 1 1 1 2 1 1 1 1 1 1 2 2 2 2 2 2 2 2 3 3 3 3 4 3 3 3 3 2 2 2 2 1 1 0 0 0 0 0 1 1 1 1 1 1 1 1 1 1 1 1 1 1 1 1 1 1 0 0 0 0 0 0 1 1 0 0 0 0 0 0 0 1 1 1 1 1 1 2 2 1 1\n",
      "P[]: 0 0 0 0 0 1 1 1 1 1 1 0 0 0 1 1 1 1 1 1 1 1 2 1 1 1 1 1 1 2 2 2 2 2 2 2 2 3 3 3 3 4 3 2 2 2 1 1 1 1 1 1 0 0 0 0 0 1 1 1 1 1 1 1 1 1 1 1 1 1 1 1 1 1 1 0 0 0 0 0 0 1 1 0 0 0 0 0 0 0 1 1 1 1 1 1 2 2 1 1\n",
      "G{}: 0 0 0 0 0 0 1 2 1 1 1 1 1 1 1 1 1 1 0 0 0 0 0 0 0 1 2 3 2 2 2 3 3 3 4 4 4 4 4 3 3 3 3 3 4 4 4 4 5 5 5 5 5 5 5 5 4 4 5 5 5 4 4 4 4 5 5 4 4 4 3 4 3 3 4 4 3 3 3 3 3 3 3 3 3 3 2 2 2 2 2 2 2 1 2 3 3 3 3 3\n",
      "P{}: 0 0 0 0 0 0 1 2 1 1 1 1 1 1 1 1 1 1 0 0 0 0 0 0 0 1 2 3 1 1 1 2 2 2 4 4 4 4 4 4 3 2 3 2 5 5 5 5 5 5 5 5 5 5 5 5 4 3 5 5 5 4 4 4 4 5 5 4 4 3 3 4 3 2 3 4 2 2 2 2 2 2 2 2 2 2 1 1 1 1 1 1 1 0 1 2 2 2 2 2\n",
      "\n",
      "Step 3499 loss 0.051661\n",
      "  0: a ) ) } ] a { ] ] [ [ ] ( { } [ ] a } ( [ a { ) ( ) [ ] [ } ( [ [ [ ( { a a [ ( ) a ) a ( { ( [ ) [ } ] [ a ] ( } [ ) a } { ) [ { ( ( } ) ) ( ) ] } ] { ( ] [ ) ( ] a { ) } } { a } } a ] { a { ] { ) (\n",
      "G(): 0 0 0 0 0 0 0 0 0 0 0 0 1 1 1 1 1 1 1 2 2 2 2 1 2 1 1 1 1 1 2 2 2 2 3 3 3 3 3 4 3 3 2 2 3 3 4 4 3 3 3 3 3 3 3 4 4 4 3 3 3 3 2 2 2 3 4 4 3 2 3 2 2 2 2 2 3 3 3 2 3 3 3 3 2 2 2 2 2 2 2 2 2 2 2 2 2 2 1 2\n",
      "P(): 0 0 0 0 0 0 0 0 0 0 0 0 1 1 1 1 1 1 1 2 2 2 2 1 2 1 1 1 1 1 2 2 2 2 3 3 3 3 2 4 4 3 2 1 2 3 5 5 4 4 3 3 2 3 3 5 5 5 4 3 3 3 2 2 2 3 4 5 4 2 3 2 2 2 2 2 3 3 3 2 3 3 3 3 2 2 2 2 2 2 2 2 2 2 2 2 2 2 1 2\n",
      "G[]: 0 0 0 0 0 0 0 0 0 1 2 1 1 1 1 2 1 1 1 1 2 2 2 2 2 2 3 2 3 3 3 4 5 5 5 5 5 5 5 5 5 5 5 5 5 5 5 5 5 5 5 4 5 5 4 4 4 5 5 5 5 5 5 5 5 5 5 5 5 5 5 5 4 4 3 3 3 2 3 3 3 2 2 2 2 2 2 2 2 2 2 2 1 1 1 1 0 0 0 0\n",
      "P[]: 0 0 0 0 0 0 0 0 0 1 2 1 1 1 1 2 1 1 1 1 2 2 2 2 2 2 3 2 3 3 3 4 5 5 5 5 5 5 5 5 5 5 5 5 5 5 5 5 5 5 5 4 5 5 4 4 4 5 5 5 5 5 5 5 5 5 5 5 5 5 5 5 4 4 3 3 2 2 2 2 2 2 1 1 2 1 1 2 2 1 2 2 1 1 1 1 0 0 0 0\n",
      "G{}: 0 0 0 0 0 0 1 1 1 1 1 1 1 2 1 1 1 1 0 0 0 0 1 1 1 1 1 1 1 0 0 0 0 0 0 1 1 1 1 1 1 1 1 1 1 2 2 2 2 2 1 1 1 1 1 1 0 0 0 0 0 1 1 1 2 2 2 1 1 1 1 1 1 0 0 1 1 1 1 1 1 1 1 2 2 1 0 1 1 0 0 0 0 1 1 2 2 3 3 3\n",
      "P{}: 0 0 0 0 0 0 1 1 1 1 1 1 1 2 1 1 1 1 0 0 0 0 1 1 1 1 1 1 1 0 0 0 0 0 0 1 1 1 1 1 1 1 1 1 1 2 2 2 2 2 1 1 1 1 1 1 0 0 0 0 0 1 1 1 2 2 2 1 1 1 1 1 1 0 0 1 1 1 1 1 1 1 1 2 2 1 0 1 1 0 0 0 0 1 1 2 2 3 3 2\n",
      "\n",
      "Step 3999 loss 0.045158\n",
      "  0: } a ( a ( ( [ a } a ( a [ } } } ] a a [ [ ] { ( a [ a ) ( ( } ( ] ] } [ [ } a ] ( } { { a ] ( ( } { { ( a a ( ( } } [ { { [ } { { [ [ } [ [ [ ) ] ] [ [ [ } { ( { a [ a ] ] ) ] { a a ) { ) [ { } [ ) [\n",
      "G(): 0 0 1 1 2 3 3 3 3 3 4 4 4 4 4 4 4 4 4 4 4 4 4 5 5 5 5 4 5 5 5 5 5 5 5 5 5 5 5 5 5 5 5 5 5 5 5 5 5 5 5 5 5 5 5 5 5 5 5 5 5 5 5 5 5 5 5 5 5 5 5 4 4 4 4 4 4 4 4 5 5 5 5 5 5 5 4 4 4 4 4 3 3 2 2 2 2 2 1 1\n",
      "P(): 0 0 1 1 2 3 3 3 3 3 4 4 5 5 5 5 5 5 5 5 5 5 4 5 5 5 5 4 5 5 5 5 5 5 5 5 5 5 5 5 5 5 5 5 5 5 5 5 5 5 5 5 5 5 5 5 5 5 5 5 5 5 5 5 5 5 5 5 5 5 5 4 3 3 3 3 4 3 3 5 5 5 5 5 5 5 4 4 3 3 3 3 3 2 1 1 2 2 0 0\n",
      "G[]: 0 0 0 0 0 0 1 1 1 1 1 1 2 2 2 2 1 1 1 2 3 2 2 2 2 3 3 3 3 3 3 3 2 1 1 2 3 3 3 2 2 2 2 2 2 1 1 1 1 1 1 1 1 1 1 1 1 1 2 2 2 3 3 3 3 4 5 5 5 5 5 5 4 3 4 5 5 5 5 5 5 5 5 5 4 3 3 2 2 2 2 2 2 2 3 3 3 4 4 5\n",
      "P[]: 0 0 0 0 0 0 1 1 1 1 1 1 2 2 2 2 1 1 1 2 3 2 2 2 2 3 3 3 3 3 3 3 2 1 1 2 3 3 3 2 2 2 2 2 2 1 1 1 1 1 1 1 1 1 1 1 1 1 2 2 2 3 3 3 3 4 5 5 5 5 5 5 4 3 4 5 5 5 5 5 5 5 5 5 4 3 3 2 2 2 2 2 2 2 3 3 3 4 4 5\n",
      "G{}: 0 0 0 0 0 0 0 0 0 0 0 0 0 0 0 0 0 0 0 0 0 0 1 1 1 1 1 1 1 1 0 0 0 0 0 0 0 0 0 0 0 0 1 2 2 2 2 2 1 2 3 3 3 3 3 3 2 1 1 2 3 3 2 3 4 4 4 3 3 3 3 3 3 3 3 3 3 2 3 3 4 4 4 4 4 4 4 4 5 5 5 5 5 5 5 5 4 4 4 4\n",
      "P{}: 0 0 0 0 0 0 0 0 0 0 0 0 0 0 0 0 0 0 0 0 0 0 1 1 1 1 1 1 1 1 0 0 0 0 0 0 0 0 0 0 0 0 1 2 2 2 2 2 1 2 3 3 3 3 3 3 1 1 1 2 3 3 1 3 5 5 4 4 3 3 3 3 3 3 2 2 2 2 3 3 4 5 4 5 4 5 5 4 5 5 5 5 5 5 5 5 4 4 4 4\n",
      "\n",
      "Step 4499 loss 0.041556\n",
      "  0: ) ) a ] ) ) { a } ] [ { ) { ] [ [ } a ] ) ] a ] ( ) ] a ) ) { [ { } [ [ [ ] ( ) [ [ ) } [ } a ) [ ) a a [ a [ ] ] } [ [ ] [ ( [ ) ( ( { ( ( [ ( } a { [ } [ ] ( a } a ( { ( { [ { ( ) a } ( ) { ) ) ] [\n",
      "G(): 0 0 0 0 0 0 0 0 0 0 0 0 0 0 0 0 0 0 0 0 0 0 0 0 1 0 0 0 0 0 0 0 0 0 0 0 0 0 1 0 0 0 0 0 0 0 0 0 0 0 0 0 0 0 0 0 0 0 0 0 0 0 1 1 0 1 2 2 3 4 4 5 5 5 5 5 5 5 5 5 5 5 5 5 5 5 5 5 5 5 4 4 4 5 4 4 3 2 2 2\n",
      "P(): 0 0 0 0 0 0 0 0 0 0 0 0 0 0 0 0 0 0 0 0 0 0 0 0 1 0 0 0 0 0 0 0 0 0 0 0 0 0 1 0 0 0 0 0 0 0 0 0 0 0 0 0 0 0 0 0 0 0 0 0 0 0 1 1 0 1 2 2 3 4 4 5 5 5 5 5 5 5 5 5 5 5 5 5 5 5 5 5 5 5 4 4 4 5 4 4 3 2 2 2\n",
      "G[]: 0 0 0 0 0 0 0 0 0 0 1 1 1 1 0 1 2 2 2 1 1 0 0 0 0 0 0 0 0 0 0 1 1 1 2 3 4 3 3 3 4 5 5 5 5 5 5 5 5 5 5 5 5 5 5 4 3 3 4 5 4 5 5 5 5 5 5 5 5 5 5 5 5 5 5 5 5 5 4 4 4 4 4 4 4 4 4 5 5 5 5 5 5 5 5 5 5 5 4 5\n",
      "P[]: 0 0 0 0 0 0 0 0 0 0 1 1 1 1 0 1 2 2 2 1 1 0 0 0 0 0 0 0 0 0 0 1 1 1 2 3 4 3 3 3 4 5 5 5 5 5 5 5 5 5 5 5 5 5 5 4 3 3 4 5 4 5 5 5 5 5 5 5 5 5 5 5 5 5 5 5 5 5 4 4 4 4 4 4 4 4 4 5 5 5 5 5 5 5 5 5 5 5 4 5\n",
      "G{}: 0 0 0 0 0 0 1 1 0 0 0 1 1 2 2 2 2 1 1 1 1 1 1 1 1 1 1 1 1 1 2 2 3 2 2 2 2 2 2 2 2 2 2 1 1 0 0 0 0 0 0 0 0 0 0 0 0 0 0 0 0 0 0 0 0 0 0 1 1 1 1 1 0 0 1 1 0 0 0 0 0 0 0 0 1 1 2 2 3 3 3 3 2 2 2 3 3 3 3 3\n",
      "P{}: 0 0 0 0 0 0 1 1 0 0 0 1 1 2 2 2 2 1 1 1 1 1 1 1 1 1 1 1 1 1 2 2 3 2 2 2 2 2 2 2 2 2 2 1 1 0 0 0 0 0 0 0 0 0 0 0 0 0 0 0 0 0 0 0 0 0 0 1 1 1 1 1 0 0 1 1 0 0 0 0 0 0 0 0 1 1 2 2 3 3 3 3 2 2 1 2 3 2 2 2\n",
      "\n",
      "Step 4999 loss 0.034678\n",
      "  0: [ ] ( ] ( ( ] [ { ( } ] [ ] } a ( { ) ) ) ] ] } } ) a } ( { ) ) { ] [ } ( a a { a ( ) { ( a ( { [ [ a ] [ } } ] ] [ ( ) { } a ] ( ] a [ { ) ( a { ) } } ] ] ) { { [ [ [ { a a } ) ] } [ } a [ } ) a } {\n",
      "G(): 0 0 1 1 2 3 3 3 3 4 4 4 4 4 4 4 5 5 4 3 2 2 2 2 2 1 1 1 2 2 1 0 0 0 0 0 1 1 1 1 1 2 1 1 2 2 3 3 3 3 3 3 3 3 3 3 3 3 4 3 3 3 3 3 4 4 4 4 4 3 4 4 4 3 3 3 3 3 2 2 2 2 2 2 2 2 2 2 1 1 1 1 1 1 1 1 0 0 0 0\n",
      "P(): 0 0 1 1 2 3 3 3 3 4 4 4 4 4 4 4 5 5 4 3 2 2 2 2 2 1 1 1 2 2 1 0 0 0 0 0 1 1 1 1 1 2 1 1 2 2 3 3 3 3 3 3 3 3 3 3 3 3 4 3 3 3 3 3 4 4 4 4 4 3 4 4 4 3 3 3 3 3 2 2 2 2 2 2 2 2 2 2 1 1 1 1 1 1 1 1 0 0 0 0\n",
      "G[]: 1 0 0 0 0 0 0 1 1 1 1 0 1 0 0 0 0 0 0 0 0 0 0 0 0 0 0 0 0 0 0 0 0 0 1 1 1 1 1 1 1 1 1 1 1 1 1 1 2 3 3 2 3 3 3 2 1 2 2 2 2 2 2 1 1 0 0 1 1 1 1 1 1 1 1 1 0 0 0 0 0 1 2 3 3 3 3 3 3 2 2 3 3 3 4 4 4 4 4 4\n",
      "P[]: 1 0 0 0 0 0 0 1 1 1 1 0 1 0 0 0 0 0 0 0 0 0 0 0 0 0 0 0 0 0 0 0 0 0 1 1 1 1 1 1 1 1 1 1 1 1 1 1 2 3 3 2 3 3 3 2 1 2 2 2 2 2 2 1 1 0 0 1 1 1 1 1 1 1 1 1 0 0 0 0 0 1 2 3 3 3 3 3 3 2 2 3 3 3 4 4 4 4 4 4\n",
      "G{}: 0 0 0 0 0 0 0 0 1 1 0 0 0 0 0 0 0 1 1 1 1 1 1 0 0 0 0 0 0 1 1 1 2 2 2 1 1 1 1 2 2 2 2 3 3 3 3 4 4 4 4 4 4 3 2 2 2 2 2 2 3 2 2 2 2 2 2 2 3 3 3 3 4 4 3 2 2 2 2 3 4 4 4 4 5 5 5 4 4 4 3 3 2 2 2 1 1 1 0 1\n",
      "P{}: 0 0 0 0 0 0 0 0 1 1 0 0 0 0 0 0 0 1 1 1 1 1 1 0 0 0 0 0 0 1 1 1 2 2 2 1 1 1 1 2 2 2 2 3 3 3 3 4 4 4 4 4 4 3 2 2 2 2 2 2 3 2 2 2 2 2 2 2 3 3 3 3 4 4 3 2 2 2 2 3 4 4 4 4 5 5 5 4 4 4 3 3 2 2 2 1 1 1 0 1\n",
      "\n",
      "Step 5499 loss 0.028342\n",
      "  0: a } { ) ) a a ] } ] ] [ [ [ a ] } ( ( ( a ( a ) ] { ( ] a a { a a ) { [ } ] } { { ] a [ } a [ ( { ) } [ ] ] a ] ( ] ( ( ) } a ] a } a a a a ) } ) [ { ( { { [ { a a { a ) ( ( ( [ ( ] { } ( ) } ] [ [ )\n",
      "G(): 0 0 0 0 0 0 0 0 0 0 0 0 0 0 0 0 0 1 2 3 3 4 4 3 3 3 4 4 4 4 4 4 4 3 3 3 3 3 3 3 3 3 3 3 3 3 3 4 4 3 3 3 3 3 3 3 4 4 5 5 4 4 4 4 4 4 4 4 4 4 3 3 2 2 2 3 3 3 3 3 3 3 3 3 2 3 4 5 5 5 5 5 5 5 4 4 4 4 4 3\n",
      "P(): 0 0 0 0 0 0 0 0 0 0 0 0 0 0 0 0 0 1 2 3 3 4 4 3 3 3 4 4 4 4 4 4 4 3 3 3 3 3 3 3 3 3 3 3 3 3 3 4 4 3 3 3 3 3 3 3 4 4 5 5 4 4 4 4 4 4 4 4 4 4 3 3 2 2 2 3 3 3 3 3 3 3 3 3 2 3 4 5 5 5 5 5 5 5 4 4 4 4 4 3\n",
      "G[]: 0 0 0 0 0 0 0 0 0 0 0 1 2 3 3 2 2 2 2 2 2 2 2 2 1 1 1 0 0 0 0 0 0 0 0 1 1 0 0 0 0 0 0 1 1 1 2 2 2 2 2 3 2 1 1 0 0 0 0 0 0 0 0 0 0 0 0 0 0 0 0 0 0 1 1 1 1 1 2 2 2 2 2 2 2 2 2 2 3 3 2 2 2 2 2 2 1 2 3 3\n",
      "P[]: 0 0 0 0 0 0 0 0 0 0 0 1 2 3 3 2 2 2 2 2 2 2 2 2 1 1 1 0 0 0 0 0 0 0 0 1 1 0 0 0 0 0 0 1 1 1 2 2 2 2 2 3 2 1 1 0 0 0 0 0 0 0 0 0 0 0 0 0 0 0 0 0 0 1 1 1 1 1 2 2 2 2 2 2 2 2 2 2 3 3 2 2 2 2 2 2 1 2 3 3\n",
      "G{}: 0 0 1 1 1 1 1 1 0 0 0 0 0 0 0 0 0 0 0 0 0 0 0 0 0 1 1 1 1 1 2 2 2 2 3 3 2 2 1 2 3 3 3 3 2 2 2 2 3 3 2 2 2 2 2 2 2 2 2 2 2 1 1 1 1 0 0 0 0 0 0 0 0 0 1 1 2 3 3 4 4 4 5 5 5 5 5 5 5 5 5 5 4 4 4 3 3 3 3 3\n",
      "P{}: 0 0 1 1 1 1 1 1 0 0 0 0 0 0 0 0 0 0 0 0 0 0 0 0 0 1 1 1 1 1 2 2 2 2 3 3 2 2 1 2 3 3 3 3 2 2 2 2 3 3 2 2 2 2 2 2 2 2 2 2 2 1 1 1 1 0 0 0 0 0 0 0 0 0 1 1 2 3 3 4 4 4 5 5 5 5 5 5 5 5 5 5 4 4 4 3 3 3 3 3\n",
      "\n",
      "Step 5999 loss 0.025773\n",
      "  0: ] { ] ) ) a a ] ( ] [ } { a ) ] { ] [ } ) [ ) } ) } } a { a a ) ( a [ a { ) ) } ) a ) } ] ] } a { a ( ] ] a } a ] { a ( ( ] ] ] } } a a ( a ( ) } ] ) [ { ] ) [ [ ) ) } ) ] ] a { ) ) ] a ) a { [ a ( [\n",
      "G(): 0 0 0 0 0 0 0 0 1 1 1 1 1 1 0 0 0 0 0 0 0 0 0 0 0 0 0 0 0 0 0 0 1 1 1 1 1 0 0 0 0 0 0 0 0 0 0 0 0 0 1 1 1 1 1 1 1 1 1 2 3 3 3 3 3 3 3 3 4 4 5 4 4 4 3 3 3 3 2 2 2 1 0 0 0 0 0 0 0 0 0 0 0 0 0 0 0 0 1 1\n",
      "P(): 0 0 0 0 0 0 0 0 1 1 1 1 1 1 0 0 0 0 0 0 0 0 0 0 0 0 0 0 0 0 0 0 1 1 1 1 1 0 0 0 0 0 0 0 0 0 0 0 0 0 1 1 1 1 1 1 1 1 1 2 3 3 3 3 3 3 3 3 4 4 5 4 4 4 3 3 3 3 2 2 2 1 0 0 0 0 0 0 0 0 0 0 0 0 0 0 0 0 1 1\n",
      "G[]: 0 0 0 0 0 0 0 0 0 0 1 1 1 1 1 0 0 0 1 1 1 2 2 2 2 2 2 2 2 2 2 2 2 2 3 3 3 3 3 3 3 3 3 3 2 1 1 1 1 1 1 0 0 0 0 0 0 0 0 0 0 0 0 0 0 0 0 0 0 0 0 0 0 0 0 1 1 0 0 1 2 2 2 2 2 1 0 0 0 0 0 0 0 0 0 0 1 1 1 2\n",
      "P[]: 0 0 0 0 0 0 0 0 0 0 1 1 1 1 1 0 0 0 1 1 1 2 2 2 2 2 2 2 2 2 2 2 2 2 3 3 3 3 3 3 3 3 3 3 2 1 1 1 1 1 1 0 0 0 0 0 0 0 0 0 0 0 0 0 0 0 0 0 0 0 0 0 0 0 0 1 1 0 0 1 2 2 2 2 2 1 0 0 0 0 0 0 0 0 0 0 1 1 1 2\n",
      "G{}: 0 1 1 1 1 1 1 1 1 1 1 0 1 1 1 1 2 2 2 1 1 1 1 0 0 0 0 0 1 1 1 1 1 1 1 1 2 2 2 1 1 1 1 0 0 0 0 0 1 1 1 1 1 1 0 0 0 1 1 1 1 1 1 1 0 0 0 0 0 0 0 0 0 0 0 0 1 1 1 1 1 1 1 0 0 0 0 0 1 1 1 1 1 1 1 2 2 2 2 2\n",
      "P{}: 0 1 1 1 1 1 1 1 1 1 1 0 1 1 1 1 2 2 2 1 1 1 1 0 0 0 0 0 1 1 1 1 1 1 1 1 2 2 2 1 1 1 1 0 0 0 0 0 1 1 1 1 1 1 0 0 0 1 1 1 1 1 1 1 0 0 0 0 0 0 0 0 0 0 0 0 1 1 1 1 1 1 1 0 0 0 0 0 1 1 1 1 1 1 1 2 2 2 2 2\n",
      "\n",
      "Step 6499 loss 0.019538\n",
      "  0: { [ ] } { a [ { } { ) [ ] ( ) ( ] ) a ] ] } } [ a [ { ) a ( [ { } { } ] ) a } { { ] ( } ( ] ) } ( a ) [ a a [ { ] } } } } { a ( { [ ) [ a } ] a } } ( a } ) ] [ [ } a [ [ ) } ( [ ) ( ) ( ] ) a } ] ] ]\n",
      "G(): 0 0 0 0 0 0 0 0 0 0 0 0 0 1 0 1 1 0 0 0 0 0 0 0 0 0 0 0 0 1 1 1 1 1 1 1 0 0 0 0 0 0 1 1 2 2 1 1 2 2 1 1 1 1 1 1 1 1 1 1 1 1 1 2 2 2 1 1 1 1 1 1 1 1 2 2 2 1 1 1 1 1 1 1 1 0 0 1 1 0 1 0 1 1 0 0 0 0 0 0\n",
      "P(): 0 0 0 0 0 0 0 0 0 0 0 0 0 1 0 1 1 0 0 0 0 0 0 0 0 0 0 0 0 1 1 1 1 1 1 1 0 0 0 0 0 0 1 1 2 2 1 1 2 2 1 1 1 1 1 1 1 1 1 1 1 1 1 2 2 2 1 1 1 1 1 1 1 1 2 2 2 1 1 1 1 1 1 1 1 0 0 1 1 0 1 0 1 1 0 0 0 0 0 0\n",
      "G[]: 0 1 0 0 0 0 1 1 1 1 1 2 1 1 1 1 0 0 0 0 0 0 0 1 1 2 2 2 2 2 3 3 3 3 3 2 2 2 2 2 2 1 1 1 1 0 0 0 0 0 0 1 1 1 2 2 1 1 1 1 1 1 1 1 1 2 2 3 3 3 2 2 2 2 2 2 2 2 1 2 3 3 3 4 5 5 5 5 5 5 5 5 5 4 4 4 4 3 2 1\n",
      "P[]: 0 1 0 0 0 0 1 1 1 1 1 2 1 1 1 1 0 0 0 0 0 0 0 1 1 2 2 2 2 2 3 3 3 3 3 2 2 2 2 2 2 1 1 1 1 0 0 0 0 0 0 1 1 1 2 2 1 1 1 1 1 1 1 1 1 2 2 3 3 3 2 2 2 2 2 2 2 2 1 2 3 3 3 4 5 5 5 5 5 5 5 5 5 4 4 4 4 3 2 1\n",
      "G{}: 1 1 1 0 1 1 1 2 1 2 2 2 2 2 2 2 2 2 2 2 2 1 0 0 0 0 1 1 1 1 1 2 1 2 1 1 1 1 0 1 2 2 2 1 1 1 1 0 0 0 0 0 0 0 0 1 1 0 0 0 0 1 1 1 2 2 2 2 2 1 1 1 0 0 0 0 0 0 0 0 0 0 0 0 0 0 0 0 0 0 0 0 0 0 0 0 0 0 0 0\n",
      "P{}: 1 1 1 0 1 1 1 2 1 2 2 2 2 2 2 2 2 2 2 2 2 1 0 0 0 0 1 1 1 1 1 2 1 2 1 1 1 1 0 1 2 2 2 1 1 1 1 0 0 0 0 0 0 0 0 1 1 0 0 0 0 1 1 1 2 2 2 2 2 1 1 1 0 0 0 0 0 0 0 0 0 0 0 0 0 0 0 0 0 0 0 0 0 0 0 0 0 0 0 0\n",
      "\n",
      "Step 6999 loss 0.017477\n",
      "  0: a { [ ) ] [ } a } a a [ { ] } a [ ] [ } ) [ ( ( { { a { { a [ [ ] { [ ] [ ] } ] ( ) ) a ) ( a ) ) [ [ [ ( [ ) a ) ] ) } [ } ) } { ] ) ( ) [ ] ] { ) } { ( { ) a ) ] ( ) } } ) a ] } { ] ] ) ) ( a ) ( a\n",
      "G(): 0 0 0 0 0 0 0 0 0 0 0 0 0 0 0 0 0 0 0 0 0 0 1 2 2 2 2 2 2 2 2 2 2 2 2 2 2 2 2 2 3 2 1 1 0 1 1 0 0 0 0 0 1 1 0 0 0 0 0 0 0 0 0 0 0 0 0 1 0 0 0 0 0 0 0 0 1 1 0 0 0 0 1 0 0 0 0 0 0 0 0 0 0 0 0 1 1 0 1 1\n",
      "P(): 0 0 0 0 0 0 0 0 0 0 0 0 0 0 0 0 0 0 0 0 0 0 1 2 2 2 2 2 2 2 2 2 2 2 2 2 2 2 2 2 3 2 1 1 0 1 1 0 0 0 0 0 1 1 0 0 0 0 0 0 0 0 0 0 0 0 0 1 0 0 0 0 0 0 0 0 1 1 0 0 0 0 1 0 0 0 0 0 0 0 0 0 0 0 0 1 1 0 1 1\n",
      "G[]: 0 0 1 1 0 1 1 1 1 1 1 2 2 1 1 1 2 1 2 2 2 3 3 3 3 3 3 3 3 3 4 5 4 4 5 4 5 4 4 3 3 3 3 3 3 3 3 3 3 4 5 5 5 5 5 5 5 4 4 4 5 5 5 5 5 4 4 4 4 5 4 3 3 3 3 3 3 3 3 3 3 2 2 2 2 2 2 2 1 1 1 0 0 0 0 0 0 0 0 0\n",
      "P[]: 0 0 1 1 0 1 1 1 1 1 1 2 2 1 1 1 2 1 2 2 2 3 3 3 3 3 3 3 3 3 4 5 4 4 5 4 5 4 4 3 3 3 3 3 3 3 3 3 3 4 5 5 5 5 5 5 5 4 4 4 5 5 5 5 5 4 4 4 4 5 4 3 3 3 3 3 3 3 3 3 3 2 2 2 2 2 2 2 1 1 1 0 0 0 0 0 0 0 0 0\n",
      "G{}: 0 1 1 1 1 1 0 0 0 0 0 0 1 1 0 0 0 0 0 0 0 0 0 0 1 2 2 3 4 4 4 4 4 5 5 5 5 5 4 4 4 4 4 4 4 4 4 4 4 4 4 4 4 4 4 4 4 4 4 3 3 2 2 1 2 2 2 2 2 2 2 2 3 3 2 3 3 4 4 4 4 4 4 4 3 2 2 2 2 1 2 2 2 2 2 2 2 2 2 2\n",
      "P{}: 0 1 1 1 1 1 0 0 0 0 0 0 1 1 0 0 0 0 0 0 0 0 0 0 1 2 2 3 4 4 4 4 4 5 5 5 5 5 4 4 4 4 4 4 4 4 4 4 4 4 4 4 4 4 4 4 4 4 4 3 3 2 2 1 2 2 2 2 2 2 2 2 3 3 2 3 3 4 4 4 4 4 4 4 3 2 2 2 2 1 2 2 2 2 2 2 2 2 2 2\n",
      "\n",
      "Step 7499 loss 0.015863\n",
      "  0: ( [ } ( ) a ( } a { ( ) a } ) ) a ] } ) } ) ] } { } ) [ ] { ] a ( } } ) ) ] a [ ] { [ [ ) ( [ } ] a { ) ( ( ) a [ ) } [ } ) } } ] ( ] ) ) [ [ ] } } ] ) } } ( ] [ } a [ { { a { ) ) [ ( { { [ [ ( ] ] [\n",
      "G(): 1 1 1 2 1 1 2 2 2 2 3 2 2 2 1 0 0 0 0 0 0 0 0 0 0 0 0 0 0 0 0 0 1 1 1 0 0 0 0 0 0 0 0 0 0 1 1 1 1 1 1 0 1 2 1 1 1 0 0 0 0 0 0 0 0 1 1 0 0 0 0 0 0 0 0 0 0 0 1 1 1 1 1 1 1 1 1 1 0 0 0 1 1 1 1 1 2 2 2 2\n",
      "P(): 1 1 1 2 1 1 2 2 2 2 3 2 2 2 1 0 0 0 0 0 0 0 0 0 0 0 0 0 0 0 0 0 1 1 1 0 0 0 0 0 0 0 0 0 0 1 1 1 1 1 1 0 1 2 1 1 1 0 0 0 0 0 0 0 0 1 1 0 0 0 0 0 0 0 0 0 0 0 1 1 1 1 1 1 1 1 1 1 0 0 0 1 1 1 1 1 2 2 2 2\n",
      "G[]: 0 1 1 1 1 1 1 1 1 1 1 1 1 1 1 1 1 0 0 0 0 0 0 0 0 0 0 1 0 0 0 0 0 0 0 0 0 0 0 1 0 0 1 2 2 2 3 3 2 2 2 2 2 2 2 2 3 3 3 4 4 4 4 4 3 3 2 2 2 3 4 3 3 3 2 2 2 2 2 1 2 2 2 3 3 3 3 3 3 3 4 4 4 4 5 5 5 4 3 4\n",
      "P[]: 0 1 1 1 1 1 1 1 1 1 1 1 1 1 1 1 1 0 0 0 0 0 0 0 0 0 0 1 0 0 0 0 0 0 0 0 0 0 0 1 0 0 1 2 2 2 3 3 2 2 2 2 2 2 2 2 3 3 3 4 4 4 4 4 3 3 2 2 2 3 4 3 3 3 2 2 2 2 2 1 2 2 2 3 3 3 3 3 3 3 4 4 4 4 5 5 5 4 3 4\n",
      "G{}: 0 0 0 0 0 0 0 0 0 1 1 1 1 0 0 0 0 0 0 0 0 0 0 0 1 0 0 0 0 1 1 1 1 0 0 0 0 0 0 0 0 1 1 1 1 1 1 0 0 0 1 1 1 1 1 1 1 1 0 0 0 0 0 0 0 0 0 0 0 0 0 0 0 0 0 0 0 0 0 0 0 0 0 0 1 2 2 3 3 3 3 3 4 5 5 5 5 5 5 5\n",
      "P{}: 0 0 0 0 0 0 0 0 0 1 1 1 1 0 0 0 0 0 0 0 0 0 0 0 1 0 0 0 0 1 1 1 1 0 0 0 0 0 0 0 0 1 1 1 1 1 1 0 0 0 1 1 1 1 1 1 1 1 0 0 0 0 0 0 0 0 0 0 0 0 0 0 0 0 0 0 0 0 0 0 0 0 0 0 1 2 2 3 3 3 3 3 4 5 5 5 5 5 5 5\n",
      "\n",
      "Step 7999 loss 0.009591\n",
      "  0: ) ) ( [ ) } ] [ ] [ ) a { ( ) [ ( ( ) ( ] ) ] ] } ) a [ ) a ( ) ( [ { { { [ } ] a { a { ) a { ) ] { ( ] ) ) ) { [ { ] } a ] a ) a } ] ( ( } } ) ) [ ( [ [ [ ) } [ ( { ) ] [ a ) [ a ( ( { { ) ] ] } } }\n",
      "G(): 0 0 1 1 0 0 0 0 0 0 0 0 0 1 0 0 1 2 1 2 2 1 1 1 1 0 0 0 0 0 1 0 1 1 1 1 1 1 1 1 1 1 1 1 0 0 0 0 0 0 1 1 0 0 0 0 0 0 0 0 0 0 0 0 0 0 0 1 2 2 2 1 0 0 1 1 1 1 0 0 0 1 1 0 0 0 0 0 0 0 1 2 2 2 1 1 1 1 1 1\n",
      "P(): 0 0 1 1 0 0 0 0 0 0 0 0 0 1 0 0 1 2 1 2 2 1 1 1 1 0 0 0 0 0 1 0 1 1 1 1 1 1 1 1 1 1 1 1 0 0 0 0 0 0 1 1 0 0 0 0 0 0 0 0 0 0 0 0 0 0 0 1 2 2 2 1 0 0 1 1 1 1 0 0 0 1 1 0 0 0 0 0 0 0 1 2 2 2 1 1 1 1 1 1\n",
      "G[]: 0 0 0 1 1 1 0 1 0 1 1 1 1 1 1 2 2 2 2 2 1 1 0 0 0 0 0 1 1 1 1 1 1 2 2 2 2 3 3 2 2 2 2 2 2 2 2 2 1 1 1 0 0 0 0 0 1 1 0 0 0 0 0 0 0 0 0 0 0 0 0 0 0 1 1 2 3 4 4 4 5 5 5 5 4 5 5 5 5 5 5 5 5 5 5 4 3 3 3 3\n",
      "P[]: 0 0 0 1 1 1 0 1 0 1 1 1 1 1 1 2 2 2 2 2 1 1 0 0 0 0 0 1 1 1 1 1 1 2 2 2 2 3 3 2 2 2 2 2 2 2 2 2 1 1 1 0 0 0 0 0 1 1 0 0 0 0 0 0 0 0 0 0 0 0 0 0 0 1 1 2 3 4 4 4 5 5 5 5 4 5 5 5 5 5 5 5 5 5 5 4 3 3 3 3\n",
      "G{}: 0 0 0 0 0 0 0 0 0 0 0 0 1 1 1 1 1 1 1 1 1 1 1 1 0 0 0 0 0 0 0 0 0 0 1 2 3 3 2 2 2 3 3 4 4 4 5 5 5 5 5 5 5 5 5 5 5 5 5 4 4 4 4 4 4 3 3 3 3 2 1 1 1 1 1 1 1 1 1 0 0 0 1 1 1 1 1 1 1 1 1 1 2 3 3 3 3 2 1 0\n",
      "P{}: 0 0 0 0 0 0 0 0 0 0 0 0 1 1 1 1 1 1 1 1 1 1 1 1 0 0 0 0 0 0 0 0 0 0 1 2 3 3 2 2 2 3 3 4 4 4 5 5 5 5 5 5 5 5 5 5 5 5 5 4 4 4 4 4 4 3 3 3 3 2 1 1 1 1 1 1 1 1 1 0 0 0 1 1 1 1 1 1 1 1 1 1 2 3 3 3 3 2 1 0\n",
      "\n",
      "Step 8499 loss 0.002339\n",
      "  0: { a ] ) a ( } ) ( ( ( [ { [ [ [ a [ } } ( ] a } [ a } ) ] [ ( a [ } [ ) ) [ { ( { [ a ] } ( } [ ( ) a a } } ) ) ) { } } ) { ] ] a [ a a ) ) ] { { ( { a } ) [ ) ) ] a } ) ] } ] ] a } { ( } ] ] [ ) ) }\n",
      "G(): 0 0 0 0 0 1 1 0 1 2 3 3 3 3 3 3 3 3 3 3 4 4 4 4 4 4 4 3 3 3 4 4 4 4 4 3 2 2 2 3 3 3 3 3 3 4 4 4 5 4 4 4 4 4 3 2 1 1 1 1 0 0 0 0 0 0 0 0 0 0 0 0 0 1 1 1 1 0 0 0 0 0 0 0 0 0 0 0 0 0 0 0 1 1 1 1 1 0 0 0\n",
      "P(): 0 0 0 0 0 1 1 0 1 2 3 3 3 3 3 3 3 3 3 3 4 4 4 4 4 4 4 3 3 3 4 4 4 4 4 3 2 2 2 3 3 3 3 3 3 4 4 4 5 4 4 4 4 4 3 2 1 1 1 1 0 0 0 0 0 0 0 0 0 0 0 0 0 1 1 1 1 0 0 0 0 0 0 0 0 0 0 0 0 0 0 0 1 1 1 1 1 0 0 0\n",
      "G[]: 0 0 0 0 0 0 0 0 0 0 0 1 1 2 3 4 4 5 5 5 5 4 4 4 5 5 5 5 4 5 5 5 5 5 5 5 5 5 5 5 5 5 5 4 4 4 4 5 5 5 5 5 5 5 5 5 5 5 5 5 5 5 4 3 3 4 4 4 4 4 3 3 3 3 3 3 3 3 4 4 4 3 3 3 3 2 2 1 0 0 0 0 0 0 0 0 1 1 1 1\n",
      "P[]: 0 0 0 0 0 0 0 0 0 0 0 1 1 2 3 4 4 5 5 5 5 4 4 4 5 5 5 5 4 5 5 5 5 5 5 5 5 5 5 5 5 5 5 4 4 4 4 5 5 5 5 5 5 5 5 5 5 5 5 5 5 5 4 3 3 4 4 4 4 4 3 3 3 3 3 3 3 3 4 4 4 3 3 3 3 2 2 1 0 0 0 0 0 0 0 0 1 1 1 1\n",
      "G{}: 1 1 1 1 1 1 0 0 0 0 0 0 1 1 1 1 1 1 0 0 0 0 0 0 0 0 0 0 0 0 0 0 0 0 0 0 0 0 1 1 2 2 2 2 1 1 0 0 0 0 0 0 0 0 0 0 0 1 0 0 0 1 1 1 1 1 1 1 1 1 1 2 3 3 4 4 3 3 3 3 3 3 3 2 2 2 1 1 1 1 0 1 1 0 0 0 0 0 0 0\n",
      "P{}: 1 1 1 1 1 1 0 0 0 0 0 0 1 1 1 1 1 1 0 0 0 0 0 0 0 0 0 0 0 0 0 0 0 0 0 0 0 0 1 1 2 2 2 2 1 1 0 0 0 0 0 0 0 0 0 0 0 1 0 0 0 1 1 1 1 1 1 1 1 1 1 2 3 3 4 4 3 3 3 3 3 3 3 2 2 2 1 1 1 1 0 1 1 0 0 0 0 0 0 0\n",
      "\n",
      "Step 8999 loss 0.000332\n",
      "  0: a a a ] ( [ } [ } { ) { ) } [ ( [ [ [ a ] ] { ] a [ } ( ( a [ a ) [ a ] ) a ] a a ( { a } ( } [ ) [ a ( a ( ] ] { a { ] { a ) a [ ( a } ) ] ] ) a ) [ a ) ] [ a [ ] ] a [ a ) a a { } a ] ] { a a ) { ]\n",
      "G(): 0 0 0 0 1 1 1 1 1 1 0 0 0 0 0 1 1 1 1 1 1 1 1 1 1 1 1 2 3 3 3 3 2 2 2 2 1 1 1 1 1 2 2 2 2 3 3 3 2 2 2 3 3 4 4 4 4 4 4 4 4 4 3 3 3 4 4 4 3 3 3 2 2 1 1 1 0 0 0 0 0 0 0 0 0 0 0 0 0 0 0 0 0 0 0 0 0 0 0 0\n",
      "P(): 0 0 0 0 1 1 1 1 1 1 0 0 0 0 0 1 1 1 1 1 1 1 1 1 1 1 1 2 3 3 3 3 2 2 2 2 1 1 1 1 1 2 2 2 2 3 3 3 2 2 2 3 3 4 4 4 4 4 4 4 4 4 3 3 3 4 4 4 3 3 3 2 2 1 1 1 0 0 0 0 0 0 0 0 0 0 0 0 0 0 0 0 0 0 0 0 0 0 0 0\n",
      "G[]: 0 0 0 0 0 1 1 2 2 2 2 2 2 2 3 3 4 5 5 5 4 3 3 2 2 3 3 3 3 3 4 4 4 5 5 4 4 4 3 3 3 3 3 3 3 3 3 4 4 5 5 5 5 5 4 3 3 3 3 2 2 2 2 2 3 3 3 3 3 2 1 1 1 1 2 2 2 1 2 2 3 2 1 1 2 2 2 2 2 2 2 2 1 0 0 0 0 0 0 0\n",
      "P[]: 0 0 0 0 0 1 1 2 2 2 2 2 2 2 3 3 4 5 5 5 4 3 3 2 2 3 3 3 3 3 4 4 4 5 5 4 4 4 3 3 3 3 3 3 3 3 3 4 4 5 5 5 5 5 4 3 3 3 3 2 2 2 2 2 3 3 3 3 3 2 1 1 1 1 2 2 2 1 2 2 3 2 1 1 2 2 2 2 2 2 2 2 1 0 0 0 0 0 0 0\n",
      "G{}: 0 0 0 0 0 0 0 0 0 1 1 2 2 1 1 1 1 1 1 1 1 1 2 2 2 2 1 1 1 1 1 1 1 1 1 1 1 1 1 1 1 1 2 2 1 1 0 0 0 0 0 0 0 0 0 0 1 1 2 2 3 3 3 3 3 3 3 2 2 2 2 2 2 2 2 2 2 2 2 2 2 2 2 2 2 2 2 2 2 3 2 2 2 2 3 3 3 3 4 4\n",
      "P{}: 0 0 0 0 0 0 0 0 0 1 1 2 2 1 1 1 1 1 1 1 1 1 2 2 2 2 1 1 1 1 1 1 1 1 1 1 1 1 1 1 1 1 2 2 1 1 0 0 0 0 0 0 0 0 0 0 1 1 2 2 3 3 3 3 3 3 3 2 2 2 2 2 2 2 2 2 2 2 2 2 2 2 2 2 2 2 2 2 2 3 2 2 2 2 3 3 3 3 4 4\n",
      "\n",
      "Step 9499 loss 0.000179\n",
      "  0: { } } ) ) } ) a { ( ] { [ [ a ) ) ] [ [ { ] a ] } } ( ( } } ] { { } } [ [ ] a ( [ ) { a ( ( ) [ ) a { } ] [ ) [ ) { a [ ) { } } ) ) [ { ( ] ) ) a ( } [ ) [ [ ) } { { a { { } ) } a { } { a [ a a } ) )\n",
      "G(): 0 0 0 0 0 0 0 0 0 1 1 1 1 1 1 0 0 0 0 0 0 0 0 0 0 0 1 2 2 2 2 2 2 2 2 2 2 2 2 3 3 2 2 2 3 4 3 3 2 2 2 2 2 2 1 1 0 0 0 0 0 0 0 0 0 0 0 0 1 1 0 0 0 1 1 1 0 0 0 0 0 0 0 0 0 0 0 0 0 0 0 0 0 0 0 0 0 0 0 0\n",
      "P(): 0 0 0 0 0 0 0 0 0 1 1 1 1 1 1 0 0 0 0 0 0 0 0 0 0 0 1 2 2 2 2 2 2 2 2 2 2 2 2 3 3 2 2 2 3 4 3 3 2 2 2 2 2 2 1 1 0 0 0 0 0 0 0 0 0 0 0 0 1 1 0 0 0 1 1 1 0 0 0 0 0 0 0 0 0 0 0 0 0 0 0 0 0 0 0 0 0 0 0 0\n",
      "G[]: 0 0 0 0 0 0 0 0 0 0 0 0 1 2 2 2 2 1 2 3 3 2 2 1 1 1 1 1 1 1 0 0 0 0 0 1 2 1 1 1 2 2 2 2 2 2 2 3 3 3 3 3 2 3 3 4 4 4 4 5 5 5 5 5 5 5 5 5 5 4 4 4 4 4 4 5 5 5 5 5 5 5 5 5 5 5 5 5 5 5 5 5 5 5 5 5 5 5 5 5\n",
      "P[]: 0 0 0 0 0 0 0 0 0 0 0 0 1 2 2 2 2 1 2 3 3 2 2 1 1 1 1 1 1 1 0 0 0 0 0 1 2 1 1 1 2 2 2 2 2 2 2 3 3 3 3 3 2 3 3 4 4 4 4 5 5 5 5 5 5 5 5 5 5 4 4 4 4 4 4 5 5 5 5 5 5 5 5 5 5 5 5 5 5 5 5 5 5 5 5 5 5 5 5 5\n",
      "G{}: 1 0 0 0 0 0 0 0 1 1 1 2 2 2 2 2 2 2 2 2 3 3 3 3 2 1 1 1 0 0 0 1 2 1 0 0 0 0 0 0 0 0 1 1 1 1 1 1 1 1 2 1 1 1 1 1 1 2 2 2 2 3 2 1 1 1 1 2 2 2 2 2 2 2 1 1 1 1 1 1 0 1 2 2 3 4 3 3 2 2 3 2 3 3 3 3 3 2 2 2\n",
      "P{}: 1 0 0 0 0 0 0 0 1 1 1 2 2 2 2 2 2 2 2 2 3 3 3 3 2 1 1 1 0 0 0 1 2 1 0 0 0 0 0 0 0 0 1 1 1 1 1 1 1 1 2 1 1 1 1 1 1 2 2 2 2 3 2 1 1 1 1 2 2 2 2 2 2 2 1 1 1 1 1 1 0 1 2 2 3 4 3 3 2 2 3 2 3 3 3 3 3 2 2 2\n",
      "\n",
      "Step 9999 loss 0.000112\n",
      "  0: a ] ( ( ) { a a [ ) ) { ( ] { [ { ) a ( ) { } [ } } } ) ] [ ] ] [ { a ] a a ( ( ( } } } ] } ] [ a ] ( } ) } ] ( ] ( ( ( ( ) } { a } { ( a ) { ] ] [ ] a ) ] [ a a [ { a ( ( [ { ( ( { a ] { { ( } { a )\n",
      "G(): 0 0 1 2 1 1 1 1 1 0 0 0 1 1 1 1 1 0 0 1 0 0 0 0 0 0 0 0 0 0 0 0 0 0 0 0 0 0 1 2 3 3 3 3 3 3 3 3 3 3 4 4 3 3 3 4 4 5 5 5 5 4 4 4 4 4 4 5 5 4 4 4 4 4 4 4 3 3 3 3 3 3 3 3 4 5 5 5 5 5 5 5 5 5 5 5 5 5 5 4\n",
      "P(): 0 0 1 2 1 1 1 1 1 0 0 0 1 1 1 1 1 0 0 1 0 0 0 0 0 0 0 0 0 0 0 0 0 0 0 0 0 0 1 2 3 3 3 3 3 3 3 3 3 3 4 4 3 3 3 4 4 5 5 5 5 4 4 4 4 4 4 5 5 4 4 4 4 4 4 4 3 3 3 3 3 3 3 3 4 5 5 5 5 5 5 5 5 5 5 5 5 5 5 4\n",
      "G[]: 0 0 0 0 0 0 0 0 1 1 1 1 1 0 0 1 1 1 1 1 1 1 1 2 2 2 2 2 1 2 1 0 1 1 1 0 0 0 0 0 0 0 0 0 0 0 0 1 1 0 0 0 0 0 0 0 0 0 0 0 0 0 0 0 0 0 0 0 0 0 0 0 0 1 0 0 0 0 1 1 1 2 2 2 2 2 3 3 3 3 3 3 2 2 2 2 2 2 2 2\n",
      "P[]: 0 0 0 0 0 0 0 0 1 1 1 1 1 0 0 1 1 1 1 1 1 1 1 2 2 2 2 2 1 2 1 0 1 1 1 0 0 0 0 0 0 0 0 0 0 0 0 1 1 0 0 0 0 0 0 0 0 0 0 0 0 0 0 0 0 0 0 0 0 0 0 0 0 1 0 0 0 0 1 1 1 2 2 2 2 2 3 3 3 3 3 3 2 2 2 2 2 2 2 2\n",
      "G{}: 0 0 0 0 0 1 1 1 1 1 1 2 2 2 3 3 4 4 4 4 4 5 4 4 3 2 1 1 1 1 1 1 1 2 2 2 2 2 2 2 2 1 0 0 0 0 0 0 0 0 0 0 0 0 0 0 0 0 0 0 0 0 0 1 1 0 1 1 1 1 2 2 2 2 2 2 2 2 2 2 2 2 3 3 3 3 3 4 4 4 5 5 5 5 5 5 4 5 5 5\n",
      "P{}: 0 0 0 0 0 1 1 1 1 1 1 2 2 2 3 3 4 4 4 4 4 5 4 4 3 2 1 1 1 1 1 1 1 2 2 2 2 2 2 2 2 1 0 0 0 0 0 0 0 0 0 0 0 0 0 0 0 0 0 0 0 0 0 1 1 0 1 1 1 1 2 2 2 2 2 2 2 2 2 2 2 2 3 3 3 3 3 4 4 4 5 5 5 5 5 5 4 5 5 5\n",
      "\n",
      "Step 10499 loss 0.000070\n",
      "  0: } } { ) ( } a } ) ] a a ( ] ( ] } ] ] [ ( a [ ] } ( ) ] ] [ } } ) a { } ] { ) [ a ( } ] a [ [ { } ) { } a } [ { ( ] ( [ ] } { ] } { ) ] { { ) ] { { ) a } } ) ( { { } ( ( ] { } ( a } [ ( } ] } ( [ { ]\n",
      "G(): 0 0 0 0 1 1 1 1 0 0 0 0 1 1 2 2 2 2 2 2 3 3 3 3 3 4 3 3 3 3 3 3 2 2 2 2 2 2 1 1 1 2 2 2 2 2 2 2 2 1 1 1 1 1 1 1 2 2 3 3 3 3 3 3 3 3 2 2 2 2 1 1 1 1 0 0 0 0 0 1 1 1 1 2 3 3 3 3 4 4 4 4 5 5 5 5 5 5 5 5\n",
      "P(): 0 0 0 0 1 1 1 1 0 0 0 0 1 1 2 2 2 2 2 2 3 3 3 3 3 4 3 3 3 3 3 3 2 2 2 2 2 2 1 1 1 2 2 2 2 2 2 2 2 1 1 1 1 1 1 1 2 2 3 3 3 3 3 3 3 3 2 2 2 2 1 1 1 1 0 0 0 0 0 1 1 1 1 2 3 3 3 3 4 4 4 4 5 5 5 5 5 5 5 5\n",
      "G[]: 0 0 0 0 0 0 0 0 0 0 0 0 0 0 0 0 0 0 0 1 1 1 2 1 1 1 1 0 0 1 1 1 1 1 1 1 0 0 0 1 1 1 1 0 0 1 2 2 2 2 2 2 2 2 3 3 3 2 2 3 2 2 2 1 1 1 1 0 0 0 0 0 0 0 0 0 0 0 0 0 0 0 0 0 0 0 0 0 0 0 0 1 1 1 0 0 0 1 1 0\n",
      "P[]: 0 0 0 0 0 0 0 0 0 0 0 0 0 0 0 0 0 0 0 1 1 1 2 1 1 1 1 0 0 1 1 1 1 1 1 1 0 0 0 1 1 1 1 0 0 1 2 2 2 2 2 2 2 2 3 3 3 2 2 3 2 2 2 1 1 1 1 0 0 0 0 0 0 0 0 0 0 0 0 0 0 0 0 0 0 0 0 0 0 0 0 1 1 1 0 0 0 1 1 0\n",
      "G{}: 0 0 1 1 1 0 0 0 0 0 0 0 0 0 0 0 0 0 0 0 0 0 0 0 0 0 0 0 0 0 0 0 0 0 1 0 0 1 1 1 1 1 0 0 0 0 0 1 0 0 1 0 0 0 0 1 1 1 1 1 1 0 1 1 0 1 1 1 2 3 3 3 4 5 5 5 4 3 3 3 4 5 4 4 4 4 5 4 4 4 3 3 3 2 2 1 1 1 2 2\n",
      "P{}: 0 0 1 1 1 0 0 0 0 0 0 0 0 0 0 0 0 0 0 0 0 0 0 0 0 0 0 0 0 0 0 0 0 0 1 0 0 1 1 1 1 1 0 0 0 0 0 1 0 0 1 0 0 0 0 1 1 1 1 1 1 0 1 1 0 1 1 1 2 3 3 3 4 5 5 5 4 3 3 3 4 5 4 4 4 4 5 4 4 4 3 3 3 2 2 1 1 1 2 2\n",
      "\n",
      "Step 10999 loss 0.000049\n",
      "  0: ) [ } } a { a { ] { { ) ( ] } [ { { } } ( ( } ] ( ] } ] a } { [ ] { { ) a ] ) a } ( [ a a { } { { ( { { ( a ( { ) [ ] ( ( } ] { } ) ( ] [ ) ( } } { ( [ ( a { ] a ( ) ( ) a ( ] } } a a ) a ] a ) ] a ]\n",
      "G(): 0 0 0 0 0 0 0 0 0 0 0 0 1 1 1 1 1 1 1 1 2 3 3 3 4 4 4 4 4 4 4 4 4 4 4 3 3 3 2 2 2 3 3 3 3 3 3 3 3 4 4 4 5 5 5 5 4 4 4 5 5 5 5 5 5 4 5 5 5 4 5 5 5 5 5 5 5 5 5 5 5 5 4 5 4 4 5 5 5 5 5 5 4 4 4 4 3 3 3 3\n",
      "P(): 0 0 0 0 0 0 0 0 0 0 0 0 1 1 1 1 1 1 1 1 2 3 3 3 4 4 4 4 4 4 4 4 4 4 4 3 3 3 2 2 2 3 3 3 3 3 3 3 3 4 4 4 5 5 5 5 4 4 4 5 5 5 5 5 5 4 5 5 5 4 5 5 5 5 5 5 5 5 5 5 5 5 4 5 4 4 5 5 5 5 5 5 4 4 4 4 3 3 3 3\n",
      "G[]: 0 1 1 1 1 1 1 1 0 0 0 0 0 0 0 1 1 1 1 1 1 1 1 0 0 0 0 0 0 0 0 1 0 0 0 0 0 0 0 0 0 0 1 1 1 1 1 1 1 1 1 1 1 1 1 1 1 2 1 1 1 1 0 0 0 0 0 0 1 1 1 1 1 1 1 2 2 2 2 1 1 1 1 1 1 1 1 0 0 0 0 0 0 0 0 0 0 0 0 0\n",
      "P[]: 0 1 1 1 1 1 1 1 0 0 0 0 0 0 0 1 1 1 1 1 1 1 1 0 0 0 0 0 0 0 0 1 0 0 0 0 0 0 0 0 0 0 1 1 1 1 1 1 1 1 1 1 1 1 1 1 1 2 1 1 1 1 0 0 0 0 0 0 1 1 1 1 1 1 1 2 2 2 2 1 1 1 1 1 1 1 1 0 0 0 0 0 0 0 0 0 0 0 0 0\n",
      "G{}: 0 0 0 0 0 1 1 2 2 3 4 4 4 4 3 3 4 5 4 3 3 3 2 2 2 2 1 1 1 0 1 1 1 2 3 3 3 3 3 3 2 2 2 2 2 3 2 3 4 4 5 5 5 5 5 5 5 5 5 5 5 4 4 5 4 4 4 4 4 4 4 3 2 3 3 3 3 3 4 4 4 4 4 4 4 4 4 4 3 2 2 2 2 2 2 2 2 2 2 2\n",
      "P{}: 0 0 0 0 0 1 1 2 2 3 4 4 4 4 3 3 4 5 4 3 3 3 2 2 2 2 1 1 1 0 1 1 1 2 3 3 3 3 3 3 2 2 2 2 2 3 2 3 4 4 5 5 5 5 5 5 5 5 5 5 5 4 4 5 4 4 4 4 4 4 4 3 2 3 3 3 3 3 4 4 4 4 4 4 4 4 4 4 3 2 2 2 2 2 2 2 2 2 2 2\n",
      "\n",
      "Step 11499 loss 0.000036\n",
      "  0: ] ) } a a ( ] [ a } } { [ ) [ a ) ( { ( ( } { ] } } } ] a ( [ ) ( ) [ } ] { [ a a } ) ) ) { ) { ) { } ] ( a [ ) ( a } ] [ ( ) ] a [ ) ) a ( } ] ] [ [ ] a [ a ] ] } { { a [ ] } ( ) } ) ] [ [ { ( ) { a\n",
      "G(): 0 0 0 0 0 1 1 1 1 1 1 1 1 0 0 0 0 1 1 2 3 3 3 3 3 3 3 3 3 4 4 3 4 3 3 3 3 3 3 3 3 3 2 1 0 0 0 0 0 0 0 0 1 1 1 0 1 1 1 1 1 2 1 1 1 1 0 0 0 1 1 1 1 1 1 1 1 1 1 1 1 1 1 1 1 1 1 1 2 1 1 0 0 0 0 0 1 0 0 0\n",
      "P(): 0 0 0 0 0 1 1 1 1 1 1 1 1 0 0 0 0 1 1 2 3 3 3 3 3 3 3 3 3 4 4 3 4 3 3 3 3 3 3 3 3 3 2 1 0 0 0 0 0 0 0 0 1 1 1 0 1 1 1 1 1 2 1 1 1 1 0 0 0 1 1 1 1 1 1 1 1 1 1 1 1 1 1 1 1 1 1 1 2 1 1 0 0 0 0 0 1 0 0 0\n",
      "G[]: 0 0 0 0 0 0 0 1 1 1 1 1 2 2 3 3 3 3 3 3 3 3 3 2 2 2 2 1 1 1 2 2 2 2 3 3 2 2 3 3 3 3 3 3 3 3 3 3 3 3 3 2 2 2 3 3 3 3 3 2 3 3 3 2 2 3 3 3 3 3 3 2 1 2 3 2 2 3 3 2 1 1 1 1 1 2 1 1 1 1 1 1 0 1 2 2 2 2 2 2\n",
      "P[]: 0 0 0 0 0 0 0 1 1 1 1 1 2 2 3 3 3 3 3 3 3 3 3 2 2 2 2 1 1 1 2 2 2 2 3 3 2 2 3 3 3 3 3 3 3 3 3 3 3 3 3 2 2 2 3 3 3 3 3 2 3 3 3 2 2 3 3 3 3 3 3 2 1 2 3 2 2 3 3 2 1 1 1 1 1 2 1 1 1 1 1 1 0 1 2 2 2 2 2 2\n",
      "G{}: 0 0 0 0 0 0 0 0 0 0 0 1 1 1 1 1 1 1 2 2 2 1 2 2 1 0 0 0 0 0 0 0 0 0 0 0 0 1 1 1 1 0 0 0 0 1 1 2 2 3 2 2 2 2 2 2 2 2 1 1 1 1 1 1 1 1 1 1 1 1 0 0 0 0 0 0 0 0 0 0 0 0 1 2 2 2 2 1 1 1 0 0 0 0 0 1 1 1 2 2\n",
      "P{}: 0 0 0 0 0 0 0 0 0 0 0 1 1 1 1 1 1 1 2 2 2 1 2 2 1 0 0 0 0 0 0 0 0 0 0 0 0 1 1 1 1 0 0 0 0 1 1 2 2 3 2 2 2 2 2 2 2 2 1 1 1 1 1 1 1 1 1 1 1 1 0 0 0 0 0 0 0 0 0 0 0 0 1 2 2 2 2 1 1 1 0 0 0 0 0 1 1 1 2 2\n",
      "\n",
      "Step 11999 loss 0.000045\n",
      "  0: ( { a { ( a ] ) [ a { ( a } } { ] ) ( { ] } } ( ( ) } ( [ ] [ ] ] ) ( ] [ ( [ { ] { a ) ) } [ ) [ ) ) [ } } ( ) ) { { [ { ] ) ) ( ] a [ ] } a ] ) { ] ] { ] ) ) { { ] ] ) [ a ] } ] { [ { { } { [ [ a (\n",
      "G(): 1 1 1 1 2 2 2 1 1 1 1 2 2 2 2 2 2 1 2 2 2 2 2 3 4 3 3 4 4 4 4 4 4 3 4 4 4 5 5 5 5 5 5 4 3 3 3 2 2 1 0 0 0 0 1 0 0 0 0 0 0 0 0 0 1 1 1 1 1 1 1 1 0 0 0 0 0 0 0 0 0 0 0 0 0 0 0 0 0 0 0 0 0 0 0 0 0 0 0 1\n",
      "P(): 1 1 1 1 2 2 2 1 1 1 1 2 2 2 2 2 2 1 2 2 2 2 2 3 4 3 3 4 4 4 4 4 4 3 4 4 4 5 5 5 5 5 5 4 3 3 3 2 2 1 0 0 0 0 1 0 0 0 0 0 0 0 0 0 1 1 1 1 1 1 1 1 0 0 0 0 0 0 0 0 0 0 0 0 0 0 0 0 0 0 0 0 0 0 0 0 0 0 0 1\n",
      "G[]: 0 0 0 0 0 0 0 0 1 1 1 1 1 1 1 1 0 0 0 0 0 0 0 0 0 0 0 0 1 0 1 0 0 0 0 0 1 1 2 2 1 1 1 1 1 1 2 2 3 3 3 4 4 4 4 4 4 4 4 5 5 4 4 4 4 3 3 4 3 3 3 2 2 2 1 0 0 0 0 0 0 0 0 0 0 1 1 0 0 0 0 1 1 1 1 1 2 3 3 3\n",
      "P[]: 0 0 0 0 0 0 0 0 1 1 1 1 1 1 1 1 0 0 0 0 0 0 0 0 0 0 0 0 1 0 1 0 0 0 0 0 1 1 2 2 1 1 1 1 1 1 2 2 3 3 3 4 4 4 4 4 4 4 4 5 5 4 4 4 4 3 3 4 3 3 3 2 2 2 1 0 0 0 0 0 0 0 0 0 0 1 1 0 0 0 0 1 1 1 1 1 2 3 3 3\n",
      "G{}: 0 1 1 2 2 2 2 2 2 2 3 3 3 2 1 2 2 2 2 3 3 2 1 1 1 1 0 0 0 0 0 0 0 0 0 0 0 0 0 1 1 2 2 2 2 1 1 1 1 1 1 1 0 0 0 0 0 1 2 2 3 3 3 3 3 3 3 3 3 2 2 2 2 3 3 3 4 4 4 4 5 5 5 5 5 5 5 5 4 4 5 5 5 5 4 5 5 5 5 5\n",
      "P{}: 0 1 1 2 2 2 2 2 2 2 3 3 3 2 1 2 2 2 2 3 3 2 1 1 1 1 0 0 0 0 0 0 0 0 0 0 0 0 0 1 1 2 2 2 2 1 1 1 1 1 1 1 0 0 0 0 0 1 2 2 3 3 3 3 3 3 3 3 3 2 2 2 2 3 3 3 4 4 4 4 5 5 5 5 5 5 5 5 4 4 5 5 5 5 4 5 5 5 5 5\n",
      "\n",
      "Step 12499 loss 0.000029\n",
      "  0: ) [ a { ) a ] ( ) } ( [ ) [ } a { { ] ] { a ) { [ a [ [ ] ] { a { [ { a { ] } } ] ] ( } { ( ) } { { } ( ( ) ( ] { { } [ { [ [ ] ( { } a a ) } } [ [ [ ] a ) ( ( a ( a [ { a a ] } a a { ] { a ) [ a ( (\n",
      "G(): 0 0 0 0 0 0 0 1 0 0 1 1 0 0 0 0 0 0 0 0 0 0 0 0 0 0 0 0 0 0 0 0 0 0 0 0 0 0 0 0 0 0 1 1 1 2 1 1 1 1 1 2 3 2 3 3 3 3 3 3 3 3 3 3 4 4 4 4 4 3 3 3 3 3 3 3 3 2 3 4 4 5 5 5 5 5 5 5 5 5 5 5 5 5 5 4 4 4 5 5\n",
      "P(): 0 0 0 0 0 0 0 1 0 0 1 1 0 0 0 0 0 0 0 0 0 0 0 0 0 0 0 0 0 0 0 0 0 0 0 0 0 0 0 0 0 0 1 1 1 2 1 1 1 1 1 2 3 2 3 3 3 3 3 3 3 3 3 3 4 4 4 4 4 3 3 3 3 3 3 3 3 2 3 4 4 5 5 5 5 5 5 5 5 5 5 5 5 5 5 4 4 4 5 5\n",
      "G[]: 0 1 1 1 1 1 0 0 0 0 0 1 1 2 2 2 2 2 1 0 0 0 0 0 1 1 2 3 2 1 1 1 1 2 2 2 2 1 1 1 0 0 0 0 0 0 0 0 0 0 0 0 0 0 0 0 0 0 0 1 1 2 3 2 2 2 2 2 2 2 2 2 3 4 5 4 4 4 4 4 4 4 4 5 5 5 5 4 4 4 4 4 3 3 3 3 4 4 4 4\n",
      "P[]: 0 1 1 1 1 1 0 0 0 0 0 1 1 2 2 2 2 2 1 0 0 0 0 0 1 1 2 3 2 1 1 1 1 2 2 2 2 1 1 1 0 0 0 0 0 0 0 0 0 0 0 0 0 0 0 0 0 0 0 1 1 2 3 2 2 2 2 2 2 2 2 2 3 4 5 4 4 4 4 4 4 4 4 5 5 5 5 4 4 4 4 4 3 3 3 3 4 4 4 4\n",
      "G{}: 0 0 0 1 1 1 1 1 1 0 0 0 0 0 0 0 1 2 2 2 3 3 3 4 4 4 4 4 4 4 5 5 5 5 5 5 5 5 4 3 3 3 3 2 3 3 3 2 3 4 3 3 3 3 3 3 4 5 4 4 5 5 5 5 5 5 4 4 4 4 3 2 2 2 2 2 2 2 2 2 2 2 2 2 3 3 3 3 2 2 2 3 3 4 4 4 4 4 4 4\n",
      "P{}: 0 0 0 1 1 1 1 1 1 0 0 0 0 0 0 0 1 2 2 2 3 3 3 4 4 4 4 4 4 4 5 5 5 5 5 5 5 5 4 3 3 3 3 2 3 3 3 2 3 4 3 3 3 3 3 3 4 5 4 4 5 5 5 5 5 5 4 4 4 4 3 2 2 2 2 2 2 2 2 2 2 2 2 2 3 3 3 3 2 2 2 3 3 4 4 4 4 4 4 4\n",
      "\n",
      "Step 12999 loss 0.000048\n",
      "  0: ( a ( ( [ { ] [ } a ] a [ { a a ( { ( } ] [ } [ ) } { [ ( ) ] ) a ( [ [ ] { ( [ [ ] ) [ } [ } [ ( ( { { } ] } ] ) } ] a [ ) { a ] } a { ] a ] { ) ( ] ( ] [ [ } ] ( ( ( { { [ } ( { ( ) ) ( } ) [ ( [ [\n",
      "G(): 1 1 2 3 3 3 3 3 3 3 3 3 3 3 3 3 4 4 5 5 5 5 5 5 4 4 4 4 5 4 4 3 3 4 4 4 4 4 5 5 5 5 4 4 4 4 4 4 5 5 5 5 5 5 5 5 4 4 4 4 4 3 3 3 3 3 3 3 3 3 3 3 2 3 3 4 4 4 4 4 4 5 5 5 5 5 5 5 5 5 5 4 3 4 4 3 3 4 4 4\n",
      "P(): 1 1 2 3 3 3 3 3 3 3 3 3 3 3 3 3 4 4 5 5 5 5 5 5 4 4 4 4 5 4 4 3 3 4 4 4 4 4 5 5 5 5 4 4 4 4 4 4 5 5 5 5 5 5 5 5 4 4 4 4 4 3 3 3 3 3 3 3 3 3 3 3 2 3 3 4 4 4 4 4 4 5 5 5 5 5 5 5 5 5 5 4 3 4 4 3 3 4 4 4\n",
      "G[]: 0 0 0 0 1 1 0 1 1 1 0 0 1 1 1 1 1 1 1 1 0 1 1 2 2 2 2 3 3 3 2 2 2 2 3 4 3 3 3 4 5 4 4 5 5 5 5 5 5 5 5 5 5 4 4 3 3 3 2 2 3 3 3 3 2 2 2 2 1 1 0 0 0 0 0 0 0 1 2 2 1 1 1 1 1 1 2 2 2 2 2 2 2 2 2 2 3 3 4 5\n",
      "P[]: 0 0 0 0 1 1 0 1 1 1 0 0 1 1 1 1 1 1 1 1 0 1 1 2 2 2 2 3 3 3 2 2 2 2 3 4 3 3 3 4 5 4 4 5 5 5 5 5 5 5 5 5 5 4 4 3 3 3 2 2 3 3 3 3 2 2 2 2 1 1 0 0 0 0 0 0 0 1 2 2 1 1 1 1 1 1 2 2 2 2 2 2 2 2 2 2 3 3 4 5\n",
      "G{}: 0 0 0 0 0 1 1 1 0 0 0 0 0 1 1 1 1 2 2 1 1 1 0 0 0 0 1 1 1 1 1 1 1 1 1 1 1 2 2 2 2 2 2 2 1 1 0 0 0 0 1 2 1 1 0 0 0 0 0 0 0 0 1 1 1 0 0 1 1 1 1 2 2 2 2 2 2 2 2 1 1 1 1 1 2 3 3 2 2 3 3 3 3 3 2 2 2 2 2 2\n",
      "P{}: 0 0 0 0 0 1 1 1 0 0 0 0 0 1 1 1 1 2 2 1 1 1 0 0 0 0 1 1 1 1 1 1 1 1 1 1 1 2 2 2 2 2 2 2 1 1 0 0 0 0 1 2 1 1 0 0 0 0 0 0 0 0 1 1 1 0 0 1 1 1 1 2 2 2 2 2 2 2 2 1 1 1 1 1 2 3 3 2 2 3 3 3 3 3 2 2 2 2 2 2\n",
      "\n",
      "Step 13499 loss 0.000034\n",
      "  0: } [ ( { } } ] { ) a } ) [ [ ( a a } ) } ( ( ( [ ) ( } ( ) [ ( [ a ) ] a ( } a a ) ] ) a ] { a ] a ) { { ) ( } { { ] a ( ) a ] ) { ] } ( a } ] } ] ) } [ a } ] a { [ { ) ] ] [ ] ( ) { { ] ] ] a ) ) a (\n",
      "G(): 0 0 1 1 1 1 1 1 0 0 0 0 0 0 1 1 1 1 0 0 1 2 3 3 2 3 3 4 3 3 4 4 4 3 3 3 4 4 4 4 3 3 2 2 2 2 2 2 2 1 1 1 0 1 1 1 1 1 1 2 1 1 1 0 0 0 0 1 1 1 1 1 1 0 0 0 0 0 0 0 0 0 0 0 0 0 0 0 1 0 0 0 0 0 0 0 0 0 0 1\n",
      "P(): 0 0 1 1 1 1 1 1 0 0 0 0 0 0 1 1 1 1 0 0 1 2 3 3 2 3 3 4 3 3 4 4 4 3 3 3 4 4 4 4 3 3 2 2 2 2 2 2 2 1 1 1 0 1 1 1 1 1 1 2 1 1 1 0 0 0 0 1 1 1 1 1 1 0 0 0 0 0 0 0 0 0 0 0 0 0 0 0 1 0 0 0 0 0 0 0 0 0 0 1\n",
      "G[]: 0 1 1 1 1 1 0 0 0 0 0 0 1 2 2 2 2 2 2 2 2 2 2 3 3 3 3 3 3 4 4 5 5 5 4 4 4 4 4 4 4 3 3 3 2 2 2 1 1 1 1 1 1 1 1 1 1 0 0 0 0 0 0 0 0 0 0 0 0 0 0 0 0 0 0 1 1 1 0 0 0 1 1 1 0 0 1 0 0 0 0 0 0 0 0 0 0 0 0 0\n",
      "P[]: 0 1 1 1 1 1 0 0 0 0 0 0 1 2 2 2 2 2 2 2 2 2 2 3 3 3 3 3 3 4 4 5 5 5 4 4 4 4 4 4 4 3 3 3 2 2 2 1 1 1 1 1 1 1 1 1 1 0 0 0 0 0 0 0 0 0 0 0 0 0 0 0 0 0 0 1 1 1 0 0 0 1 1 1 0 0 1 0 0 0 0 0 0 0 0 0 0 0 0 0\n",
      "G{}: 0 0 0 1 0 0 0 1 1 1 0 0 0 0 0 0 0 0 0 0 0 0 0 0 0 0 0 0 0 0 0 0 0 0 0 0 0 0 0 0 0 0 0 0 0 1 1 1 1 1 2 3 3 3 2 3 4 4 4 4 4 4 4 4 5 5 4 4 4 3 3 2 2 2 1 1 1 0 0 0 1 1 2 2 2 2 2 2 2 2 3 4 4 4 4 4 4 4 4 4\n",
      "P{}: 0 0 0 1 0 0 0 1 1 1 0 0 0 0 0 0 0 0 0 0 0 0 0 0 0 0 0 0 0 0 0 0 0 0 0 0 0 0 0 0 0 0 0 0 0 1 1 1 1 1 2 3 3 3 2 3 4 4 4 4 4 4 4 4 5 5 4 4 4 3 3 2 2 2 1 1 1 0 0 0 1 1 2 2 2 2 2 2 2 2 3 4 4 4 4 4 4 4 4 4\n",
      "\n",
      "Step 13999 loss 0.000045\n",
      "  0: [ ) { [ a { a ( a [ ( ) a ) [ [ ) ( ] ) [ } } ] ] ] ) ) ( { [ ] ) a } ] ] ( ) } ( ] ) a } a ( a ] ) [ [ ] ) ) [ ) a ( } ) a ] ] ] ( ] ) ( ( { ] ( ) ] ( a { ] } [ } [ ) ] ) ] } } [ { ( } ( a [ ( a [ }\n",
      "G(): 0 0 0 0 0 0 0 1 1 1 2 1 1 0 0 0 0 1 1 0 0 0 0 0 0 0 0 0 1 1 1 1 0 0 0 0 0 1 0 0 1 1 0 0 0 0 1 1 1 0 0 0 0 0 0 0 0 0 1 1 0 0 0 0 0 1 1 0 1 2 2 2 3 2 2 3 3 3 3 3 3 3 3 2 2 1 1 1 1 1 1 2 2 3 3 3 4 4 4 4\n",
      "P(): 0 0 0 0 0 0 0 1 1 1 2 1 1 0 0 0 0 1 1 0 0 0 0 0 0 0 0 0 1 1 1 1 0 0 0 0 0 1 0 0 1 1 0 0 0 0 1 1 1 0 0 0 0 0 0 0 0 0 1 1 0 0 0 0 0 1 1 0 1 2 2 2 3 2 2 3 3 3 3 3 3 3 3 2 2 1 1 1 1 1 1 2 2 3 3 3 4 4 4 4\n",
      "G[]: 1 1 1 2 2 2 2 2 2 3 3 3 3 3 4 5 5 5 4 4 5 5 5 4 3 2 2 2 2 2 3 2 2 2 2 1 0 0 0 0 0 0 0 0 0 0 0 0 0 0 1 2 1 1 1 2 2 2 2 2 2 2 1 0 0 0 0 0 0 0 0 0 0 0 0 0 0 0 0 0 1 1 2 2 1 1 0 0 0 1 1 1 1 1 1 2 2 2 3 3\n",
      "P[]: 1 1 1 2 2 2 2 2 2 3 3 3 3 3 4 5 5 5 4 4 5 5 5 4 3 2 2 2 2 2 3 2 2 2 2 1 0 0 0 0 0 0 0 0 0 0 0 0 0 0 1 2 1 1 1 2 2 2 2 2 2 2 1 0 0 0 0 0 0 0 0 0 0 0 0 0 0 0 0 0 1 1 2 2 1 1 0 0 0 1 1 1 1 1 1 2 2 2 3 3\n",
      "G{}: 0 0 1 1 1 2 2 2 2 2 2 2 2 2 2 2 2 2 2 2 2 1 0 0 0 0 0 0 0 1 1 1 1 1 0 0 0 0 0 0 0 0 0 0 0 0 0 0 0 0 0 0 0 0 0 0 0 0 0 0 0 0 0 0 0 0 0 0 0 0 1 1 1 1 1 1 1 2 2 1 1 0 0 0 0 0 0 0 0 0 1 1 0 0 0 0 0 0 0 0\n",
      "P{}: 0 0 1 1 1 2 2 2 2 2 2 2 2 2 2 2 2 2 2 2 2 1 0 0 0 0 0 0 0 1 1 1 1 1 0 0 0 0 0 0 0 0 0 0 0 0 0 0 0 0 0 0 0 0 0 0 0 0 0 0 0 0 0 0 0 0 0 0 0 0 1 1 1 1 1 1 1 2 2 1 1 0 0 0 0 0 0 0 0 0 1 1 0 0 0 0 0 0 0 0\n",
      "\n",
      "Step 14499 loss 0.000071\n",
      "  0: ) [ a ) } [ } ( [ { ) a { } ( { { [ a ] a a { ] a { [ ) { ] ] ) [ ( a } [ { { ( ] ) [ [ ( [ } [ ( ) { a ) ) ] { { ) { ) ] a ] { [ { ] } a ( { { } [ ] ) ] a a ) ( ( } [ a { ] { [ ( ] { { ( ] a { ) ( }\n",
      "G(): 0 0 0 0 0 0 0 1 1 1 0 0 0 0 1 1 1 1 1 1 1 1 1 1 1 1 1 0 0 0 0 0 0 1 1 1 1 1 1 2 2 1 1 1 2 2 2 2 3 2 2 2 1 0 0 0 0 0 0 0 0 0 0 0 0 0 0 0 0 1 1 1 1 1 1 0 0 0 0 0 1 2 2 2 2 2 2 2 2 3 3 3 3 4 4 4 4 3 4 4\n",
      "P(): 0 0 0 0 0 0 0 1 1 1 0 0 0 0 1 1 1 1 1 1 1 1 1 1 1 1 1 0 0 0 0 0 0 1 1 1 1 1 1 2 2 1 1 1 2 2 2 2 3 2 2 2 1 0 0 0 0 0 0 0 0 0 0 0 0 0 0 0 0 1 1 1 1 1 1 0 0 0 0 0 1 2 2 2 2 2 2 2 2 3 3 3 3 4 4 4 4 3 4 4\n",
      "G[]: 0 1 1 1 1 2 2 2 3 3 3 3 3 3 3 3 3 4 4 3 3 3 3 2 2 2 3 3 3 2 1 1 2 2 2 2 3 3 3 3 2 2 3 4 4 5 5 5 5 5 5 5 5 5 4 4 4 4 4 4 3 3 2 2 3 3 2 2 2 2 2 2 2 3 2 2 1 1 1 1 1 1 1 2 2 2 1 1 2 2 1 1 1 1 0 0 0 0 0 0\n",
      "P[]: 0 1 1 1 1 2 2 2 3 3 3 3 3 3 3 3 3 4 4 3 3 3 3 2 2 2 3 3 3 2 1 1 2 2 2 2 3 3 3 3 2 2 3 4 4 5 5 5 5 5 5 5 5 5 4 4 4 4 4 4 3 3 2 2 3 3 2 2 2 2 2 2 2 3 2 2 1 1 1 1 1 1 1 2 2 2 1 1 2 2 1 1 1 1 0 0 0 0 0 0\n",
      "G{}: 0 0 0 0 0 0 0 0 0 1 1 1 2 1 1 2 3 3 3 3 3 3 4 4 4 5 5 5 5 5 5 5 5 5 5 4 4 5 5 5 5 5 5 5 5 5 4 4 4 4 5 5 5 5 5 5 5 5 5 5 5 5 5 5 5 5 5 4 4 4 5 5 4 4 4 4 4 4 4 4 4 4 3 3 3 4 4 5 5 5 5 5 5 5 5 5 5 5 5 4\n",
      "P{}: 0 0 0 0 0 0 0 0 0 1 1 1 2 1 1 2 3 3 3 3 3 3 4 4 4 5 5 5 5 5 5 5 5 5 5 4 4 5 5 5 5 5 5 5 5 5 4 4 4 4 5 5 5 5 5 5 5 5 5 5 5 5 5 5 5 5 5 4 4 4 5 5 4 4 4 4 4 4 4 4 4 4 3 3 3 4 4 5 5 5 5 5 5 5 5 5 5 5 5 4\n",
      "\n",
      "Step 14999 loss 0.000014\n",
      "  0: ) ) [ ) ( ) a ] ) { { ) [ a ] ) } } } } a ] { ] [ ( ) ) } } a } ) { ) { { ( ) ( [ } [ ( [ a } ] ) { a ] } a { } ) ( { ) { } a a [ ( ) [ } ( ) } } } } a ] a } [ [ ( ) ( { } ) { ] ) ) } ) a { [ } ] a {\n",
      "G(): 0 0 0 0 1 0 0 0 0 0 0 0 0 0 0 0 0 0 0 0 0 0 0 0 0 1 0 0 0 0 0 0 0 0 0 0 0 1 0 1 1 1 1 2 2 2 2 2 1 1 1 1 1 1 1 1 0 1 1 0 0 0 0 0 0 1 0 0 0 1 0 0 0 0 0 0 0 0 0 0 0 1 0 1 1 1 0 0 0 0 0 0 0 0 0 0 0 0 0 0\n",
      "P(): 0 0 0 0 1 0 0 0 0 0 0 0 0 0 0 0 0 0 0 0 0 0 0 0 0 1 0 0 0 0 0 0 0 0 0 0 0 1 0 1 1 1 1 2 2 2 2 2 1 1 1 1 1 1 1 1 0 1 1 0 0 0 0 0 0 1 0 0 0 1 0 0 0 0 0 0 0 0 0 0 0 1 0 1 1 1 0 0 0 0 0 0 0 0 0 0 0 0 0 0\n",
      "G[]: 0 0 1 1 1 1 1 0 0 0 0 0 1 1 0 0 0 0 0 0 0 0 0 0 1 1 1 1 1 1 1 1 1 1 1 1 1 1 1 1 2 2 3 3 4 4 4 3 3 3 3 2 2 2 2 2 2 2 2 2 2 2 2 2 3 3 3 4 4 4 4 4 4 4 4 4 3 3 3 4 5 5 5 5 5 5 5 5 4 4 4 4 4 4 4 5 5 4 4 4\n",
      "P[]: 0 0 1 1 1 1 1 0 0 0 0 0 1 1 0 0 0 0 0 0 0 0 0 0 1 1 1 1 1 1 1 1 1 1 1 1 1 1 1 1 2 2 3 3 4 4 4 3 3 3 3 2 2 2 2 2 2 2 2 2 2 2 2 2 3 3 3 4 4 4 4 4 4 4 4 4 3 3 3 4 5 5 5 5 5 5 5 5 4 4 4 4 4 4 4 5 5 4 4 4\n",
      "G{}: 0 0 0 0 0 0 0 0 0 1 2 2 2 2 2 2 1 0 0 0 0 0 1 1 1 1 1 1 0 0 0 0 0 1 1 2 3 3 3 3 3 2 2 2 2 2 1 1 1 2 2 2 1 1 2 1 1 1 2 2 3 2 2 2 2 2 2 2 1 1 1 0 0 0 0 0 0 0 0 0 0 0 0 0 1 0 0 1 1 1 1 0 0 0 1 1 0 0 0 1\n",
      "P{}: 0 0 0 0 0 0 0 0 0 1 2 2 2 2 2 2 1 0 0 0 0 0 1 1 1 1 1 1 0 0 0 0 0 1 1 2 3 3 3 3 3 2 2 2 2 2 1 1 1 2 2 2 1 1 2 1 1 1 2 2 3 2 2 2 2 2 2 2 1 1 1 0 0 0 0 0 0 0 0 0 0 0 0 0 1 0 0 1 1 1 1 0 0 0 1 1 0 0 0 1\n",
      "\n",
      "Step 15499 loss 0.000045\n",
      "  0: [ ] } } { ) [ ] { ( ] ] [ a [ ) ] { ] { } } { ( { ] } ] ) { ) a ] [ { ] [ a [ ( [ ] [ ] a a a ] ] { ( ) [ a ) } } [ a { ) ] ( ) [ ) { a [ { ) ( ) } [ { ) ] a ( ) a [ a [ a a ] a ( ] } { ) ) ( { ] { ]\n",
      "G(): 0 0 0 0 0 0 0 0 0 1 1 1 1 1 1 0 0 0 0 0 0 0 0 1 1 1 1 1 0 0 0 0 0 0 0 0 0 0 0 1 1 1 1 1 1 1 1 1 1 1 2 1 1 1 0 0 0 0 0 0 0 0 1 0 0 0 0 0 0 0 0 1 0 0 0 0 0 0 0 1 0 0 0 0 0 0 0 0 0 1 1 1 1 0 0 1 1 1 1 1\n",
      "P(): 0 0 0 0 0 0 0 0 0 1 1 1 1 1 1 0 0 0 0 0 0 0 0 1 1 1 1 1 0 0 0 0 0 0 0 0 0 0 0 1 1 1 1 1 1 1 1 1 1 1 2 1 1 1 0 0 0 0 0 0 0 0 1 0 0 0 0 0 0 0 0 1 0 0 0 0 0 0 0 1 0 0 0 0 0 0 0 0 0 1 1 1 1 0 0 1 1 1 1 1\n",
      "G[]: 1 0 0 0 0 0 1 0 0 0 0 0 1 1 2 2 1 1 0 0 0 0 0 0 0 0 0 0 0 0 0 0 0 1 1 0 1 1 2 2 3 2 3 2 2 2 2 1 0 0 0 0 1 1 1 1 1 2 2 2 2 1 1 1 2 2 2 2 3 3 3 3 3 3 4 4 4 3 3 3 3 3 4 4 5 5 5 4 4 4 3 3 3 3 3 3 3 2 2 1\n",
      "P[]: 1 0 0 0 0 0 1 0 0 0 0 0 1 1 2 2 1 1 0 0 0 0 0 0 0 0 0 0 0 0 0 0 0 1 1 0 1 1 2 2 3 2 3 2 2 2 2 1 0 0 0 0 1 1 1 1 1 2 2 2 2 1 1 1 2 2 2 2 3 3 3 3 3 3 4 4 4 3 3 3 3 3 4 4 5 5 5 4 4 4 3 3 3 3 3 3 3 2 2 1\n",
      "G{}: 0 0 0 0 1 1 1 1 2 2 2 2 2 2 2 2 2 3 3 4 3 2 3 3 4 4 3 3 3 4 4 4 4 4 5 5 5 5 5 5 5 5 5 5 5 5 5 5 5 5 5 5 5 5 5 4 3 3 3 4 4 4 4 4 4 4 5 5 5 5 5 5 5 4 4 5 5 5 5 5 5 5 5 5 5 5 5 5 5 5 5 4 5 5 5 5 5 5 5 5\n",
      "P{}: 0 0 0 0 1 1 1 1 2 2 2 2 2 2 2 2 2 3 3 4 3 2 3 3 4 4 3 3 3 4 4 4 4 4 5 5 5 5 5 5 5 5 5 5 5 5 5 5 5 5 5 5 5 5 5 4 3 3 3 4 4 4 4 4 4 4 5 5 5 5 5 5 5 4 4 5 5 5 5 5 5 5 5 5 5 5 5 5 5 5 5 4 5 5 5 5 5 5 5 5\n",
      "\n",
      "Step 15999 loss 0.000037\n",
      "  0: { a [ } [ } [ ( } ( [ ) ) ] } ( ) { } a ( { ] } ( ) ) ) } { a ( } ( ) ) { a ] ( ] [ [ ( { ( a ( ) a } [ } { ] ) [ { { { ] ( ) [ { ) } ) } ( { ] ] ( ) [ } } a ) { [ { ] { { a ( ) ) ) ) ] ) [ ] } { [ {\n",
      "G(): 0 0 0 0 0 0 0 1 1 2 2 1 0 0 0 1 0 0 0 0 1 1 1 1 2 1 0 0 0 0 0 1 1 2 1 0 0 0 0 1 1 1 1 2 2 3 3 4 3 3 3 3 3 3 3 2 2 2 2 2 2 3 2 2 2 1 1 0 0 1 1 1 1 2 1 1 1 1 1 0 0 0 0 0 0 0 0 1 0 0 0 0 0 0 0 0 0 0 0 0\n",
      "P(): 0 0 0 0 0 0 0 1 1 2 2 1 0 0 0 1 0 0 0 0 1 1 1 1 2 1 0 0 0 0 0 1 1 2 1 0 0 0 0 1 1 1 1 2 2 3 3 4 3 3 3 3 3 3 3 2 2 2 2 2 2 3 2 2 2 1 1 0 0 1 1 1 1 2 1 1 1 1 1 0 0 0 0 0 0 0 0 1 0 0 0 0 0 0 0 0 0 0 0 0\n",
      "G[]: 0 0 1 1 2 2 3 3 3 3 4 4 4 3 3 3 3 3 3 3 3 3 2 2 2 2 2 2 2 2 2 2 2 2 2 2 2 2 1 1 0 1 2 2 2 2 2 2 2 2 2 3 3 3 2 2 3 3 3 3 2 2 2 3 3 3 3 3 3 3 3 2 1 1 1 2 2 2 2 2 2 3 3 2 2 2 2 2 2 2 2 2 1 1 2 1 1 1 2 2\n",
      "P[]: 0 0 1 1 2 2 3 3 3 3 4 4 4 3 3 3 3 3 3 3 3 3 2 2 2 2 2 2 2 2 2 2 2 2 2 2 2 2 1 1 0 1 2 2 2 2 2 2 2 2 2 3 3 3 2 2 3 3 3 3 2 2 2 3 3 3 3 3 3 3 3 2 1 1 1 2 2 2 2 2 2 3 3 2 2 2 2 2 2 2 2 2 1 1 2 1 1 1 2 2\n",
      "G{}: 1 1 1 0 0 0 0 0 0 0 0 0 0 0 0 0 0 1 0 0 0 1 1 0 0 0 0 0 0 1 1 1 0 0 0 0 1 1 1 1 1 1 1 1 2 2 2 2 2 2 1 1 0 1 1 1 1 2 3 4 4 4 4 4 5 5 4 4 3 3 4 4 4 4 4 4 3 2 2 2 3 3 4 4 5 5 5 5 5 5 5 5 5 5 5 5 4 5 5 5\n",
      "P{}: 1 1 1 0 0 0 0 0 0 0 0 0 0 0 0 0 0 1 0 0 0 1 1 0 0 0 0 0 0 1 1 1 0 0 0 0 1 1 1 1 1 1 1 1 2 2 2 2 2 2 1 1 0 1 1 1 1 2 3 4 4 4 4 4 5 5 4 4 3 3 4 4 4 4 4 4 3 2 2 2 3 3 4 4 5 5 5 5 5 5 5 5 5 5 5 5 4 5 5 5\n",
      "\n",
      "Step 16499 loss 0.000036\n",
      "  0: ( ) } { ) { ( ) } ] a } a { } { } ) } { ] ] ] [ [ } ] [ { } [ a ) ] [ [ a [ ] ) [ a ( a { [ ( ] ) ] ( ] ] ] { a [ ( a ) a { ] ] [ ( a { ( ] a } ] ] ( { ( a ] ( ] { [ [ ( { ] [ ] { ] ] a ) { [ ] ) ) {\n",
      "G(): 1 0 0 0 0 0 1 0 0 0 0 0 0 0 0 0 0 0 0 0 0 0 0 0 0 0 0 0 0 0 0 0 0 0 0 0 0 0 0 0 0 0 1 1 1 1 2 2 1 1 2 2 2 2 2 2 2 3 3 2 2 2 2 2 2 3 3 3 4 4 4 4 4 4 5 5 5 5 5 5 5 5 5 5 5 5 5 5 5 5 5 5 5 4 4 4 4 3 2 2\n",
      "P(): 1 0 0 0 0 0 1 0 0 0 0 0 0 0 0 0 0 0 0 0 0 0 0 0 0 0 0 0 0 0 0 0 0 0 0 0 0 0 0 0 0 0 1 1 1 1 2 2 1 1 2 2 2 2 2 2 2 3 3 2 2 2 2 2 2 3 3 3 4 4 4 4 4 4 5 5 5 5 5 5 5 5 5 5 5 5 5 5 5 5 5 5 5 4 4 4 4 3 2 2\n",
      "G[]: 0 0 0 0 0 0 0 0 0 0 0 0 0 0 0 0 0 0 0 0 0 0 0 1 2 2 1 2 2 2 3 3 3 2 3 4 4 5 4 4 5 5 5 5 5 5 5 4 4 3 3 2 1 0 0 0 1 1 1 1 1 1 0 0 1 1 1 1 1 0 0 0 0 0 0 0 0 0 0 0 0 0 1 2 2 2 1 2 1 1 0 0 0 0 0 1 0 0 0 0\n",
      "P[]: 0 0 0 0 0 0 0 0 0 0 0 0 0 0 0 0 0 0 0 0 0 0 0 1 2 2 1 2 2 2 3 3 3 2 3 4 4 5 4 4 5 5 5 5 5 5 5 4 4 3 3 2 1 0 0 0 1 1 1 1 1 1 0 0 1 1 1 1 1 0 0 0 0 0 0 0 0 0 0 0 0 0 1 2 2 2 1 2 1 1 0 0 0 0 0 1 0 0 0 0\n",
      "G{}: 0 0 0 1 1 2 2 2 1 1 1 0 0 1 0 1 0 0 0 1 1 1 1 1 1 0 0 0 1 0 0 0 0 0 0 0 0 0 0 0 0 0 0 0 1 1 1 1 1 1 1 1 1 1 2 2 2 2 2 2 2 3 3 3 3 3 3 4 4 4 4 3 3 3 3 4 4 4 4 4 4 5 5 5 5 5 5 5 5 5 5 5 5 5 5 5 5 5 5 5\n",
      "P{}: 0 0 0 1 1 2 2 2 1 1 1 0 0 1 0 1 0 0 0 1 1 1 1 1 1 0 0 0 1 0 0 0 0 0 0 0 0 0 0 0 0 0 0 0 1 1 1 1 1 1 1 1 1 1 2 2 2 2 2 2 2 3 3 3 3 3 3 4 4 4 4 3 3 3 3 4 4 4 4 4 4 5 5 5 5 5 5 5 5 5 5 5 5 5 5 5 5 5 5 5\n",
      "\n",
      "Step 16999 loss 0.000044\n",
      "  0: ) [ ) a } ) a [ ] ( [ a ] a } a { ] ( ) ] ] a ) a ) ] [ a a a } { } a } } a ] ] ] { ) ] { ( ) ( { } a [ a [ } { [ { a ( [ ( { ) a a ] { { [ ) [ ) ) ( a [ ) ] [ ) } ] ) ( { [ ) ( [ { a { ) } } ] a a [\n",
      "G(): 0 0 0 0 0 0 0 0 0 1 1 1 1 1 1 1 1 1 2 1 1 1 1 0 0 0 0 0 0 0 0 0 0 0 0 0 0 0 0 0 0 0 0 0 0 1 0 1 1 1 1 1 1 1 1 1 1 1 1 2 2 3 3 2 2 2 2 2 2 2 1 1 0 0 1 1 1 0 0 0 0 0 0 0 1 1 1 0 1 1 1 1 1 0 0 0 0 0 0 0\n",
      "P(): 0 0 0 0 0 0 0 0 0 1 1 1 1 1 1 1 1 1 2 1 1 1 1 0 0 0 0 0 0 0 0 0 0 0 0 0 0 0 0 0 0 0 0 0 0 1 0 1 1 1 1 1 1 1 1 1 1 1 1 2 2 3 3 2 2 2 2 2 2 2 1 1 0 0 1 1 1 0 0 0 0 0 0 0 1 1 1 0 1 1 1 1 1 0 0 0 0 0 0 0\n",
      "G[]: 0 1 1 1 1 1 1 2 1 1 2 2 1 1 1 1 1 0 0 0 0 0 0 0 0 0 0 1 1 1 1 1 1 1 1 1 1 1 0 0 0 0 0 0 0 0 0 0 0 0 0 1 1 2 2 2 3 3 3 3 4 4 4 4 4 4 3 3 3 4 4 5 5 5 5 5 5 5 4 5 5 5 4 4 4 4 5 5 5 5 5 5 5 5 5 5 4 4 4 5\n",
      "P[]: 0 1 1 1 1 1 1 2 1 1 2 2 1 1 1 1 1 0 0 0 0 0 0 0 0 0 0 1 1 1 1 1 1 1 1 1 1 1 0 0 0 0 0 0 0 0 0 0 0 0 0 1 1 2 2 2 3 3 3 3 4 4 4 4 4 4 3 3 3 4 4 5 5 5 5 5 5 5 4 5 5 5 4 4 4 4 5 5 5 5 5 5 5 5 5 5 4 4 4 5\n",
      "G{}: 0 0 0 0 0 0 0 0 0 0 0 0 0 0 0 0 1 1 1 1 1 1 1 1 1 1 1 1 1 1 1 0 1 0 0 0 0 0 0 0 0 1 1 1 2 2 2 2 3 2 2 2 2 2 1 2 2 3 3 3 3 3 4 4 4 4 4 5 5 5 5 5 5 5 5 5 5 5 5 5 5 4 4 4 4 5 5 5 5 5 5 5 5 5 4 3 3 3 3 3\n",
      "P{}: 0 0 0 0 0 0 0 0 0 0 0 0 0 0 0 0 1 1 1 1 1 1 1 1 1 1 1 1 1 1 1 0 1 0 0 0 0 0 0 0 0 1 1 1 2 2 2 2 3 2 2 2 2 2 1 2 2 3 3 3 3 3 4 4 4 4 4 5 5 5 5 5 5 5 5 5 5 5 5 5 5 4 4 4 4 5 5 5 5 5 5 5 5 5 4 3 3 3 3 3\n",
      "\n",
      "Step 17499 loss 0.000042\n",
      "  0: ] ] } [ } [ } a ( ] ] ( ] [ ] ] a ] ) } [ { ( } ) { ( ] ( } ] ] ) ) ) ] } [ [ } ] ( } { ) a [ ( [ ) } a ( ) ( ) { { { ( ( } { [ ( ( ( } ) } a { ) { ] ( a ( ) } ) ] [ ) { [ ) ) ( { a ( ) [ } [ ( ] ) a\n",
      "G(): 0 0 0 0 0 0 0 0 1 1 1 2 2 2 2 2 2 2 1 1 1 1 2 2 1 1 2 2 3 3 3 3 2 1 0 0 0 0 0 0 0 1 1 1 0 0 0 1 1 0 0 0 1 0 1 0 0 0 0 1 2 2 2 2 3 4 5 5 4 4 4 4 3 3 3 4 4 5 4 4 3 3 3 2 2 2 1 0 1 1 1 2 1 1 1 1 2 2 1 1\n",
      "P(): 0 0 0 0 0 0 0 0 1 1 1 2 2 2 2 2 2 2 1 1 1 1 2 2 1 1 2 2 3 3 3 3 2 1 0 0 0 0 0 0 0 1 1 1 0 0 0 1 1 0 0 0 1 0 1 0 0 0 0 1 2 2 2 2 3 4 5 5 4 4 4 4 3 3 3 4 4 5 4 4 3 3 3 2 2 2 1 0 1 1 1 2 1 1 1 1 2 2 1 1\n",
      "G[]: 0 0 0 1 1 2 2 2 2 1 0 0 0 1 0 0 0 0 0 0 1 1 1 1 1 1 1 0 0 0 0 0 0 0 0 0 0 1 2 2 1 1 1 1 1 1 2 2 3 3 3 3 3 3 3 3 3 3 3 3 3 3 3 4 4 4 4 4 4 4 4 4 4 4 3 3 3 3 3 3 3 2 3 3 3 4 4 4 4 4 4 4 4 5 5 5 5 4 4 4\n",
      "P[]: 0 0 0 1 1 2 2 2 2 1 0 0 0 1 0 0 0 0 0 0 1 1 1 1 1 1 1 0 0 0 0 0 0 0 0 0 0 1 2 2 1 1 1 1 1 1 2 2 3 3 3 3 3 3 3 3 3 3 3 3 3 3 3 4 4 4 4 4 4 4 4 4 4 4 3 3 3 3 3 3 3 2 3 3 3 4 4 4 4 4 4 4 4 5 5 5 5 4 4 4\n",
      "G{}: 0 0 0 0 0 0 0 0 0 0 0 0 0 0 0 0 0 0 0 0 0 1 1 0 0 1 1 1 1 0 0 0 0 0 0 0 0 0 0 0 0 0 0 1 1 1 1 1 1 1 0 0 0 0 0 0 1 2 3 3 3 2 3 3 3 3 3 2 2 1 1 2 2 3 3 3 3 3 3 2 2 2 2 2 3 3 3 3 3 4 4 4 4 4 3 3 3 3 3 3\n",
      "P{}: 0 0 0 0 0 0 0 0 0 0 0 0 0 0 0 0 0 0 0 0 0 1 1 0 0 1 1 1 1 0 0 0 0 0 0 0 0 0 0 0 0 0 0 1 1 1 1 1 1 1 0 0 0 0 0 0 1 2 3 3 3 2 3 3 3 3 3 2 2 1 1 2 2 3 3 3 3 3 3 2 2 2 2 2 3 3 3 3 3 4 4 4 4 4 3 3 3 3 3 3\n",
      "\n",
      "Step 17999 loss 0.000026\n",
      "  0: } ( } [ { ] { { [ { ] a [ } a } ) ( [ } { ) [ ) ) ) [ ) ) ) [ } a ( [ ( { } ] ( [ [ ) ] [ ] [ } ( ) a a { ( ] ) ] [ ( ( [ ] ] a ( } ) a { ( ) ( a a ] } ( a a { } ] } a } [ ] a a a [ } ) { ] ] ) ) a [\n",
      "G(): 0 1 1 1 1 1 1 1 1 1 1 1 1 1 1 1 0 1 1 1 1 0 0 0 0 0 0 0 0 0 0 0 0 1 1 2 2 2 2 3 3 3 2 2 2 2 2 2 3 2 2 2 2 3 3 2 2 2 3 4 4 4 4 4 5 5 4 4 4 5 4 5 5 5 5 5 5 5 5 5 5 5 5 5 5 5 5 5 5 5 5 5 4 4 4 4 3 2 2 2\n",
      "P(): 0 1 1 1 1 1 1 1 1 1 1 1 1 1 1 1 0 1 1 1 1 0 0 0 0 0 0 0 0 0 0 0 0 1 1 2 2 2 2 3 3 3 2 2 2 2 2 2 3 2 2 2 2 3 3 2 2 2 3 4 4 4 4 4 5 5 4 4 4 5 4 5 5 5 5 5 5 5 5 5 5 5 5 5 5 5 5 5 5 5 5 5 4 4 4 4 3 2 2 2\n",
      "G[]: 0 0 0 1 1 0 0 0 1 1 0 0 1 1 1 1 1 1 2 2 2 2 3 3 3 3 4 4 4 4 5 5 5 5 5 5 5 5 4 4 5 5 5 4 5 4 5 5 5 5 5 5 5 5 4 4 3 4 4 4 5 4 3 3 3 3 3 3 3 3 3 3 3 3 2 2 2 2 2 2 2 1 1 1 1 2 1 1 1 1 2 2 2 2 1 0 0 0 0 1\n",
      "P[]: 0 0 0 1 1 0 0 0 1 1 0 0 1 1 1 1 1 1 2 2 2 2 3 3 3 3 4 4 4 4 5 5 5 5 5 5 5 5 4 4 5 5 5 4 5 4 5 5 5 5 5 5 5 5 4 4 3 4 4 4 5 4 3 3 3 3 3 3 3 3 3 3 3 3 2 2 2 2 2 2 2 1 1 1 1 2 1 1 1 1 2 2 2 2 1 0 0 0 0 1\n",
      "G{}: 0 0 0 0 1 1 2 3 3 4 4 4 4 3 3 2 2 2 2 1 2 2 2 2 2 2 2 2 2 2 2 1 1 1 1 1 2 1 1 1 1 1 1 1 1 1 1 0 0 0 0 0 1 1 1 1 1 1 1 1 1 1 1 1 1 0 0 0 1 1 1 1 1 1 1 0 0 0 0 1 0 0 0 0 0 0 0 0 0 0 0 0 0 1 1 1 1 1 1 1\n",
      "P{}: 0 0 0 0 1 1 2 3 3 4 4 4 4 3 3 2 2 2 2 1 2 2 2 2 2 2 2 2 2 2 2 1 1 1 1 1 2 1 1 1 1 1 1 1 1 1 1 0 0 0 0 0 1 1 1 1 1 1 1 1 1 1 1 1 1 0 0 0 1 1 1 1 1 1 1 0 0 0 0 1 0 0 0 0 0 0 0 0 0 0 0 0 0 1 1 1 1 1 1 1\n",
      "\n",
      "Step 18499 loss 0.000033\n",
      "  0: { { a a ) { [ } } [ [ } ( { ] ) a a ] [ ( [ } { ( ( [ ) ( { ( [ ] { } [ { ] ( [ { ] a ( ) ) ( } { ] } [ } ) { [ [ ) [ ) ( a ) ( ) [ [ } ) ] ( { a ( } ] ( [ { ) [ } ) ] ) a ) { } ] a ) [ a { [ } { [ ]\n",
      "G(): 0 0 0 0 0 0 0 0 0 0 0 0 1 1 1 0 0 0 0 0 1 1 1 1 2 3 3 2 3 3 4 4 4 4 4 4 4 4 5 5 5 5 5 5 4 3 4 4 4 4 4 4 4 3 3 3 3 2 2 1 2 2 1 2 1 1 1 1 0 0 1 1 1 2 2 2 3 3 3 2 2 2 1 1 0 0 0 0 0 0 0 0 0 0 0 0 0 0 0 0\n",
      "P(): 0 0 0 0 0 0 0 0 0 0 0 0 1 1 1 0 0 0 0 0 1 1 1 1 2 3 3 2 3 3 4 4 4 4 4 4 4 4 5 5 5 5 5 5 4 3 4 4 4 4 4 4 4 3 3 3 3 2 2 1 2 2 1 2 1 1 1 1 0 0 1 1 1 2 2 2 3 3 3 2 2 2 1 1 0 0 0 0 0 0 0 0 0 0 0 0 0 0 0 0\n",
      "G[]: 0 0 0 0 0 0 1 1 1 2 3 3 3 3 2 2 2 2 1 2 2 3 3 3 3 3 4 4 4 4 4 5 4 4 4 5 5 4 4 5 5 4 4 4 4 4 4 4 4 3 3 4 4 4 4 5 5 5 5 5 5 5 5 5 5 5 5 5 5 4 4 4 4 4 4 3 3 4 4 4 5 5 5 4 4 4 4 4 4 3 3 3 4 4 4 5 5 5 5 4\n",
      "P[]: 0 0 0 0 0 0 1 1 1 2 3 3 3 3 2 2 2 2 1 2 2 3 3 3 3 3 4 4 4 4 4 5 4 4 4 5 5 4 4 5 5 4 4 4 4 4 4 4 4 3 3 4 4 4 4 5 5 5 5 5 5 5 5 5 5 5 5 5 5 4 4 4 4 4 4 3 3 4 4 4 5 5 5 4 4 4 4 4 4 3 3 3 4 4 4 5 5 5 5 4\n",
      "G{}: 1 2 2 2 2 3 3 2 1 1 1 0 0 1 1 1 1 1 1 1 1 1 0 1 1 1 1 1 1 2 2 2 2 3 2 2 3 3 3 3 4 4 4 4 4 4 4 3 4 4 3 3 2 2 3 3 3 3 3 3 3 3 3 3 3 3 3 2 2 2 2 3 3 3 2 2 2 2 3 3 3 2 2 2 2 2 2 3 2 2 2 2 2 2 3 3 2 3 3 3\n",
      "P{}: 1 2 2 2 2 3 3 2 1 1 1 0 0 1 1 1 1 1 1 1 1 1 0 1 1 1 1 1 1 2 2 2 2 3 2 2 3 3 3 3 4 4 4 4 4 4 4 3 4 4 3 3 2 2 3 3 3 3 3 3 3 3 3 3 3 3 3 2 2 2 2 3 3 3 2 2 2 2 3 3 3 2 2 2 2 2 2 3 2 2 2 2 2 2 3 3 2 3 3 3\n",
      "\n",
      "Step 18999 loss 0.000042\n",
      "  0: { a ] a ) } } } a } ] ( } ) [ ) ] ( ) [ a a [ ) ] [ [ ( { } ] ) { } ) } ] { } ] { ( ( [ } a [ } ) ) ) ) ( ) { } ) [ } [ { a ] [ { a ( ( [ ( ] ) } ( a } a } { ) a ) ) [ { ( a { ) ] { { a ] } a ( [ { [\n",
      "G(): 0 0 0 0 0 0 0 0 0 0 0 1 1 0 0 0 0 1 0 0 0 0 0 0 0 0 0 1 1 1 1 0 0 0 0 0 0 0 0 0 0 1 2 2 2 2 2 2 1 0 0 0 1 0 0 0 0 0 0 0 0 0 0 0 0 0 1 2 2 3 3 2 2 3 3 3 3 3 3 2 2 1 0 0 0 1 1 1 0 0 0 0 0 0 0 0 1 1 1 1\n",
      "P(): 0 0 0 0 0 0 0 0 0 0 0 1 1 0 0 0 0 1 0 0 0 0 0 0 0 0 0 1 1 1 1 0 0 0 0 0 0 0 0 0 0 1 2 2 2 2 2 2 1 0 0 0 1 0 0 0 0 0 0 0 0 0 0 0 0 0 1 2 2 3 3 2 2 3 3 3 3 3 3 2 2 1 0 0 0 1 1 1 0 0 0 0 0 0 0 0 1 1 1 1\n",
      "G[]: 0 0 0 0 0 0 0 0 0 0 0 0 0 0 1 1 0 0 0 1 1 1 2 2 1 2 3 3 3 3 2 2 2 2 2 2 1 1 1 0 0 0 0 1 1 1 2 2 2 2 2 2 2 2 2 2 2 3 3 4 4 4 3 4 4 4 4 4 5 5 4 4 4 4 4 4 4 4 4 4 4 4 4 5 5 5 5 5 5 4 4 4 4 3 3 3 3 4 4 5\n",
      "P[]: 0 0 0 0 0 0 0 0 0 0 0 0 0 0 1 1 0 0 0 1 1 1 2 2 1 2 3 3 3 3 2 2 2 2 2 2 1 1 1 0 0 0 0 1 1 1 2 2 2 2 2 2 2 2 2 2 2 3 3 4 4 4 3 4 4 4 4 4 5 5 4 4 4 4 4 4 4 4 4 4 4 4 4 5 5 5 5 5 5 4 4 4 4 3 3 3 3 4 4 5\n",
      "G{}: 1 1 1 1 1 0 0 0 0 0 0 0 0 0 0 0 0 0 0 0 0 0 0 0 0 0 0 0 1 0 0 0 1 0 0 0 0 1 0 0 1 1 1 1 0 0 0 0 0 0 0 0 0 0 1 0 0 0 0 0 1 1 1 1 2 2 2 2 2 2 2 2 1 1 1 0 0 0 1 1 1 1 1 1 2 2 2 3 3 3 4 5 5 5 4 4 4 4 5 5\n",
      "P{}: 1 1 1 1 1 0 0 0 0 0 0 0 0 0 0 0 0 0 0 0 0 0 0 0 0 0 0 0 1 0 0 0 1 0 0 0 0 1 0 0 1 1 1 1 0 0 0 0 0 0 0 0 0 0 1 0 0 0 0 0 1 1 1 1 2 2 2 2 2 2 2 2 1 1 1 0 0 0 1 1 1 1 1 1 2 2 2 3 3 3 4 5 5 5 4 4 4 4 5 5\n",
      "\n",
      "Step 19499 loss 0.000031\n",
      "  0: [ ( { } { ] a ) ) ] ( ( a ( } { ) ) ( [ ) a ) ) { { } { { a } } ( [ ( ) [ ) { ) [ ) ) ) ( a ) } ) { ] a { { ) } ) ) ( { [ ) ] } [ a ( ] a { ) } a a ) [ ( a a ) ) ( ) } ] } ( [ [ ] ] [ ( ( a ( ) ] } {\n",
      "G(): 0 1 1 1 1 1 1 0 0 0 1 2 2 3 3 3 2 1 2 2 1 1 0 0 0 0 0 0 0 0 0 0 1 1 2 1 1 0 0 0 0 0 0 0 1 1 0 0 0 0 0 0 0 0 0 0 0 0 1 1 1 0 0 0 0 0 1 1 1 1 0 0 0 0 0 0 1 1 1 0 0 1 0 0 0 0 1 1 1 1 1 1 2 3 3 4 3 3 3 3\n",
      "P(): 0 1 1 1 1 1 1 0 0 0 1 2 2 3 3 3 2 1 2 2 1 1 0 0 0 0 0 0 0 0 0 0 1 1 2 1 1 0 0 0 0 0 0 0 1 1 0 0 0 0 0 0 0 0 0 0 0 0 1 1 1 0 0 0 0 0 1 1 1 1 0 0 0 0 0 0 1 1 1 0 0 1 0 0 0 0 1 1 1 1 1 1 2 3 3 4 3 3 3 3\n",
      "G[]: 1 1 1 1 1 0 0 0 0 0 0 0 0 0 0 0 0 0 0 1 1 1 1 1 1 1 1 1 1 1 1 1 1 2 2 2 3 3 3 3 4 4 4 4 4 4 4 4 4 4 3 3 3 3 3 3 3 3 3 3 4 4 3 3 4 4 4 3 3 3 3 3 3 3 3 4 4 4 4 4 4 4 4 4 3 3 3 4 5 4 3 4 4 4 4 4 4 3 3 3\n",
      "P[]: 1 1 1 1 1 0 0 0 0 0 0 0 0 0 0 0 0 0 0 1 1 1 1 1 1 1 1 1 1 1 1 1 1 2 2 2 3 3 3 3 4 4 4 4 4 4 4 4 4 4 3 3 3 3 3 3 3 3 3 3 4 4 3 3 4 4 4 3 3 3 3 3 3 3 3 4 4 4 4 4 4 4 4 4 3 3 3 4 5 4 3 4 4 4 4 4 4 3 3 3\n",
      "G{}: 0 0 1 0 1 1 1 1 1 1 1 1 1 1 0 1 1 1 1 1 1 1 1 1 2 3 2 3 4 4 3 2 2 2 2 2 2 2 3 3 3 3 3 3 3 3 3 2 2 3 3 3 4 5 5 4 4 4 4 5 5 5 5 4 4 4 4 4 4 5 5 4 4 4 4 4 4 4 4 4 4 4 4 3 3 2 2 2 2 2 2 2 2 2 2 2 2 2 1 2\n",
      "P{}: 0 0 1 0 1 1 1 1 1 1 1 1 1 1 0 1 1 1 1 1 1 1 1 1 2 3 2 3 4 4 3 2 2 2 2 2 2 2 3 3 3 3 3 3 3 3 3 2 2 3 3 3 4 5 5 4 4 4 4 5 5 5 5 4 4 4 4 4 4 5 5 4 4 4 4 4 4 4 4 4 4 4 4 3 3 2 2 2 2 2 2 2 2 2 2 2 2 2 1 2\n",
      "\n",
      "Step 19999 loss 0.000047\n",
      "  0: a ( ] } a a ( ( a } { ] [ { a ] [ ) ] } { [ [ ( [ } ( ( a { a ] { ] [ } ( { ( } ( ( ) } { { ( { a ) } ) { [ a } ) [ ) ) ( ) ( ] ] a ) [ ( } [ { [ ] ( a } ( { } ( ( ] [ ) [ [ { [ a [ ] ) ] } { } [ } {\n",
      "G(): 0 1 1 1 1 1 2 3 3 3 3 3 3 3 3 3 3 2 2 2 2 2 2 3 3 3 4 5 5 5 5 5 5 5 5 5 5 5 5 5 5 5 4 4 4 4 5 5 5 4 4 3 3 3 3 3 2 2 1 0 1 0 1 1 1 1 0 0 1 1 1 1 1 1 2 2 2 3 3 3 4 5 5 5 4 4 4 4 4 4 4 4 3 3 3 3 3 3 3 3\n",
      "P(): 0 1 1 1 1 1 2 3 3 3 3 3 3 3 3 3 3 2 2 2 2 2 2 3 3 3 4 5 5 5 5 5 5 5 5 5 5 5 5 5 5 5 4 4 4 4 5 5 5 4 4 3 3 3 3 3 2 2 1 0 1 0 1 1 1 1 0 0 1 1 1 1 1 1 2 2 2 3 3 3 4 5 5 5 4 4 4 4 4 4 4 4 3 3 3 3 3 3 3 3\n",
      "G[]: 0 0 0 0 0 0 0 0 0 0 0 0 1 1 1 0 1 1 0 0 0 1 2 2 3 3 3 3 3 3 3 2 2 1 2 2 2 2 2 2 2 2 2 2 2 2 2 2 2 2 2 2 2 3 3 3 3 4 4 4 4 4 4 3 2 2 2 3 3 3 4 4 5 4 4 4 4 4 4 4 4 4 3 4 4 5 5 5 5 5 5 4 4 3 3 3 3 4 4 4\n",
      "P[]: 0 0 0 0 0 0 0 0 0 0 0 0 1 1 1 0 1 1 0 0 0 1 2 2 3 3 3 3 3 3 3 2 2 1 2 2 2 2 2 2 2 2 2 2 2 2 2 2 2 2 2 2 2 3 3 3 3 4 4 4 4 4 4 3 2 2 2 3 3 3 4 4 5 4 4 4 4 4 4 4 4 4 3 4 4 5 5 5 5 5 5 4 4 3 3 3 3 4 4 4\n",
      "G{}: 0 0 0 0 0 0 0 0 0 0 1 1 1 2 2 2 2 2 2 1 2 2 2 2 2 1 1 1 1 2 2 2 3 3 3 2 2 3 3 2 2 2 2 1 2 3 3 4 4 4 3 3 4 4 4 3 3 3 3 3 3 3 3 3 3 3 3 3 3 2 2 3 3 3 3 3 2 2 3 2 2 2 2 2 2 2 2 3 3 3 3 3 3 3 2 3 2 2 1 2\n",
      "P{}: 0 0 0 0 0 0 0 0 0 0 1 1 1 2 2 2 2 2 2 1 2 2 2 2 2 1 1 1 1 2 2 2 3 3 3 2 2 3 3 2 2 2 2 1 2 3 3 4 4 4 3 3 4 4 4 3 3 3 3 3 3 3 3 3 3 3 3 3 3 2 2 3 3 3 3 3 2 2 3 2 2 2 2 2 2 2 2 3 3 3 3 3 3 3 2 3 2 2 1 2\n",
      "\n",
      "Step 20499 loss 0.000027\n",
      "  0: ] ( a ( { } ) { ] ] ( a { { ) { } } ) a { } } } { ) ] } { ( ) [ a { a ) ) ( a ] ) ) } a a ) ) } { { ) ) ] ] a a a ) } a } ) { [ a ] ] ( ( ( ) a ) a } ( ( ( a ( [ } ) ] ) } a ) { a } ) } ) ] a ) ] { a\n",
      "G(): 0 1 1 2 2 2 1 1 1 1 2 2 2 2 1 1 1 1 0 0 0 0 0 0 0 0 0 0 0 1 0 0 0 0 0 0 0 1 1 1 0 0 0 0 0 0 0 0 0 0 0 0 0 0 0 0 0 0 0 0 0 0 0 0 0 0 0 1 2 3 2 2 1 1 1 2 3 4 4 5 5 5 4 4 3 3 3 2 2 2 2 1 1 0 0 0 0 0 0 0\n",
      "P(): 0 1 1 2 2 2 1 1 1 1 2 2 2 2 1 1 1 1 0 0 0 0 0 0 0 0 0 0 0 1 0 0 0 0 0 0 0 1 1 1 0 0 0 0 0 0 0 0 0 0 0 0 0 0 0 0 0 0 0 0 0 0 0 0 0 0 0 1 2 3 2 2 1 1 1 2 3 4 4 5 5 5 4 4 3 3 3 2 2 2 2 1 1 0 0 0 0 0 0 0\n",
      "G[]: 0 0 0 0 0 0 0 0 0 0 0 0 0 0 0 0 0 0 0 0 0 0 0 0 0 0 0 0 0 0 0 1 1 1 1 1 1 1 1 0 0 0 0 0 0 0 0 0 0 0 0 0 0 0 0 0 0 0 0 0 0 0 0 1 1 0 0 0 0 0 0 0 0 0 0 0 0 0 0 0 1 1 1 0 0 0 0 0 0 0 0 0 0 0 0 0 0 0 0 0\n",
      "P[]: 0 0 0 0 0 0 0 0 0 0 0 0 0 0 0 0 0 0 0 0 0 0 0 0 0 0 0 0 0 0 0 1 1 1 1 1 1 1 1 0 0 0 0 0 0 0 0 0 0 0 0 0 0 0 0 0 0 0 0 0 0 0 0 1 1 0 0 0 0 0 0 0 0 0 0 0 0 0 0 0 1 1 1 0 0 0 0 0 0 0 0 0 0 0 0 0 0 0 0 0\n",
      "G{}: 0 0 0 0 1 0 0 1 1 1 1 1 2 3 3 4 3 2 2 2 3 2 1 0 1 1 1 0 1 1 1 1 1 2 2 2 2 2 2 2 2 2 1 1 1 1 1 0 1 2 2 2 2 2 2 2 2 2 1 1 0 0 1 1 1 1 1 1 1 1 1 1 1 1 0 0 0 0 0 0 0 0 0 0 0 0 0 0 1 1 0 0 0 0 0 0 0 0 1 1\n",
      "P{}: 0 0 0 0 1 0 0 1 1 1 1 1 2 3 3 4 3 2 2 2 3 2 1 0 1 1 1 0 1 1 1 1 1 2 2 2 2 2 2 2 2 2 1 1 1 1 1 0 1 2 2 2 2 2 2 2 2 2 1 1 0 0 1 1 1 1 1 1 1 1 1 1 1 1 0 0 0 0 0 0 0 0 0 0 0 0 0 0 1 1 0 0 0 0 0 0 0 0 1 1\n",
      "\n",
      "Step 20999 loss 0.000042\n",
      "  0: [ ( ] ( } } } a ) a ( ] { a } { ) a ( ) ( [ ) { { ) ( [ ( [ } a ( [ ] { { ) ( { ] ( ) ] } [ ( } [ ) ( } { [ a { ] ) } [ ) { } a { [ ] { a [ ) ] ( [ ) [ [ ] ( ] ] } } a { ] [ } a { ] ) ) { ( a } { ( {\n",
      "G(): 0 1 1 2 2 2 2 2 1 1 2 2 2 2 2 2 1 1 2 1 2 2 1 1 1 0 1 1 2 2 2 2 3 3 3 3 3 2 3 3 3 4 3 3 3 3 4 4 4 3 4 4 4 4 4 4 4 3 3 3 2 2 2 2 2 2 2 2 2 2 1 1 2 2 1 1 1 1 2 2 2 2 2 2 2 2 2 2 2 2 2 1 0 0 1 1 1 1 2 2\n",
      "P(): 0 1 1 2 2 2 2 2 1 1 2 2 2 2 2 2 1 1 2 1 2 2 1 1 1 0 1 1 2 2 2 2 3 3 3 3 3 2 3 3 3 4 3 3 3 3 4 4 4 3 4 4 4 4 4 4 4 3 3 3 2 2 2 2 2 2 2 2 2 2 1 1 2 2 1 1 1 1 2 2 2 2 2 2 2 2 2 2 2 2 2 1 0 0 1 1 1 1 2 2\n",
      "G[]: 1 1 0 0 0 0 0 0 0 0 0 0 0 0 0 0 0 0 0 0 0 1 1 1 1 1 1 2 2 3 3 3 3 4 3 3 3 3 3 3 2 2 2 1 1 2 2 2 3 3 3 3 3 4 4 4 3 3 3 4 4 4 4 4 4 5 4 4 4 5 5 4 4 5 5 5 5 4 4 3 2 2 2 2 2 1 2 2 2 2 1 1 1 1 1 1 1 1 1 1\n",
      "P[]: 1 1 0 0 0 0 0 0 0 0 0 0 0 0 0 0 0 0 0 0 0 1 1 1 1 1 1 2 2 3 3 3 3 4 3 3 3 3 3 3 2 2 2 1 1 2 2 2 3 3 3 3 3 4 4 4 3 3 3 4 4 4 4 4 4 5 4 4 4 5 5 4 4 5 5 5 5 4 4 3 2 2 2 2 2 1 2 2 2 2 1 1 1 1 1 1 1 1 1 1\n",
      "G{}: 0 0 0 0 0 0 0 0 0 0 0 0 1 1 0 1 1 1 1 1 1 1 1 2 3 3 3 3 3 3 2 2 2 2 2 3 4 4 4 5 5 5 5 5 4 4 4 3 3 3 3 2 3 3 3 4 4 4 3 3 3 4 3 3 4 4 4 5 5 5 5 5 5 5 5 5 5 5 5 5 5 4 3 3 4 4 4 3 3 4 4 4 4 5 5 5 4 5 5 5\n",
      "P{}: 0 0 0 0 0 0 0 0 0 0 0 0 1 1 0 1 1 1 1 1 1 1 1 2 3 3 3 3 3 3 2 2 2 2 2 3 4 4 4 5 5 5 5 5 4 4 4 3 3 3 3 2 3 3 3 4 4 4 3 3 3 4 3 3 4 4 4 5 5 5 5 5 5 5 5 5 5 5 5 5 5 4 3 3 4 4 4 3 3 4 4 4 4 5 5 5 4 5 5 5\n",
      "\n",
      "Step 21499 loss 0.000035\n",
      "  0: ] [ { a { ) ( [ [ { a [ ( { ( { a { { [ [ { { [ [ { ] ) ( { ( ( ] { [ ( ( } ( ) ) a ) a ] a ) ( a ( { [ [ ] ( ) ] { ( } a ) ( a ] [ } a { [ a [ [ { a a a [ { ( a } } ) ] a ( } ( ] { [ ) { ) ( [ } ( [\n",
      "G(): 0 0 0 0 0 0 1 1 1 1 1 1 2 2 3 3 3 3 3 3 3 3 3 3 3 3 3 2 3 3 4 5 5 5 5 5 5 5 5 4 3 3 2 2 2 2 1 2 2 3 3 3 3 3 4 3 3 3 4 4 4 3 4 4 4 4 4 4 4 4 4 4 4 4 4 4 4 4 4 5 5 5 5 4 4 4 5 5 5 5 5 5 4 4 3 4 4 4 5 5\n",
      "P(): 0 0 0 0 0 0 1 1 1 1 1 1 2 2 3 3 3 3 3 3 3 3 3 3 3 3 3 2 3 3 4 5 5 5 5 5 5 5 5 4 3 3 2 2 2 2 1 2 2 3 3 3 3 3 4 3 3 3 4 4 4 3 4 4 4 4 4 4 4 4 4 4 4 4 4 4 4 4 4 5 5 5 5 4 4 4 5 5 5 5 5 5 4 4 3 4 4 4 5 5\n",
      "G[]: 0 1 1 1 1 1 1 2 3 3 3 4 4 4 4 4 4 4 4 5 5 5 5 5 5 5 4 4 4 4 4 4 3 3 4 4 4 4 4 4 4 4 4 4 3 3 3 3 3 3 3 4 5 4 4 4 3 3 3 3 3 3 3 3 2 3 3 3 3 4 4 5 5 5 5 5 5 5 5 5 5 5 5 5 4 4 4 4 4 3 3 4 4 4 4 4 5 5 5 5\n",
      "P[]: 0 1 1 1 1 1 1 2 3 3 3 4 4 4 4 4 4 4 4 5 5 5 5 5 5 5 4 4 4 4 4 4 3 3 4 4 4 4 4 4 4 4 4 4 3 3 3 3 3 3 3 4 5 4 4 4 3 3 3 3 3 3 3 3 2 3 3 3 3 4 4 5 5 5 5 5 5 5 5 5 5 5 5 5 4 4 4 4 4 3 3 4 4 4 4 4 5 5 5 5\n",
      "G{}: 0 0 1 1 2 2 2 2 2 3 3 3 3 4 4 5 5 5 5 5 5 5 5 5 5 5 5 5 5 5 5 5 5 5 5 5 5 4 4 4 4 4 4 4 4 4 4 4 4 4 5 5 5 5 5 5 5 5 5 4 4 4 4 4 4 4 3 3 4 4 4 4 4 5 5 5 5 5 5 5 5 4 3 3 3 3 3 2 2 2 3 3 3 4 4 4 4 3 3 3\n",
      "P{}: 0 0 1 1 2 2 2 2 2 3 3 3 3 4 4 5 5 5 5 5 5 5 5 5 5 5 5 5 5 5 5 5 5 5 5 5 5 4 4 4 4 4 4 4 4 4 4 4 4 4 5 5 5 5 5 5 5 5 5 4 4 4 4 4 4 4 3 3 4 4 4 4 4 5 5 5 5 5 5 5 5 4 3 3 3 3 3 2 2 2 3 3 3 4 4 4 4 3 3 3\n",
      "\n",
      "Step 21999 loss 0.000041\n",
      "  0: ( a ) a a ( ( ] ) [ [ { ) ( ( ( [ ) ] ) ( { ( } } { ] [ a } { { ] { ] { a a { a ] ) } { [ ) [ [ ) a ( ) ) a } ( ) [ { } ) ) ) ] ] } ( ( ] { { a ( ( a { { [ ( ] { ] { a { ( { } a { ( ( [ ) ] } ] [ ] }\n",
      "G(): 1 1 0 0 0 1 2 2 1 1 1 1 0 1 2 3 3 2 2 1 2 2 3 3 3 3 3 3 3 3 3 3 3 3 3 3 3 3 3 3 3 2 2 2 2 1 1 1 0 0 1 0 0 0 0 1 0 0 0 0 0 0 0 0 0 0 1 2 2 2 2 2 3 4 4 4 4 4 5 5 5 5 5 5 5 5 5 5 5 5 5 5 5 4 4 4 4 4 4 4\n",
      "P(): 1 1 0 0 0 1 2 2 1 1 1 1 0 1 2 3 3 2 2 1 2 2 3 3 3 3 3 3 3 3 3 3 3 3 3 3 3 3 3 3 3 2 2 2 2 1 1 1 0 0 1 0 0 0 0 1 0 0 0 0 0 0 0 0 0 0 1 2 2 2 2 2 3 4 4 4 4 4 5 5 5 5 5 5 5 5 5 5 5 5 5 5 5 4 4 4 4 4 4 4\n",
      "G[]: 0 0 0 0 0 0 0 0 0 1 2 2 2 2 2 2 3 3 2 2 2 2 2 2 2 2 1 2 2 2 2 2 1 1 0 0 0 0 0 0 0 0 0 0 1 1 2 3 3 3 3 3 3 3 3 3 3 4 4 4 4 4 4 3 2 2 2 2 1 1 1 1 1 1 1 1 1 2 2 1 1 0 0 0 0 0 0 0 0 0 0 0 1 1 0 0 0 1 0 0\n",
      "P[]: 0 0 0 0 0 0 0 0 0 1 2 2 2 2 2 2 3 3 2 2 2 2 2 2 2 2 1 2 2 2 2 2 1 1 0 0 0 0 0 0 0 0 0 0 1 1 2 3 3 3 3 3 3 3 3 3 3 4 4 4 4 4 4 3 2 2 2 2 1 1 1 1 1 1 1 1 1 2 2 1 1 0 0 0 0 0 0 0 0 0 0 0 1 1 0 0 0 1 0 0\n",
      "G{}: 0 0 0 0 0 0 0 0 0 0 0 1 1 1 1 1 1 1 1 1 1 2 2 1 0 1 1 1 1 0 1 2 2 3 3 4 4 4 5 5 5 5 4 5 5 5 5 5 5 5 5 5 5 5 4 4 4 4 5 4 4 4 4 4 4 3 3 3 3 4 5 5 5 5 5 5 5 5 5 5 5 5 5 5 5 5 5 4 4 5 5 5 5 5 5 4 4 4 4 3\n",
      "P{}: 0 0 0 0 0 0 0 0 0 0 0 1 1 1 1 1 1 1 1 1 1 2 2 1 0 1 1 1 1 0 1 2 2 3 3 4 4 4 5 5 5 5 4 5 5 5 5 5 5 5 5 5 5 5 4 4 4 4 5 4 4 4 4 4 4 3 3 3 3 4 5 5 5 5 5 5 5 5 5 5 5 5 5 5 5 5 5 4 4 5 5 5 5 5 5 4 4 4 4 3\n",
      "\n",
      "Step 22499 loss 0.000037\n",
      "  0: ( } ( { ) a [ { a } } a ] { a ] { ( } ( } { ( ( ) a } [ a } [ ] { [ } a { [ { { { ) ) ) ) ) [ [ [ [ ) ( { ( a [ } { ) ] ] ) ] ( ) ) a ] { } ( ] ] { } ] [ ] } { ] [ a [ { ) } } a { a { } ) { [ ( [ [ (\n",
      "G(): 1 1 2 2 1 1 1 1 1 1 1 1 1 1 1 1 1 2 2 3 3 3 4 5 4 4 4 4 4 4 4 4 4 4 4 4 4 4 4 4 4 3 2 1 0 0 0 0 0 0 0 1 1 2 2 2 2 2 1 1 1 0 0 1 0 0 0 0 0 0 1 1 1 1 1 1 1 1 1 1 1 1 1 1 1 0 0 0 0 0 0 0 0 0 0 0 1 1 1 2\n",
      "P(): 1 1 2 2 1 1 1 1 1 1 1 1 1 1 1 1 1 2 2 3 3 3 4 5 4 4 4 4 4 4 4 4 4 4 4 4 4 4 4 4 4 3 2 1 0 0 0 0 0 0 0 1 1 2 2 2 2 2 1 1 1 0 0 1 0 0 0 0 0 0 1 1 1 1 1 1 1 1 1 1 1 1 1 1 1 0 0 0 0 0 0 0 0 0 0 0 1 1 1 2\n",
      "G[]: 0 0 0 0 0 0 1 1 1 1 1 1 0 0 0 0 0 0 0 0 0 0 0 0 0 0 0 1 1 1 2 1 1 2 2 2 2 3 3 3 3 3 3 3 3 3 4 5 5 5 5 5 5 5 5 5 5 5 5 4 3 3 2 2 2 2 2 1 1 1 1 0 0 0 0 0 1 0 0 0 0 1 1 2 2 2 2 2 2 2 2 2 2 2 2 3 3 4 5 5\n",
      "P[]: 0 0 0 0 0 0 1 1 1 1 1 1 0 0 0 0 0 0 0 0 0 0 0 0 0 0 0 1 1 1 2 1 1 2 2 2 2 3 3 3 3 3 3 3 3 3 4 5 5 5 5 5 5 5 5 5 5 5 5 4 3 3 2 2 2 2 2 1 1 1 1 0 0 0 0 0 1 0 0 0 0 1 1 2 2 2 2 2 2 2 2 2 2 2 2 3 3 4 5 5\n",
      "G{}: 0 0 0 1 1 1 1 2 2 1 0 0 0 1 1 1 2 2 1 1 0 1 1 1 1 1 0 0 0 0 0 0 1 1 0 0 1 1 2 3 4 4 4 4 4 4 4 4 4 4 4 4 5 5 5 5 4 5 5 5 5 5 5 5 5 5 5 5 5 4 4 4 4 5 4 4 4 4 3 4 4 4 4 4 5 5 4 3 3 4 4 5 4 4 5 5 5 5 5 5\n",
      "P{}: 0 0 0 1 1 1 1 2 2 1 0 0 0 1 1 1 2 2 1 1 0 1 1 1 1 1 0 0 0 0 0 0 1 1 0 0 1 1 2 3 4 4 4 4 4 4 4 4 4 4 4 4 5 5 5 5 4 5 5 5 5 5 5 5 5 5 5 5 5 4 4 4 4 5 4 4 4 4 3 4 4 4 4 4 5 5 4 3 3 4 4 5 4 4 5 5 5 5 5 5\n",
      "\n",
      "Step 22999 loss 0.000024\n",
      "  0: a } ] ( ( ) ] ( a { ] { [ ( { ( [ ] [ ( { [ a { ) } ) ] a { [ [ ( ) a ( { ) [ [ [ a { a { [ ( ] a ( ) ] { [ ] [ { ( ( [ { a [ ( } { ) ( ] } ] { a ) ] ) } a a ] ) [ { ( ( [ [ } ) [ } ] a a ] ( ( ] ] }\n",
      "G(): 0 0 0 1 2 1 1 2 2 2 2 2 2 3 3 4 4 4 4 5 5 5 5 5 4 4 3 3 3 3 3 3 4 3 3 4 4 3 3 3 3 3 3 3 3 3 4 4 4 5 4 4 4 4 4 4 4 5 5 5 5 5 5 5 5 5 4 5 5 5 5 5 5 4 4 3 3 3 3 3 2 2 2 3 4 4 4 4 3 3 3 3 3 3 3 4 5 5 5 5\n",
      "P(): 0 0 0 1 2 1 1 2 2 2 2 2 2 3 3 4 4 4 4 5 5 5 5 5 4 4 3 3 3 3 3 3 4 3 3 4 4 3 3 3 3 3 3 3 3 3 4 4 4 5 4 4 4 4 4 4 4 5 5 5 5 5 5 5 5 5 4 5 5 5 5 5 5 4 4 3 3 3 3 3 2 2 2 3 4 4 4 4 3 3 3 3 3 3 3 4 5 5 5 5\n",
      "G[]: 0 0 0 0 0 0 0 0 0 0 0 0 1 1 1 1 2 1 2 2 2 3 3 3 3 3 3 2 2 2 3 4 4 4 4 4 4 4 5 5 5 5 5 5 5 5 5 4 4 4 4 3 3 4 3 4 4 4 4 5 5 5 5 5 5 5 5 5 4 4 3 3 3 3 2 2 2 2 2 1 1 2 2 2 2 3 4 4 4 5 5 4 4 4 3 3 3 2 1 1\n",
      "P[]: 0 0 0 0 0 0 0 0 0 0 0 0 1 1 1 1 2 1 2 2 2 3 3 3 3 3 3 2 2 2 3 4 4 4 4 4 4 4 5 5 5 5 5 5 5 5 5 4 4 4 4 3 3 4 3 4 4 4 4 5 5 5 5 5 5 5 5 5 4 4 3 3 3 3 2 2 2 2 2 1 1 2 2 2 2 3 4 4 4 5 5 4 4 4 3 3 3 2 1 1\n",
      "G{}: 0 0 0 0 0 0 0 0 0 1 1 2 2 2 3 3 3 3 3 3 4 4 4 5 5 4 4 4 4 5 5 5 5 5 5 5 5 5 5 5 5 5 5 5 5 5 5 5 5 5 5 5 5 5 5 5 5 5 5 5 5 5 5 5 4 5 5 5 5 4 4 5 5 5 5 5 4 4 4 4 4 4 5 5 5 5 5 4 4 4 3 3 3 3 3 3 3 3 3 2\n",
      "P{}: 0 0 0 0 0 0 0 0 0 1 1 2 2 2 3 3 3 3 3 3 4 4 4 5 5 4 4 4 4 5 5 5 5 5 5 5 5 5 5 5 5 5 5 5 5 5 5 5 5 5 5 5 5 5 5 5 5 5 5 5 5 5 5 5 4 5 5 5 5 4 4 5 5 5 5 5 4 4 4 4 4 4 5 5 5 5 5 4 4 4 3 3 3 3 3 3 3 3 3 2\n",
      "\n",
      "Step 23499 loss 0.000047\n",
      "  0: a ] a ( ) ] } ( } } ( ] { [ ) ] } { a } [ a ( [ ] [ ( [ { [ ) ) [ } } { ) [ a a ) a a ) [ } } [ ] ( [ } ( } ( } ] ) ) [ ] [ ( ) { } a { } ) { } ) } { ( [ ] ) { ( ( ) } ] ( { ( } a { ) ) { { { ] [ } a\n",
      "G(): 0 0 0 1 0 0 0 1 1 1 2 2 2 2 1 1 1 1 1 1 1 1 2 2 2 2 3 3 3 3 2 1 1 1 1 1 0 0 0 0 0 0 0 0 0 0 0 0 0 1 1 1 2 2 3 3 3 2 1 1 1 1 2 1 1 1 1 1 1 0 0 0 0 0 0 1 1 1 0 0 1 2 1 1 1 2 2 3 3 3 3 2 1 1 1 1 1 1 1 1\n",
      "P(): 0 0 0 1 0 0 0 1 1 1 2 2 2 2 1 1 1 1 1 1 1 1 2 2 2 2 3 3 3 3 2 1 1 1 1 1 0 0 0 0 0 0 0 0 0 0 0 0 0 1 1 1 2 2 3 3 3 2 1 1 1 1 2 1 1 1 1 1 1 0 0 0 0 0 0 1 1 1 0 0 1 2 1 1 1 2 2 3 3 3 3 2 1 1 1 1 1 1 1 1\n",
      "G[]: 0 0 0 0 0 0 0 0 0 0 0 0 0 1 1 0 0 0 0 0 1 1 1 2 1 2 2 3 3 4 4 4 5 5 5 5 5 5 5 5 5 5 5 5 5 5 5 5 4 4 5 5 5 5 5 5 4 4 4 5 4 5 5 5 5 5 5 5 5 5 5 5 5 5 5 5 5 4 4 4 4 4 4 4 3 3 3 3 3 3 3 3 3 3 3 3 2 3 3 3\n",
      "P[]: 0 0 0 0 0 0 0 0 0 0 0 0 0 1 1 0 0 0 0 0 1 1 1 2 1 2 2 3 3 4 4 4 5 5 5 5 5 5 5 5 5 5 5 5 5 5 5 5 4 4 5 5 5 5 5 5 4 4 4 5 4 5 5 5 5 5 5 5 5 5 5 5 5 5 5 5 5 4 4 4 4 4 4 4 3 3 3 3 3 3 3 3 3 3 3 3 2 3 3 3\n",
      "G{}: 0 0 0 0 0 0 0 0 0 0 0 0 1 1 1 1 0 1 1 0 0 0 0 0 0 0 0 0 1 1 1 1 1 0 0 1 1 1 1 1 1 1 1 1 1 0 0 0 0 0 0 0 0 0 0 0 0 0 0 0 0 0 0 0 1 0 0 1 0 0 1 0 0 0 1 1 1 1 1 2 2 2 2 1 1 1 2 2 1 1 2 2 2 3 4 5 5 5 4 4\n",
      "P{}: 0 0 0 0 0 0 0 0 0 0 0 0 1 1 1 1 0 1 1 0 0 0 0 0 0 0 0 0 1 1 1 1 1 0 0 1 1 1 1 1 1 1 1 1 1 0 0 0 0 0 0 0 0 0 0 0 0 0 0 0 0 0 0 0 1 0 0 1 0 0 1 0 0 0 1 1 1 1 1 2 2 2 2 1 1 1 2 2 1 1 2 2 2 3 4 5 5 5 4 4\n",
      "\n",
      "Step 23999 loss 0.000027\n",
      "  0: { } } [ a [ { { ) [ [ ( ( ) { ) } ] [ ( ] [ { ] ( { ) } ( [ { ( [ ) { [ [ ) ] ) [ { ( [ ) { ) [ ( ( { ) { a { ] ) a } ] a { ] } ] { a } [ } { a { a ( ) ) { [ a ] } { } a { } } ] ] a a { { ] a { ] { }\n",
      "G(): 0 0 0 0 0 0 0 0 0 0 0 1 2 1 1 0 0 0 0 1 1 1 1 1 2 2 1 1 2 2 2 3 3 2 2 2 2 1 1 0 0 0 1 1 0 0 0 0 1 2 2 1 1 1 1 1 0 0 0 0 0 0 0 0 0 0 0 0 0 0 0 0 0 0 1 0 0 0 0 0 0 0 0 0 0 0 0 0 0 0 0 0 0 0 0 0 0 0 0 0\n",
      "P(): 0 0 0 0 0 0 0 0 0 0 0 1 2 1 1 0 0 0 0 1 1 1 1 1 2 2 1 1 2 2 2 3 3 2 2 2 2 1 1 0 0 0 1 1 0 0 0 0 1 2 2 1 1 1 1 1 0 0 0 0 0 0 0 0 0 0 0 0 0 0 0 0 0 0 1 0 0 0 0 0 0 0 0 0 0 0 0 0 0 0 0 0 0 0 0 0 0 0 0 0\n",
      "G[]: 0 0 0 1 1 2 2 2 2 3 4 4 4 4 4 4 4 3 4 4 3 4 4 3 3 3 3 3 3 4 4 4 5 5 5 5 5 5 4 4 5 5 5 5 5 5 5 5 5 5 5 5 5 5 5 4 4 4 4 3 3 3 2 2 1 1 1 1 2 2 2 2 2 2 2 2 2 2 3 3 2 2 2 2 2 2 2 2 1 0 0 0 0 0 0 0 0 0 0 0\n",
      "P[]: 0 0 0 1 1 2 2 2 2 3 4 4 4 4 4 4 4 3 4 4 3 4 4 3 3 3 3 3 3 4 4 4 5 5 5 5 5 5 4 4 5 5 5 5 5 5 5 5 5 5 5 5 5 5 5 4 4 4 4 3 3 3 2 2 1 1 1 1 2 2 2 2 2 2 2 2 2 2 3 3 2 2 2 2 2 2 2 2 1 0 0 0 0 0 0 0 0 0 0 0\n",
      "G{}: 1 0 0 0 0 0 1 2 2 2 2 2 2 2 3 3 2 2 2 2 2 2 3 3 3 4 4 3 3 3 4 4 4 4 5 5 5 5 5 5 5 5 5 5 5 5 5 5 5 5 5 5 5 5 5 5 5 5 4 4 4 5 5 4 4 5 5 4 4 3 4 4 5 5 5 5 5 5 5 5 5 4 5 4 4 5 4 3 3 3 3 3 4 5 5 5 5 5 5 4\n",
      "P{}: 1 0 0 0 0 0 1 2 2 2 2 2 2 2 3 3 2 2 2 2 2 2 3 3 3 4 4 3 3 3 4 4 4 4 5 5 5 5 5 5 5 5 5 5 5 5 5 5 5 5 5 5 5 5 5 5 5 5 4 4 4 5 5 4 4 5 5 4 4 3 4 4 5 5 5 5 5 5 5 5 5 4 5 4 4 5 4 3 3 3 3 3 4 5 5 5 5 5 5 4\n",
      "\n",
      "Step 24499 loss 0.000054\n",
      "  0: } ( } } } } ] [ [ } ( ] { [ ) a ] } a a { } a ( [ a [ ) ) ) ( [ { [ a a ) ] [ } } ( ] ( ] ) [ } [ } a a ( ( [ [ { } [ ] } [ } { ( ( { ) a ( { { ) } } a } ) { } } ] ( ] } ] a a a } } } { ) ) } ) [ { {\n",
      "G(): 0 1 1 1 1 1 1 1 1 1 2 2 2 2 1 1 1 1 1 1 1 1 1 2 2 2 2 1 0 0 1 1 1 1 1 1 0 0 0 0 0 1 1 2 2 1 1 1 1 1 1 1 2 3 3 3 3 3 3 3 3 3 3 3 4 5 5 4 4 5 5 5 4 4 4 4 4 3 3 3 3 3 4 4 4 4 4 4 4 4 4 4 4 3 2 2 1 1 1 1\n",
      "P(): 0 1 1 1 1 1 1 1 1 1 2 2 2 2 1 1 1 1 1 1 1 1 1 2 2 2 2 1 0 0 1 1 1 1 1 1 0 0 0 0 0 1 1 2 2 1 1 1 1 1 1 1 2 3 3 3 3 3 3 3 3 3 3 3 4 5 5 4 4 5 5 5 4 4 4 4 4 3 3 3 3 3 4 4 4 4 4 4 4 4 4 4 4 3 2 2 1 1 1 1\n",
      "G[]: 0 0 0 0 0 0 0 1 2 2 2 1 1 2 2 2 1 1 1 1 1 1 1 1 2 2 3 3 3 3 3 4 4 5 5 5 5 4 5 5 5 5 4 4 3 3 4 4 5 5 5 5 5 5 5 5 5 5 5 4 4 5 5 5 5 5 5 5 5 5 5 5 5 5 5 5 5 5 5 5 5 4 4 3 3 2 2 2 2 2 2 2 2 2 2 2 2 3 3 3\n",
      "P[]: 0 0 0 0 0 0 0 1 2 2 2 1 1 2 2 2 1 1 1 1 1 1 1 1 2 2 3 3 3 3 3 4 4 5 5 5 5 4 5 5 5 5 4 4 3 3 4 4 5 5 5 5 5 5 5 5 5 5 5 4 4 5 5 5 5 5 5 5 5 5 5 5 5 5 5 5 5 5 5 5 5 4 4 3 3 2 2 2 2 2 2 2 2 2 2 2 2 3 3 3\n",
      "G{}: 0 0 0 0 0 0 0 0 0 0 0 0 1 1 1 1 1 0 0 0 1 0 0 0 0 0 0 0 0 0 0 0 1 1 1 1 1 1 1 0 0 0 0 0 0 0 0 0 0 0 0 0 0 0 0 0 1 0 0 0 0 0 0 1 1 1 2 2 2 2 3 4 4 3 2 2 1 1 2 1 0 0 0 0 0 0 0 0 0 0 0 0 1 1 1 0 0 0 1 2\n",
      "P{}: 0 0 0 0 0 0 0 0 0 0 0 0 1 1 1 1 1 0 0 0 1 0 0 0 0 0 0 0 0 0 0 0 1 1 1 1 1 1 1 0 0 0 0 0 0 0 0 0 0 0 0 0 0 0 0 0 1 0 0 0 0 0 0 1 1 1 2 2 2 2 3 4 4 3 2 2 1 1 2 1 0 0 0 0 0 0 0 0 0 0 0 0 1 1 1 0 0 0 1 2\n",
      "\n",
      "Step 24999 loss 0.000015\n",
      "  0: ( { ) { ] { [ ] [ ) a ( a [ ( ] } { { ) a ] a } ] [ { [ ) [ a } ] a [ } { } ) } { a { a a } a } } a ) ] ] ( ] a ) a ] ( ) { ) ( ) [ ] } a ( { a ) ) [ ] a } ) a [ a ) ) ] ) [ a { ) ] a { ( { } ] ( ( (\n",
      "G(): 1 1 0 0 0 0 0 0 0 0 0 1 1 1 2 2 2 2 2 1 1 1 1 1 1 1 1 1 0 0 0 0 0 0 0 0 0 0 0 0 0 0 0 0 0 0 0 0 0 0 0 0 0 1 1 1 0 0 0 1 0 0 0 1 0 0 0 0 0 1 1 1 0 0 0 0 0 0 0 0 0 0 0 0 0 0 0 0 0 0 0 0 0 1 1 1 1 2 3 4\n",
      "P(): 1 1 0 0 0 0 0 0 0 0 0 1 1 1 2 2 2 2 2 1 1 1 1 1 1 1 1 1 0 0 0 0 0 0 0 0 0 0 0 0 0 0 0 0 0 0 0 0 0 0 0 0 0 1 1 1 0 0 0 1 0 0 0 1 0 0 0 0 0 1 1 1 0 0 0 0 0 0 0 0 0 0 0 0 0 0 0 0 0 0 0 0 0 1 1 1 1 2 3 4\n",
      "G[]: 0 0 0 0 0 0 1 0 1 1 1 1 1 2 2 1 1 1 1 1 1 0 0 0 0 1 1 2 2 3 3 3 2 2 3 3 3 3 3 3 3 3 3 3 3 3 3 3 3 3 3 2 1 1 0 0 0 0 0 0 0 0 0 0 0 1 0 0 0 0 0 0 0 0 1 0 0 0 0 0 1 1 1 1 0 0 1 1 1 1 0 0 0 0 0 0 0 0 0 0\n",
      "P[]: 0 0 0 0 0 0 1 0 1 1 1 1 1 2 2 1 1 1 1 1 1 0 0 0 0 1 1 2 2 3 3 3 2 2 3 3 3 3 3 3 3 3 3 3 3 3 3 3 3 3 3 2 1 1 0 0 0 0 0 0 0 0 0 0 0 1 0 0 0 0 0 0 0 0 1 0 0 0 0 0 1 1 1 1 0 0 1 1 1 1 0 0 0 0 0 0 0 0 0 0\n",
      "G{}: 0 1 1 2 2 3 3 3 3 3 3 3 3 3 3 3 2 3 4 4 4 4 4 3 3 3 4 4 4 4 4 3 3 3 3 2 3 2 2 1 2 2 3 3 3 2 2 1 0 0 0 0 0 0 0 0 0 0 0 0 0 1 1 1 1 1 1 0 0 0 1 1 1 1 1 1 1 0 0 0 0 0 0 0 0 0 0 0 1 1 1 1 2 2 3 2 2 2 2 2\n",
      "P{}: 0 1 1 2 2 3 3 3 3 3 3 3 3 3 3 3 2 3 4 4 4 4 4 3 3 3 4 4 4 4 4 3 3 3 3 2 3 2 2 1 2 2 3 3 3 2 2 1 0 0 0 0 0 0 0 0 0 0 0 0 0 1 1 1 1 1 1 0 0 0 1 1 1 1 1 1 1 0 0 0 0 0 0 0 0 0 0 0 1 1 1 1 2 2 3 2 2 2 2 2\n",
      "\n",
      "Step 25499 loss 0.000055\n",
      "  0: [ a ] [ { ) [ } { [ ] ) [ ( a } { { } ( [ ] [ } ) [ [ ] ) [ ] ( { [ } ( a } ( a ] ] { { ] } a ] a a { ) [ } } [ ( ) ( ( a ( [ a [ ) ] ] ) { { ] ) { a a ] ] { ) [ a { ) ( { a { ) ( ] } } a ] ] ( ( } )\n",
      "G(): 0 0 0 0 0 0 0 0 0 0 0 0 0 1 1 1 1 1 1 2 2 2 2 2 1 1 1 1 0 0 0 1 1 1 1 2 2 2 3 3 3 3 3 3 3 3 3 3 3 3 3 2 2 2 2 2 3 2 3 4 4 5 5 5 5 4 4 4 3 3 3 3 2 2 2 2 2 2 2 1 1 1 1 0 1 1 1 1 0 1 1 1 1 1 1 1 2 3 3 2\n",
      "P(): 0 0 0 0 0 0 0 0 0 0 0 0 0 1 1 1 1 1 1 2 2 2 2 2 1 1 1 1 0 0 0 1 1 1 1 2 2 2 3 3 3 3 3 3 3 3 3 3 3 3 3 2 2 2 2 2 3 2 3 4 4 5 5 5 5 4 4 4 3 3 3 3 2 2 2 2 2 2 2 1 1 1 1 0 1 1 1 1 0 1 1 1 1 1 1 1 2 3 3 2\n",
      "G[]: 1 1 0 1 1 1 2 2 2 3 2 2 3 3 3 3 3 3 3 3 4 3 4 4 4 5 5 4 4 5 4 4 4 5 5 5 5 5 5 5 4 3 3 3 2 2 2 1 1 1 1 1 2 2 2 3 3 3 3 3 3 3 4 4 5 5 4 3 3 3 3 2 2 2 2 2 1 0 0 0 1 1 1 1 1 1 1 1 1 1 0 0 0 0 0 0 0 0 0 0\n",
      "P[]: 1 1 0 1 1 1 2 2 2 3 2 2 3 3 3 3 3 3 3 3 4 3 4 4 4 5 5 4 4 5 4 4 4 5 5 5 5 5 5 5 4 3 3 3 2 2 2 1 1 1 1 1 2 2 2 3 3 3 3 3 3 3 4 4 5 5 4 3 3 3 3 2 2 2 2 2 1 0 0 0 1 1 1 1 1 1 1 1 1 1 0 0 0 0 0 0 0 0 0 0\n",
      "G{}: 0 0 0 0 1 1 1 0 1 1 1 1 1 1 1 0 1 2 1 1 1 1 1 0 0 0 0 0 0 0 0 0 1 1 0 0 0 0 0 0 0 0 1 2 2 1 1 1 1 1 2 2 2 1 0 0 0 0 0 0 0 0 0 0 0 0 0 0 0 1 2 2 2 3 3 3 3 3 4 4 4 4 5 5 5 5 5 5 5 5 5 4 3 3 3 3 3 3 2 2\n",
      "P{}: 0 0 0 0 1 1 1 0 1 1 1 1 1 1 1 0 1 2 1 1 1 1 1 0 0 0 0 0 0 0 0 0 1 1 0 0 0 0 0 0 0 0 1 2 2 1 1 1 1 1 2 2 2 1 0 0 0 0 0 0 0 0 0 0 0 0 0 0 0 1 2 2 2 3 3 3 3 3 4 4 4 4 5 5 5 5 5 5 5 5 5 4 3 3 3 3 3 3 2 2\n",
      "\n",
      "Step 25999 loss 0.000032\n",
      "  0: } { { { { ) a [ { { ( ( ( a { ] ( ) } { { ] ( ] ( a { ( [ a ) [ ] } a a ( a { a ] } } ] { ( } [ { { { ( [ a { ( ( ] ] [ } ) ( a ) ( ] [ ( } [ { [ ) a ) a a [ a ) } [ [ ] a { [ ] a } [ a ] ) } { ] ) )\n",
      "G(): 0 0 0 0 0 0 0 0 0 0 1 2 3 3 3 3 4 3 3 3 3 3 4 4 5 5 5 5 5 5 4 4 4 4 4 4 5 5 5 5 5 5 5 5 5 5 5 5 5 5 5 5 5 5 5 5 5 5 5 5 5 4 5 5 4 5 5 5 5 5 5 5 5 4 4 3 3 3 3 3 2 2 2 2 2 2 2 2 2 2 2 2 2 2 1 1 1 1 0 0\n",
      "P(): 0 0 0 0 0 0 0 0 0 0 1 2 3 3 3 3 4 3 3 3 3 3 4 4 5 5 5 5 5 5 4 4 4 4 4 4 5 5 5 5 5 5 5 5 5 5 5 5 5 5 5 5 5 5 5 5 5 5 5 5 5 4 5 5 4 5 5 5 5 5 5 5 5 4 4 3 3 3 3 3 2 2 2 2 2 2 2 2 2 2 2 2 2 2 1 1 1 1 0 0\n",
      "G[]: 0 0 0 0 0 0 0 1 1 1 1 1 1 1 1 0 0 0 0 0 0 0 0 0 0 0 0 0 1 1 1 2 1 1 1 1 1 1 1 1 0 0 0 0 0 0 0 1 1 1 1 1 2 2 2 2 2 1 0 1 1 1 1 1 1 1 0 1 1 1 2 2 3 3 3 3 3 3 4 4 4 4 5 5 4 4 4 5 4 4 4 5 5 4 4 4 4 3 3 3\n",
      "P[]: 0 0 0 0 0 0 0 1 1 1 1 1 1 1 1 0 0 0 0 0 0 0 0 0 0 0 0 0 1 1 1 2 1 1 1 1 1 1 1 1 0 0 0 0 0 0 0 1 1 1 1 1 2 2 2 2 2 1 0 1 1 1 1 1 1 1 0 1 1 1 2 2 3 3 3 3 3 3 4 4 4 4 5 5 4 4 4 5 4 4 4 5 5 4 4 4 4 3 3 3\n",
      "G{}: 0 1 2 3 4 4 4 4 5 5 5 5 5 5 5 5 5 5 4 5 5 5 5 5 5 5 5 5 5 5 5 5 5 4 4 4 4 4 5 5 5 4 3 3 4 4 3 3 4 5 5 5 5 5 5 5 5 5 5 5 4 4 4 4 4 4 4 4 4 3 3 4 4 4 4 4 4 4 4 4 4 3 3 3 3 3 4 4 4 4 3 3 3 3 3 2 3 3 3 3\n",
      "P{}: 0 1 2 3 4 4 4 4 5 5 5 5 5 5 5 5 5 5 4 5 5 5 5 5 5 5 5 5 5 5 5 5 5 4 4 4 4 4 5 5 5 4 3 3 4 4 3 3 4 5 5 5 5 5 5 5 5 5 5 5 4 4 4 4 4 4 4 4 4 3 3 4 4 4 4 4 4 4 4 4 4 3 3 3 3 3 4 4 4 4 3 3 3 3 3 2 3 3 3 3\n",
      "\n"
     ]
    },
    {
     "ename": "KeyboardInterrupt",
     "evalue": "",
     "output_type": "error",
     "traceback": [
      "\u001b[0;31m---------------------------------------------------------------------------\u001b[0m",
      "\u001b[0;31mKeyboardInterrupt\u001b[0m                         Traceback (most recent call last)",
      "\u001b[0;32m<ipython-input-9-0b4712d2067a>\u001b[0m in \u001b[0;36m<module>\u001b[0;34m()\u001b[0m\n\u001b[1;32m     14\u001b[0m                \u001b[0mlearning_rate\u001b[0m\u001b[0;34m:\u001b[0m\u001b[0;36m2e-4\u001b[0m\u001b[0;34m\u001b[0m\u001b[0m\n\u001b[1;32m     15\u001b[0m               }\n\u001b[0;32m---> 16\u001b[0;31m   \u001b[0mv_task_loss\u001b[0m\u001b[0;34m,\u001b[0m \u001b[0mv_logits\u001b[0m\u001b[0;34m,\u001b[0m \u001b[0m_\u001b[0m \u001b[0;34m=\u001b[0m \u001b[0msess\u001b[0m\u001b[0;34m.\u001b[0m\u001b[0mrun\u001b[0m\u001b[0;34m(\u001b[0m\u001b[0;34m[\u001b[0m\u001b[0mtask_loss\u001b[0m\u001b[0;34m,\u001b[0m \u001b[0mlogits\u001b[0m\u001b[0;34m,\u001b[0m \u001b[0mtrain_op\u001b[0m\u001b[0;34m]\u001b[0m\u001b[0;34m,\u001b[0m \u001b[0mfeed_dict\u001b[0m\u001b[0;34m=\u001b[0m\u001b[0mfeed_dict\u001b[0m\u001b[0;34m)\u001b[0m\u001b[0;34m\u001b[0m\u001b[0m\n\u001b[0m\u001b[1;32m     17\u001b[0m \u001b[0;34m\u001b[0m\u001b[0m\n\u001b[1;32m     18\u001b[0m   \u001b[0mtask_loss_acc\u001b[0m \u001b[0;34m+=\u001b[0m \u001b[0mv_task_loss\u001b[0m\u001b[0;34m\u001b[0m\u001b[0m\n",
      "\u001b[0;32m/usr/local/google/home/chorowski/anaconda2/lib/python2.7/site-packages/tensorflow/python/client/session.pyc\u001b[0m in \u001b[0;36mrun\u001b[0;34m(self, fetches, feed_dict, options, run_metadata)\u001b[0m\n\u001b[1;32m    765\u001b[0m     \u001b[0;32mtry\u001b[0m\u001b[0;34m:\u001b[0m\u001b[0;34m\u001b[0m\u001b[0m\n\u001b[1;32m    766\u001b[0m       result = self._run(None, fetches, feed_dict, options_ptr,\n\u001b[0;32m--> 767\u001b[0;31m                          run_metadata_ptr)\n\u001b[0m\u001b[1;32m    768\u001b[0m       \u001b[0;32mif\u001b[0m \u001b[0mrun_metadata\u001b[0m\u001b[0;34m:\u001b[0m\u001b[0;34m\u001b[0m\u001b[0m\n\u001b[1;32m    769\u001b[0m         \u001b[0mproto_data\u001b[0m \u001b[0;34m=\u001b[0m \u001b[0mtf_session\u001b[0m\u001b[0;34m.\u001b[0m\u001b[0mTF_GetBuffer\u001b[0m\u001b[0;34m(\u001b[0m\u001b[0mrun_metadata_ptr\u001b[0m\u001b[0;34m)\u001b[0m\u001b[0;34m\u001b[0m\u001b[0m\n",
      "\u001b[0;32m/usr/local/google/home/chorowski/anaconda2/lib/python2.7/site-packages/tensorflow/python/client/session.pyc\u001b[0m in \u001b[0;36m_run\u001b[0;34m(self, handle, fetches, feed_dict, options, run_metadata)\u001b[0m\n\u001b[1;32m    963\u001b[0m     \u001b[0;32mif\u001b[0m \u001b[0mfinal_fetches\u001b[0m \u001b[0;32mor\u001b[0m \u001b[0mfinal_targets\u001b[0m\u001b[0;34m:\u001b[0m\u001b[0;34m\u001b[0m\u001b[0m\n\u001b[1;32m    964\u001b[0m       results = self._do_run(handle, final_targets, final_fetches,\n\u001b[0;32m--> 965\u001b[0;31m                              feed_dict_string, options, run_metadata)\n\u001b[0m\u001b[1;32m    966\u001b[0m     \u001b[0;32melse\u001b[0m\u001b[0;34m:\u001b[0m\u001b[0;34m\u001b[0m\u001b[0m\n\u001b[1;32m    967\u001b[0m       \u001b[0mresults\u001b[0m \u001b[0;34m=\u001b[0m \u001b[0;34m[\u001b[0m\u001b[0;34m]\u001b[0m\u001b[0;34m\u001b[0m\u001b[0m\n",
      "\u001b[0;32m/usr/local/google/home/chorowski/anaconda2/lib/python2.7/site-packages/tensorflow/python/client/session.pyc\u001b[0m in \u001b[0;36m_do_run\u001b[0;34m(self, handle, target_list, fetch_list, feed_dict, options, run_metadata)\u001b[0m\n\u001b[1;32m   1013\u001b[0m     \u001b[0;32mif\u001b[0m \u001b[0mhandle\u001b[0m \u001b[0;32mis\u001b[0m \u001b[0mNone\u001b[0m\u001b[0;34m:\u001b[0m\u001b[0;34m\u001b[0m\u001b[0m\n\u001b[1;32m   1014\u001b[0m       return self._do_call(_run_fn, self._session, feed_dict, fetch_list,\n\u001b[0;32m-> 1015\u001b[0;31m                            target_list, options, run_metadata)\n\u001b[0m\u001b[1;32m   1016\u001b[0m     \u001b[0;32melse\u001b[0m\u001b[0;34m:\u001b[0m\u001b[0;34m\u001b[0m\u001b[0m\n\u001b[1;32m   1017\u001b[0m       return self._do_call(_prun_fn, self._session, handle, feed_dict,\n",
      "\u001b[0;32m/usr/local/google/home/chorowski/anaconda2/lib/python2.7/site-packages/tensorflow/python/client/session.pyc\u001b[0m in \u001b[0;36m_do_call\u001b[0;34m(self, fn, *args)\u001b[0m\n\u001b[1;32m   1020\u001b[0m   \u001b[0;32mdef\u001b[0m \u001b[0m_do_call\u001b[0m\u001b[0;34m(\u001b[0m\u001b[0mself\u001b[0m\u001b[0;34m,\u001b[0m \u001b[0mfn\u001b[0m\u001b[0;34m,\u001b[0m \u001b[0;34m*\u001b[0m\u001b[0margs\u001b[0m\u001b[0;34m)\u001b[0m\u001b[0;34m:\u001b[0m\u001b[0;34m\u001b[0m\u001b[0m\n\u001b[1;32m   1021\u001b[0m     \u001b[0;32mtry\u001b[0m\u001b[0;34m:\u001b[0m\u001b[0;34m\u001b[0m\u001b[0m\n\u001b[0;32m-> 1022\u001b[0;31m       \u001b[0;32mreturn\u001b[0m \u001b[0mfn\u001b[0m\u001b[0;34m(\u001b[0m\u001b[0;34m*\u001b[0m\u001b[0margs\u001b[0m\u001b[0;34m)\u001b[0m\u001b[0;34m\u001b[0m\u001b[0m\n\u001b[0m\u001b[1;32m   1023\u001b[0m     \u001b[0;32mexcept\u001b[0m \u001b[0merrors\u001b[0m\u001b[0;34m.\u001b[0m\u001b[0mOpError\u001b[0m \u001b[0;32mas\u001b[0m \u001b[0me\u001b[0m\u001b[0;34m:\u001b[0m\u001b[0;34m\u001b[0m\u001b[0m\n\u001b[1;32m   1024\u001b[0m       \u001b[0mmessage\u001b[0m \u001b[0;34m=\u001b[0m \u001b[0mcompat\u001b[0m\u001b[0;34m.\u001b[0m\u001b[0mas_text\u001b[0m\u001b[0;34m(\u001b[0m\u001b[0me\u001b[0m\u001b[0;34m.\u001b[0m\u001b[0mmessage\u001b[0m\u001b[0;34m)\u001b[0m\u001b[0;34m\u001b[0m\u001b[0m\n",
      "\u001b[0;32m/usr/local/google/home/chorowski/anaconda2/lib/python2.7/site-packages/tensorflow/python/client/session.pyc\u001b[0m in \u001b[0;36m_run_fn\u001b[0;34m(session, feed_dict, fetch_list, target_list, options, run_metadata)\u001b[0m\n\u001b[1;32m   1002\u001b[0m         return tf_session.TF_Run(session, options,\n\u001b[1;32m   1003\u001b[0m                                  \u001b[0mfeed_dict\u001b[0m\u001b[0;34m,\u001b[0m \u001b[0mfetch_list\u001b[0m\u001b[0;34m,\u001b[0m \u001b[0mtarget_list\u001b[0m\u001b[0;34m,\u001b[0m\u001b[0;34m\u001b[0m\u001b[0m\n\u001b[0;32m-> 1004\u001b[0;31m                                  status, run_metadata)\n\u001b[0m\u001b[1;32m   1005\u001b[0m \u001b[0;34m\u001b[0m\u001b[0m\n\u001b[1;32m   1006\u001b[0m     \u001b[0;32mdef\u001b[0m \u001b[0m_prun_fn\u001b[0m\u001b[0;34m(\u001b[0m\u001b[0msession\u001b[0m\u001b[0;34m,\u001b[0m \u001b[0mhandle\u001b[0m\u001b[0;34m,\u001b[0m \u001b[0mfeed_dict\u001b[0m\u001b[0;34m,\u001b[0m \u001b[0mfetch_list\u001b[0m\u001b[0;34m)\u001b[0m\u001b[0;34m:\u001b[0m\u001b[0;34m\u001b[0m\u001b[0m\n",
      "\u001b[0;31mKeyboardInterrupt\u001b[0m: "
     ]
    }
   ],
   "source": [
    "sess = tf.InteractiveSession()\n",
    "sess.run(tf.initialize_all_variables())\n",
    "\n",
    "PRINT_PERIOD = 500\n",
    "\n",
    "task_loss_acc = 0\n",
    "\n",
    "\n",
    "for i in range(N_TRAIN_STEPS):\n",
    "  v_inputs, v_targets = task.sample_batch(T, BATCH_SIZE)\n",
    "  feed_dict = {inputs:v_inputs, \n",
    "               targets:v_targets,\n",
    "               #learning_rate:min(1e-4, 1e-4 * 1000/(i+1))\n",
    "               learning_rate:2e-4\n",
    "              }\n",
    "  v_task_loss, v_logits, _ = sess.run([task_loss, logits, train_op], feed_dict=feed_dict)\n",
    "  \n",
    "  task_loss_acc += v_task_loss\n",
    "  \n",
    "  if ((i + 1) % PRINT_PERIOD) == 0:\n",
    "    print(\"Step %d loss %f\" % (i, task_loss_acc / PRINT_PERIOD))\n",
    "    task.print_batch(v_inputs, v_targets, v_logits)\n",
    "    print(\"\")\n",
    "    task_loss_acc = 0\n"
   ]
  },
  {
   "cell_type": "code",
   "execution_count": 19,
   "metadata": {
    "cellView": null,
    "colab": {
     "autoexec": {
      "startup": false,
      "wait_interval": 0
     }
    },
    "colab_type": "code",
    "collapsed": true,
    "id": "Zz9gwXLVYVsM"
   },
   "outputs": [],
   "source": [
    "def fetch_val(sess, name):\n",
    "  for v in tf.trainable_variables():\n",
    "    if v.name.startswith(name):\n",
    "      return sess.run(v)\n",
    "  raise KeyError()"
   ]
  },
  {
   "cell_type": "code",
   "execution_count": 20,
   "metadata": {
    "cellView": null,
    "colab": {
     "autoexec": {
      "startup": false,
      "wait_interval": 0
     },
     "output_extras": [
      {
       "item_id": 1
      }
     ]
    },
    "colab_type": "code",
    "collapsed": false,
    "executionInfo": {
     "elapsed": 332,
     "status": "ok",
     "timestamp": 1484365204805,
     "user": {
      "displayName": "Jan Chorowski",
      "photoUrl": "//lh5.googleusercontent.com/-CIawMzW6HLk/AAAAAAAAAAI/AAAAAAAAABY/YDJiClf-um8/s50-c-k-no/photo.jpg",
      "userId": "105360491181387708695"
     },
     "user_tz": 480
    },
    "id": "FgHUS6-v0pkm",
    "outputId": "e253dde3-9f05-4443-a383-e4bc8b8933ac"
   },
   "outputs": [
    {
     "name": "stdout",
     "output_type": "stream",
     "text": [
      "Loaded Wo with shape (50, 18)\n",
      "Loaded bo with shape (1, 18)\n",
      "Loaded Wx with shape (7, 50, 50)\n",
      "Loaded bx with shape (7, 50)\n",
      "Loaded h0 with shape (1, 50)\n",
      "Symbol dict is: {'a': 6, ')': 1, '(': 0, ']': 3, '[': 2, '}': 5, '{': 4}\n"
     ]
    }
   ],
   "source": [
    "bo = fetch_val(sess, \"model/model/bo\")\n",
    "Wo = fetch_val(sess, \"model/model/Wo\")\n",
    "\n",
    "bx = fetch_val(sess, \"model/model/rnn/isan_cell/bx\")\n",
    "Wx = fetch_val(sess, \"model/model/rnn/isan_cell/Wx\"\n",
    "              ).reshape(bx.shape[0], bx.shape[1], bx.shape[1])\n",
    "\n",
    "h0 = fetch_val(sess, \"model/model/rnn/h0\")\n",
    "\n",
    "for vname in [\"Wo\", \"bo\", \"Wx\", \"bx\", \"h0\"]:\n",
    "  print(\"Loaded %s with shape %s\" % (vname, globals()[vname].shape))\n",
    "  \n",
    "S = task.token_to_id\n",
    "print(\"Symbol dict is:\", S)"
   ]
  },
  {
   "cell_type": "code",
   "execution_count": 21,
   "metadata": {
    "cellView": null,
    "colab": {
     "autoexec": {
      "startup": false,
      "wait_interval": 0
     },
     "output_extras": [
      {
       "item_id": 1
      }
     ]
    },
    "colab_type": "code",
    "collapsed": false,
    "executionInfo": {
     "elapsed": 168,
     "status": "ok",
     "timestamp": 1484365205011,
     "user": {
      "displayName": "Jan Chorowski",
      "photoUrl": "//lh5.googleusercontent.com/-CIawMzW6HLk/AAAAAAAAAAI/AAAAAAAAABY/YDJiClf-um8/s50-c-k-no/photo.jpg",
      "userId": "105360491181387708695"
     },
     "user_tz": 480
    },
    "id": "QILCunbWfFSl",
    "outputId": "debfd188-f641-4d6f-dfe6-d36a58708a1a"
   },
   "outputs": [
    {
     "name": "stdout",
     "output_type": "stream",
     "text": [
      "(: [1 0 0]\n",
      "(: [2 0 0]\n",
      "(: [3 0 0]\n",
      "(: [4 0 0]\n",
      "(: [5 0 0]\n",
      "(: [5 0 0]\n",
      "[: [5 1 0]\n",
      "): [4 1 0]\n",
      "): [3 1 0]\n",
      "): [2 1 0]\n",
      "): [1 1 0]\n",
      "): [0 1 0]\n",
      "): [0 1 0]\n",
      "): [0 1 0]\n",
      "): [0 1 0]\n",
      "): [0 1 0]\n",
      "]: [0 0 0]\n",
      "{: [0 0 1]\n",
      "{: [0 0 2]\n",
      "{: [0 0 3]\n",
      "}: [0 0 2]\n"
     ]
    }
   ],
   "source": [
    "# Let's check if the loaded parameters work\n",
    "\n",
    "def simulate(paren_string):\n",
    "  h = h0\n",
    "  states = []\n",
    "  for c in paren_string:\n",
    "    h = h.dot(Wx[S[c]]) + bx[S[c]]\n",
    "    states.append(h)\n",
    "  states = np.concatenate(states, axis=0)\n",
    "  return states, states.dot(Wo) + bo\n",
    "\n",
    "paren_string = \"(((((([)))))))))]{{{}\"\n",
    "\n",
    "v_states, v_logits = simulate(paren_string)\n",
    "\n",
    "for p, c in zip(paren_string,\n",
    "                np.argmax(v_logits.reshape(\n",
    "                    v_logits.shape[0], task.n_paren_types, -1), axis=2)):\n",
    "  print(\"%s: %s\" % (p, c))\n"
   ]
  },
  {
   "cell_type": "code",
   "execution_count": 22,
   "metadata": {
    "cellView": null,
    "colab": {
     "autoexec": {
      "startup": false,
      "wait_interval": 0
     }
    },
    "colab_type": "code",
    "collapsed": true,
    "id": "w97VDtwJgT3M"
   },
   "outputs": [],
   "source": [
    "# merge the biases into transition and readout matrices\n",
    "# in this extended basis the model realizes switched linear dynamics\n",
    "e_h0 = np.hstack((h0, [[1]]))\n",
    "e_Wo = np.vstack((Wo, bo))\n",
    "e_Wx = np.zeros((Wx.shape[0], Wx.shape[1]+1, Wx.shape[1]+1), Wx.dtype)\n",
    "\n",
    "e_Wx[:, :-1, :-1] = Wx\n",
    "e_Wx[:, -1, :-1] = bx[:, :]\n",
    "e_Wx[:, -1, -1] = 1.0\n",
    "\n",
    "def e_simulate(paren_string):\n",
    "  h = e_h0\n",
    "  states = []\n",
    "  for c in paren_string:\n",
    "    h = h.dot(e_Wx[S[c]])\n",
    "    states.append(h)\n",
    "  states = np.concatenate(states, axis=0)\n",
    "  return states, states.dot(e_Wo)\n",
    "\n",
    "v_states, v_logits = simulate(paren_string)\n",
    "e_v_states, e_v_logits = e_simulate(paren_string)\n",
    "\n",
    "assert np.allclose(e_v_logits, v_logits, atol=1e-5)\n",
    "assert np.allclose(e_v_states[:,:-1], v_states, atol=1e-5)\n",
    "assert np.allclose(e_v_states[:, -1], np.ones_like(e_v_states[:, -1]))"
   ]
  },
  {
   "cell_type": "code",
   "execution_count": 24,
   "metadata": {
    "cellView": null,
    "colab": {
     "autoexec": {
      "startup": false,
      "wait_interval": 0
     }
    },
    "colab_type": "code",
    "collapsed": true,
    "id": "slnWOT15u9gq"
   },
   "outputs": [],
   "source": [
    "#\n",
    "# Below we split the transition matrices into a readout part and a computational part\n",
    "#\n",
    "#\n",
    "\n",
    "\n",
    "def get_orth_complement(V, W):\n",
    "  \"\"\"\n",
    "  Find an orthonormal basis for span(V) and span(W).\n",
    "  \n",
    "  Args:\n",
    "    V: matrix of shape k * n\n",
    "    W: matrix of shape (n-k) * n\n",
    "    \n",
    "  Returns:\n",
    "    Pair of matrices:\n",
    "      V_orth: matrix of shape k * n\n",
    "      W_orth: matrix of shape (n-k) * n\n",
    "\n",
    "    such that the union of rows of V_orth and W_orth is an orthonormal basis\n",
    "    for R^n\n",
    "  \n",
    "  \"\"\"\n",
    "  assert V.shape[0] + W.shape[0] == V.shape[1] == W.shape[1]\n",
    "  V_orth = scipy.linalg.orth(V.T).T\n",
    "  coeffs = V_orth.dot(W.T) #coeffs_ij = <V_orth_i, W_j>\n",
    "  W_orth = W.copy()\n",
    "  for j in xrange(len(W)):\n",
    "    W_proj = np.sum(np.array([V_orth[i]*coeffs[i][j] for i in xrange(len(V_orth))]),axis=0)\n",
    "    W_orth[j]-=W_proj\n",
    "    \n",
    "  W_orth = scipy.linalg.orth(W_orth.T).T\n",
    "  \n",
    "  return V_orth, W_orth"
   ]
  },
  {
   "cell_type": "code",
   "execution_count": 25,
   "metadata": {
    "cellView": null,
    "colab": {
     "autoexec": {
      "startup": false,
      "wait_interval": 0
     }
    },
    "colab_type": "code",
    "collapsed": true,
    "id": "pE9b2icFfIU9"
   },
   "outputs": [],
   "source": [
    "e_V_orth, e_W_orth = get_orth_complement(\n",
    "    e_Wo.T, np.eye(e_Wo.shape[0]-e_Wo.shape[1], e_Wo.shape[0]))\n",
    "\n",
    "basis_change = np.hstack((e_Wo, e_W_orth.T))"
   ]
  },
  {
   "cell_type": "code",
   "execution_count": 26,
   "metadata": {
    "cellView": null,
    "colab": {
     "autoexec": {
      "startup": false,
      "wait_interval": 0
     },
     "output_extras": [
      {
       "item_id": 1
      }
     ]
    },
    "colab_type": "code",
    "collapsed": false,
    "executionInfo": {
     "elapsed": 839,
     "status": "ok",
     "timestamp": 1484365206485,
     "user": {
      "displayName": "Jan Chorowski",
      "photoUrl": "//lh5.googleusercontent.com/-CIawMzW6HLk/AAAAAAAAAAI/AAAAAAAAABY/YDJiClf-um8/s50-c-k-no/photo.jpg",
      "userId": "105360491181387708695"
     },
     "user_tz": 480
    },
    "id": "Zsqyi0rdFzfc",
    "outputId": "cf8fbcc5-18ae-4045-e5db-0b99c28809ff"
   },
   "outputs": [],
   "source": [
    "plt.figure(figsize=(10,5))\n",
    "\n",
    "paren_string = \"((aa))[][][]a([[[[[)))\"\n",
    "\n",
    "e_v_states, _ = e_simulate(paren_string)\n",
    "\n",
    "plt.subplot(1, 2, 1)\n",
    "plt.title(\"First %d dimensions aligned with output\" % (e_Wo.shape[1]))\n",
    "\n",
    "plt.imshow(e_v_states.dot(basis_change), interpolation='nearest', cmap='jet')\n",
    "plt.axis('tight')\n",
    "plt.vlines(e_Wo.shape[1]-0.5, *plt.ylim(), color='w')\n",
    "plt.colorbar()\n",
    "\n",
    "plt.yticks(*zip(*enumerate(paren_string)))\n",
    "plt.ylabel(\"time\")\n",
    "\n",
    "plt.xlabel(\"Hidden dimension\")\n",
    "\n",
    "plt.grid(False)\n",
    "\n",
    "\n",
    "plt.subplot(1, 2, 2)\n",
    "plt.title(\"Original basis\")\n",
    "plt.imshow(e_v_states, interpolation='nearest', cmap='jet')\n",
    "plt.axis('tight')\n",
    "plt.colorbar()\n",
    "\n",
    "plt.yticks(*zip(*enumerate(paren_string)))\n",
    "plt.ylabel(\"time\")\n",
    "\n",
    "plt.xlabel(\"Hidden dimension\")\n",
    "\n",
    "\n",
    "plt.grid(False)\n"
   ]
  },
  {
   "cell_type": "code",
   "execution_count": 28,
   "metadata": {
    "cellView": null,
    "colab": {
     "autoexec": {
      "startup": false,
      "wait_interval": 0
     },
     "output_extras": [
      {
       "item_id": 1
      },
      {
       "item_id": 2
      }
     ]
    },
    "colab_type": "code",
    "collapsed": false,
    "executionInfo": {
     "elapsed": 432,
     "status": "ok",
     "timestamp": 1484365206984,
     "user": {
      "displayName": "Jan Chorowski",
      "photoUrl": "//lh5.googleusercontent.com/-CIawMzW6HLk/AAAAAAAAAAI/AAAAAAAAABY/YDJiClf-um8/s50-c-k-no/photo.jpg",
      "userId": "105360491181387708695"
     },
     "user_tz": 480
    },
    "id": "jcjaPvxtEu2c",
    "outputId": "06847bd1-830c-49f6-fffb-bfca8f552284"
   },
   "outputs": [
    {
     "data": {
      "text/plain": [
       "<matplotlib.colorbar.Colorbar at 0x7f2398cac750>"
      ]
     },
     "execution_count": 28,
     "metadata": {},
     "output_type": "execute_result"
    },
    {
     "data": {
      "image/png": "[encoded data removed]",
      "text/plain": [
       "<matplotlib.figure.Figure at 0x7f2399e3f310>"
      ]
     },
     "metadata": {},
     "output_type": "display_data"
    }
   ],
   "source": [
    "TOKEN = ']'\n",
    "# First express e_Wx in the new basis:\n",
    "basis_aligned_Wx = np.linalg.inv(basis_change\n",
    "                                ).dot(e_Wx[S[TOKEN]]).dot(basis_change)\n",
    "\n",
    "# Our model has an extra degree of freedom: the first dimensions of the hidden \n",
    "# state have exactly two elements equal to 1. We will subtract their influence\n",
    "\n",
    "block_size = task.max_count+1\n",
    "for p in range(task.n_paren_types):\n",
    "  basis_aligned_Wx[p*block_size:(p+1)*block_size, :] -= np.median(\n",
    "      basis_aligned_Wx[p*block_size:(p+1)*block_size, :], axis=0, keepdims=True)\n",
    "\n",
    "plt.imshow(basis_aligned_Wx, \n",
    "           interpolation='nearest', cmap='jet')\n",
    "plt.grid(False)\n",
    "plt.vlines(e_Wo.shape[1]-0.5, *plt.ylim(), color='w')\n",
    "\n",
    "plt.title(\"Transition matrix for '%s'.\" % (TOKEN,))\n",
    "plt.xlabel(\"Neuron outputs\")\n",
    "plt.ylabel(\"Neuron inputs\")\n",
    "plt.colorbar()"
   ]
  },
  {
   "cell_type": "code",
   "execution_count": 29,
   "metadata": {
    "cellView": null,
    "colab": {
     "autoexec": {
      "startup": false,
      "wait_interval": 0
     },
     "output_extras": [
      {
       "item_id": 1
      }
     ]
    },
    "colab_type": "code",
    "collapsed": false,
    "executionInfo": {
     "elapsed": 2261,
     "status": "ok",
     "timestamp": 1484376218576,
     "user": {
      "displayName": "Jan Chorowski",
      "photoUrl": "//lh5.googleusercontent.com/-CIawMzW6HLk/AAAAAAAAAAI/AAAAAAAAABY/YDJiClf-um8/s50-c-k-no/photo.jpg",
      "userId": "105360491181387708695"
     },
     "user_tz": 480
    },
    "id": "CwZa8ZghPgRo",
    "outputId": "46e9a6db-12ab-444f-a3ad-448d31f47687"
   },
   "outputs": [
    {
     "data": {
      "image/png": "[encoded data removed]",
      "text/plain": [
       "<matplotlib.figure.Figure at 0x7f241072ddd0>"
      ]
     },
     "metadata": {},
     "output_type": "display_data"
    }
   ],
   "source": [
    "#\n",
    "# This plot is a recreation of Fig. 10 from the paper - all matrices are transposed with the respect\n",
    "# to the convention used in the code above.\n",
    "#\n",
    "\n",
    "paren_string = \"((aa))[][][]a([[[[[)))a)a{{}{}aa[]a([[[[[)((aa))[][][]a([[[[[)))a)a(a[])aa[]a([[[[[)\"[:50]\n",
    "\n",
    "e_v_states, _ = e_simulate(paren_string)\n",
    "\n",
    "\n",
    "TOKEN = '('\n",
    "# First express e_Wx in the new basis:\n",
    "basis_aligned_Wx = np.linalg.inv(basis_change\n",
    "                                ).dot(e_Wx[S[TOKEN]]).dot(basis_change)\n",
    "\n",
    "# Our model has an extra degree of freedom: the first dimensions of the hidden \n",
    "# state have exactly n_paren_types elements equal to 1. Here we will subtract\n",
    "# their influence\n",
    "\n",
    "block_size = task.max_count+1\n",
    "for p in range(task.n_paren_types):\n",
    "  basis_aligned_Wx[p*block_size:(p+1)*block_size, :] -= np.median(\n",
    "      basis_aligned_Wx[p*block_size:(p+1)*block_size, :], axis=0, keepdims=True)\n",
    "\n",
    "\n",
    "plt.figure(figsize=(9,9))\n",
    "\n",
    "plt.subplot(221)\n",
    "\n",
    "\n",
    "plt.imshow(e_Wx[S[TOKEN]].T, \n",
    "           interpolation='nearest', cmap='jet', vmin=-1, vmax=1)\n",
    "plt.grid(False)\n",
    "\n",
    "plt.title(\"Transition matrix for '%s' in original basis.\" % (TOKEN,))\n",
    "#plt.colorbar()\n",
    "\n",
    "plt.xlabel(\" \\na)\")\n",
    "\n",
    "plt.subplot(222)\n",
    "\n",
    "plt.title(\"Hidden states in the original basis\")\n",
    "\n",
    "plt.imshow(e_v_states.T,\n",
    "           interpolation='nearest', cmap='jet', vmin=-1, vmax=1)\n",
    "#plt.axis('equal')\n",
    "#plt.colorbar()\n",
    "\n",
    "plt.xticks(*zip(*enumerate(paren_string)))\n",
    "plt.xlabel(\"\\nb)\")\n",
    "\n",
    "plt.ylabel(\"Hidden dimension\")\n",
    "\n",
    "plt.grid(False)\n",
    "\n",
    "plt.subplot(223)\n",
    "\n",
    "\n",
    "plt.imshow(basis_aligned_Wx.T, \n",
    "           interpolation='nearest', cmap='jet', vmin=-1, vmax=1)\n",
    "plt.grid(False)\n",
    "plt.vlines(e_Wo.shape[1]-0.5, *plt.ylim(), color='w')\n",
    "\n",
    "plt.title(\"Transition matrix for '%s'\\nwhen hidden state is output-oriented.\" % (TOKEN,))\n",
    "#plt.colorbar()\n",
    "\n",
    "plt.xlabel(\" \\nc)\")\n",
    "\n",
    "plt.subplot(224) #, sharex=plt.gca(), sharey=plt.gca())\n",
    "\n",
    "plt.title(\"Hidden state in output-oriented basis\\n(first %d dimensions are aligned with output).\" % (e_Wo.shape[1]))\n",
    "\n",
    "plt.imshow(e_v_states.dot(basis_change).T,\n",
    "           interpolation='nearest', cmap='jet', vmin=-1, vmax=1)\n",
    "#plt.axis('equal')\n",
    "plt.hlines(e_Wo.shape[1]-0.5, *plt.xlim(), color='w')\n",
    "#plt.colorbar()\n",
    "\n",
    "plt.xticks(*zip(*enumerate(paren_string)))\n",
    "plt.xlabel(\"\\nd)\")\n",
    "\n",
    "plt.ylabel(\"Hidden dimension\")\n",
    "\n",
    "plt.grid(False)\n",
    "\n",
    "\n",
    "\n",
    "plt.tight_layout()\n",
    "\n",
    "plt.savefig(\"/tmp/fig.pdf\", dpi=300)"
   ]
  },
  {
   "cell_type": "code",
   "execution_count": null,
   "metadata": {
    "collapsed": true
   },
   "outputs": [],
   "source": []
  }
 ],
 "metadata": {
  "anaconda-cloud": {},
  "kernelspec": {
   "display_name": "Python [default]",
   "language": "python",
   "name": "python2"
  },
  "language_info": {
   "codemirror_mode": {
    "name": "ipython",
    "version": 2
   },
   "file_extension": ".py",
   "mimetype": "text/x-python",
   "name": "python",
   "nbconvert_exporter": "python",
   "pygments_lexer": "ipython2",
   "version": "2.7.12"
  }
 },
 "nbformat": 4,
 "nbformat_minor": 0
}
